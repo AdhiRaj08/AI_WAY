{
  "nbformat": 4,
  "nbformat_minor": 0,
  "metadata": {
    "colab": {
      "provenance": []
    },
    "kernelspec": {
      "name": "python3",
      "display_name": "Python 3"
    },
    "language_info": {
      "name": "python"
    },
    "widgets": {
      "application/vnd.jupyter.widget-state+json": {
        "7a0c795be3dd4caba4379fa5cc762439": {
          "model_module": "@jupyter-widgets/controls",
          "model_name": "HBoxModel",
          "model_module_version": "1.5.0",
          "state": {
            "_dom_classes": [],
            "_model_module": "@jupyter-widgets/controls",
            "_model_module_version": "1.5.0",
            "_model_name": "HBoxModel",
            "_view_count": null,
            "_view_module": "@jupyter-widgets/controls",
            "_view_module_version": "1.5.0",
            "_view_name": "HBoxView",
            "box_style": "",
            "children": [
              "IPY_MODEL_675a482dc0c349dab9e19d3acd4743e6",
              "IPY_MODEL_a07a8ffc2b094f308bcbd1debc420eb7",
              "IPY_MODEL_f83919cd9c574bf09f32c7cab8c18220"
            ],
            "layout": "IPY_MODEL_363a5a1fe8ca42a5a340847b987ae9f6"
          }
        },
        "675a482dc0c349dab9e19d3acd4743e6": {
          "model_module": "@jupyter-widgets/controls",
          "model_name": "HTMLModel",
          "model_module_version": "1.5.0",
          "state": {
            "_dom_classes": [],
            "_model_module": "@jupyter-widgets/controls",
            "_model_module_version": "1.5.0",
            "_model_name": "HTMLModel",
            "_view_count": null,
            "_view_module": "@jupyter-widgets/controls",
            "_view_module_version": "1.5.0",
            "_view_name": "HTMLView",
            "description": "",
            "description_tooltip": null,
            "layout": "IPY_MODEL_f418e9cc2b744ebea4ab8dd2b452f252",
            "placeholder": "​",
            "style": "IPY_MODEL_a13e09b6d2e0449686d02692f072dac2",
            "value": "config.json: 100%"
          }
        },
        "a07a8ffc2b094f308bcbd1debc420eb7": {
          "model_module": "@jupyter-widgets/controls",
          "model_name": "FloatProgressModel",
          "model_module_version": "1.5.0",
          "state": {
            "_dom_classes": [],
            "_model_module": "@jupyter-widgets/controls",
            "_model_module_version": "1.5.0",
            "_model_name": "FloatProgressModel",
            "_view_count": null,
            "_view_module": "@jupyter-widgets/controls",
            "_view_module_version": "1.5.0",
            "_view_name": "ProgressView",
            "bar_style": "success",
            "description": "",
            "description_tooltip": null,
            "layout": "IPY_MODEL_aeb531a92d244ed7aa879e30c1fe5d74",
            "max": 835,
            "min": 0,
            "orientation": "horizontal",
            "style": "IPY_MODEL_1f0bc872e6bd4dfb93d063690b5e5794",
            "value": 835
          }
        },
        "f83919cd9c574bf09f32c7cab8c18220": {
          "model_module": "@jupyter-widgets/controls",
          "model_name": "HTMLModel",
          "model_module_version": "1.5.0",
          "state": {
            "_dom_classes": [],
            "_model_module": "@jupyter-widgets/controls",
            "_model_module_version": "1.5.0",
            "_model_name": "HTMLModel",
            "_view_count": null,
            "_view_module": "@jupyter-widgets/controls",
            "_view_module_version": "1.5.0",
            "_view_name": "HTMLView",
            "description": "",
            "description_tooltip": null,
            "layout": "IPY_MODEL_13660e4464054c688f7fd3790eb98752",
            "placeholder": "​",
            "style": "IPY_MODEL_5889b46057ed4ae7bed536dacc78510d",
            "value": " 835/835 [00:00&lt;00:00, 52.9kB/s]"
          }
        },
        "363a5a1fe8ca42a5a340847b987ae9f6": {
          "model_module": "@jupyter-widgets/base",
          "model_name": "LayoutModel",
          "model_module_version": "1.2.0",
          "state": {
            "_model_module": "@jupyter-widgets/base",
            "_model_module_version": "1.2.0",
            "_model_name": "LayoutModel",
            "_view_count": null,
            "_view_module": "@jupyter-widgets/base",
            "_view_module_version": "1.2.0",
            "_view_name": "LayoutView",
            "align_content": null,
            "align_items": null,
            "align_self": null,
            "border": null,
            "bottom": null,
            "display": null,
            "flex": null,
            "flex_flow": null,
            "grid_area": null,
            "grid_auto_columns": null,
            "grid_auto_flow": null,
            "grid_auto_rows": null,
            "grid_column": null,
            "grid_gap": null,
            "grid_row": null,
            "grid_template_areas": null,
            "grid_template_columns": null,
            "grid_template_rows": null,
            "height": null,
            "justify_content": null,
            "justify_items": null,
            "left": null,
            "margin": null,
            "max_height": null,
            "max_width": null,
            "min_height": null,
            "min_width": null,
            "object_fit": null,
            "object_position": null,
            "order": null,
            "overflow": null,
            "overflow_x": null,
            "overflow_y": null,
            "padding": null,
            "right": null,
            "top": null,
            "visibility": null,
            "width": null
          }
        },
        "f418e9cc2b744ebea4ab8dd2b452f252": {
          "model_module": "@jupyter-widgets/base",
          "model_name": "LayoutModel",
          "model_module_version": "1.2.0",
          "state": {
            "_model_module": "@jupyter-widgets/base",
            "_model_module_version": "1.2.0",
            "_model_name": "LayoutModel",
            "_view_count": null,
            "_view_module": "@jupyter-widgets/base",
            "_view_module_version": "1.2.0",
            "_view_name": "LayoutView",
            "align_content": null,
            "align_items": null,
            "align_self": null,
            "border": null,
            "bottom": null,
            "display": null,
            "flex": null,
            "flex_flow": null,
            "grid_area": null,
            "grid_auto_columns": null,
            "grid_auto_flow": null,
            "grid_auto_rows": null,
            "grid_column": null,
            "grid_gap": null,
            "grid_row": null,
            "grid_template_areas": null,
            "grid_template_columns": null,
            "grid_template_rows": null,
            "height": null,
            "justify_content": null,
            "justify_items": null,
            "left": null,
            "margin": null,
            "max_height": null,
            "max_width": null,
            "min_height": null,
            "min_width": null,
            "object_fit": null,
            "object_position": null,
            "order": null,
            "overflow": null,
            "overflow_x": null,
            "overflow_y": null,
            "padding": null,
            "right": null,
            "top": null,
            "visibility": null,
            "width": null
          }
        },
        "a13e09b6d2e0449686d02692f072dac2": {
          "model_module": "@jupyter-widgets/controls",
          "model_name": "DescriptionStyleModel",
          "model_module_version": "1.5.0",
          "state": {
            "_model_module": "@jupyter-widgets/controls",
            "_model_module_version": "1.5.0",
            "_model_name": "DescriptionStyleModel",
            "_view_count": null,
            "_view_module": "@jupyter-widgets/base",
            "_view_module_version": "1.2.0",
            "_view_name": "StyleView",
            "description_width": ""
          }
        },
        "aeb531a92d244ed7aa879e30c1fe5d74": {
          "model_module": "@jupyter-widgets/base",
          "model_name": "LayoutModel",
          "model_module_version": "1.2.0",
          "state": {
            "_model_module": "@jupyter-widgets/base",
            "_model_module_version": "1.2.0",
            "_model_name": "LayoutModel",
            "_view_count": null,
            "_view_module": "@jupyter-widgets/base",
            "_view_module_version": "1.2.0",
            "_view_name": "LayoutView",
            "align_content": null,
            "align_items": null,
            "align_self": null,
            "border": null,
            "bottom": null,
            "display": null,
            "flex": null,
            "flex_flow": null,
            "grid_area": null,
            "grid_auto_columns": null,
            "grid_auto_flow": null,
            "grid_auto_rows": null,
            "grid_column": null,
            "grid_gap": null,
            "grid_row": null,
            "grid_template_areas": null,
            "grid_template_columns": null,
            "grid_template_rows": null,
            "height": null,
            "justify_content": null,
            "justify_items": null,
            "left": null,
            "margin": null,
            "max_height": null,
            "max_width": null,
            "min_height": null,
            "min_width": null,
            "object_fit": null,
            "object_position": null,
            "order": null,
            "overflow": null,
            "overflow_x": null,
            "overflow_y": null,
            "padding": null,
            "right": null,
            "top": null,
            "visibility": null,
            "width": null
          }
        },
        "1f0bc872e6bd4dfb93d063690b5e5794": {
          "model_module": "@jupyter-widgets/controls",
          "model_name": "ProgressStyleModel",
          "model_module_version": "1.5.0",
          "state": {
            "_model_module": "@jupyter-widgets/controls",
            "_model_module_version": "1.5.0",
            "_model_name": "ProgressStyleModel",
            "_view_count": null,
            "_view_module": "@jupyter-widgets/base",
            "_view_module_version": "1.2.0",
            "_view_name": "StyleView",
            "bar_color": null,
            "description_width": ""
          }
        },
        "13660e4464054c688f7fd3790eb98752": {
          "model_module": "@jupyter-widgets/base",
          "model_name": "LayoutModel",
          "model_module_version": "1.2.0",
          "state": {
            "_model_module": "@jupyter-widgets/base",
            "_model_module_version": "1.2.0",
            "_model_name": "LayoutModel",
            "_view_count": null,
            "_view_module": "@jupyter-widgets/base",
            "_view_module_version": "1.2.0",
            "_view_name": "LayoutView",
            "align_content": null,
            "align_items": null,
            "align_self": null,
            "border": null,
            "bottom": null,
            "display": null,
            "flex": null,
            "flex_flow": null,
            "grid_area": null,
            "grid_auto_columns": null,
            "grid_auto_flow": null,
            "grid_auto_rows": null,
            "grid_column": null,
            "grid_gap": null,
            "grid_row": null,
            "grid_template_areas": null,
            "grid_template_columns": null,
            "grid_template_rows": null,
            "height": null,
            "justify_content": null,
            "justify_items": null,
            "left": null,
            "margin": null,
            "max_height": null,
            "max_width": null,
            "min_height": null,
            "min_width": null,
            "object_fit": null,
            "object_position": null,
            "order": null,
            "overflow": null,
            "overflow_x": null,
            "overflow_y": null,
            "padding": null,
            "right": null,
            "top": null,
            "visibility": null,
            "width": null
          }
        },
        "5889b46057ed4ae7bed536dacc78510d": {
          "model_module": "@jupyter-widgets/controls",
          "model_name": "DescriptionStyleModel",
          "model_module_version": "1.5.0",
          "state": {
            "_model_module": "@jupyter-widgets/controls",
            "_model_module_version": "1.5.0",
            "_model_name": "DescriptionStyleModel",
            "_view_count": null,
            "_view_module": "@jupyter-widgets/base",
            "_view_module_version": "1.2.0",
            "_view_name": "StyleView",
            "description_width": ""
          }
        },
        "2b840f37bb0d4328a5de5bb1004dae7c": {
          "model_module": "@jupyter-widgets/controls",
          "model_name": "HBoxModel",
          "model_module_version": "1.5.0",
          "state": {
            "_dom_classes": [],
            "_model_module": "@jupyter-widgets/controls",
            "_model_module_version": "1.5.0",
            "_model_name": "HBoxModel",
            "_view_count": null,
            "_view_module": "@jupyter-widgets/controls",
            "_view_module_version": "1.5.0",
            "_view_name": "HBoxView",
            "box_style": "",
            "children": [
              "IPY_MODEL_332f6a01b77c4d1c98bdfbe2ea601f31",
              "IPY_MODEL_e94a7828a75f44e1ab9ef35607f2115e",
              "IPY_MODEL_2cb142d108054db18cfcd16cbc8d89b0"
            ],
            "layout": "IPY_MODEL_6356a9261d9a4dc9bb3b061f673e29b0"
          }
        },
        "332f6a01b77c4d1c98bdfbe2ea601f31": {
          "model_module": "@jupyter-widgets/controls",
          "model_name": "HTMLModel",
          "model_module_version": "1.5.0",
          "state": {
            "_dom_classes": [],
            "_model_module": "@jupyter-widgets/controls",
            "_model_module_version": "1.5.0",
            "_model_name": "HTMLModel",
            "_view_count": null,
            "_view_module": "@jupyter-widgets/controls",
            "_view_module_version": "1.5.0",
            "_view_name": "HTMLView",
            "description": "",
            "description_tooltip": null,
            "layout": "IPY_MODEL_e8bbfe3666834c79a69eb4189510f891",
            "placeholder": "​",
            "style": "IPY_MODEL_3b124e0622c84308921bb49d98e1f337",
            "value": "model.safetensors: 100%"
          }
        },
        "e94a7828a75f44e1ab9ef35607f2115e": {
          "model_module": "@jupyter-widgets/controls",
          "model_name": "FloatProgressModel",
          "model_module_version": "1.5.0",
          "state": {
            "_dom_classes": [],
            "_model_module": "@jupyter-widgets/controls",
            "_model_module_version": "1.5.0",
            "_model_name": "FloatProgressModel",
            "_view_count": null,
            "_view_module": "@jupyter-widgets/controls",
            "_view_module_version": "1.5.0",
            "_view_name": "ProgressView",
            "bar_style": "success",
            "description": "",
            "description_tooltip": null,
            "layout": "IPY_MODEL_0808c9af66e44daca897808388b6e82b",
            "max": 326133904,
            "min": 0,
            "orientation": "horizontal",
            "style": "IPY_MODEL_179a6c7c044d4e4abb006310232e9781",
            "value": 326133904
          }
        },
        "2cb142d108054db18cfcd16cbc8d89b0": {
          "model_module": "@jupyter-widgets/controls",
          "model_name": "HTMLModel",
          "model_module_version": "1.5.0",
          "state": {
            "_dom_classes": [],
            "_model_module": "@jupyter-widgets/controls",
            "_model_module_version": "1.5.0",
            "_model_name": "HTMLModel",
            "_view_count": null,
            "_view_module": "@jupyter-widgets/controls",
            "_view_module_version": "1.5.0",
            "_view_name": "HTMLView",
            "description": "",
            "description_tooltip": null,
            "layout": "IPY_MODEL_0ac71510fe0b494a8e62fb79dc8b4cb0",
            "placeholder": "​",
            "style": "IPY_MODEL_346c7b620f1b4a4ebb9036474e723b2f",
            "value": " 326M/326M [00:01&lt;00:00, 190MB/s]"
          }
        },
        "6356a9261d9a4dc9bb3b061f673e29b0": {
          "model_module": "@jupyter-widgets/base",
          "model_name": "LayoutModel",
          "model_module_version": "1.2.0",
          "state": {
            "_model_module": "@jupyter-widgets/base",
            "_model_module_version": "1.2.0",
            "_model_name": "LayoutModel",
            "_view_count": null,
            "_view_module": "@jupyter-widgets/base",
            "_view_module_version": "1.2.0",
            "_view_name": "LayoutView",
            "align_content": null,
            "align_items": null,
            "align_self": null,
            "border": null,
            "bottom": null,
            "display": null,
            "flex": null,
            "flex_flow": null,
            "grid_area": null,
            "grid_auto_columns": null,
            "grid_auto_flow": null,
            "grid_auto_rows": null,
            "grid_column": null,
            "grid_gap": null,
            "grid_row": null,
            "grid_template_areas": null,
            "grid_template_columns": null,
            "grid_template_rows": null,
            "height": null,
            "justify_content": null,
            "justify_items": null,
            "left": null,
            "margin": null,
            "max_height": null,
            "max_width": null,
            "min_height": null,
            "min_width": null,
            "object_fit": null,
            "object_position": null,
            "order": null,
            "overflow": null,
            "overflow_x": null,
            "overflow_y": null,
            "padding": null,
            "right": null,
            "top": null,
            "visibility": null,
            "width": null
          }
        },
        "e8bbfe3666834c79a69eb4189510f891": {
          "model_module": "@jupyter-widgets/base",
          "model_name": "LayoutModel",
          "model_module_version": "1.2.0",
          "state": {
            "_model_module": "@jupyter-widgets/base",
            "_model_module_version": "1.2.0",
            "_model_name": "LayoutModel",
            "_view_count": null,
            "_view_module": "@jupyter-widgets/base",
            "_view_module_version": "1.2.0",
            "_view_name": "LayoutView",
            "align_content": null,
            "align_items": null,
            "align_self": null,
            "border": null,
            "bottom": null,
            "display": null,
            "flex": null,
            "flex_flow": null,
            "grid_area": null,
            "grid_auto_columns": null,
            "grid_auto_flow": null,
            "grid_auto_rows": null,
            "grid_column": null,
            "grid_gap": null,
            "grid_row": null,
            "grid_template_areas": null,
            "grid_template_columns": null,
            "grid_template_rows": null,
            "height": null,
            "justify_content": null,
            "justify_items": null,
            "left": null,
            "margin": null,
            "max_height": null,
            "max_width": null,
            "min_height": null,
            "min_width": null,
            "object_fit": null,
            "object_position": null,
            "order": null,
            "overflow": null,
            "overflow_x": null,
            "overflow_y": null,
            "padding": null,
            "right": null,
            "top": null,
            "visibility": null,
            "width": null
          }
        },
        "3b124e0622c84308921bb49d98e1f337": {
          "model_module": "@jupyter-widgets/controls",
          "model_name": "DescriptionStyleModel",
          "model_module_version": "1.5.0",
          "state": {
            "_model_module": "@jupyter-widgets/controls",
            "_model_module_version": "1.5.0",
            "_model_name": "DescriptionStyleModel",
            "_view_count": null,
            "_view_module": "@jupyter-widgets/base",
            "_view_module_version": "1.2.0",
            "_view_name": "StyleView",
            "description_width": ""
          }
        },
        "0808c9af66e44daca897808388b6e82b": {
          "model_module": "@jupyter-widgets/base",
          "model_name": "LayoutModel",
          "model_module_version": "1.2.0",
          "state": {
            "_model_module": "@jupyter-widgets/base",
            "_model_module_version": "1.2.0",
            "_model_name": "LayoutModel",
            "_view_count": null,
            "_view_module": "@jupyter-widgets/base",
            "_view_module_version": "1.2.0",
            "_view_name": "LayoutView",
            "align_content": null,
            "align_items": null,
            "align_self": null,
            "border": null,
            "bottom": null,
            "display": null,
            "flex": null,
            "flex_flow": null,
            "grid_area": null,
            "grid_auto_columns": null,
            "grid_auto_flow": null,
            "grid_auto_rows": null,
            "grid_column": null,
            "grid_gap": null,
            "grid_row": null,
            "grid_template_areas": null,
            "grid_template_columns": null,
            "grid_template_rows": null,
            "height": null,
            "justify_content": null,
            "justify_items": null,
            "left": null,
            "margin": null,
            "max_height": null,
            "max_width": null,
            "min_height": null,
            "min_width": null,
            "object_fit": null,
            "object_position": null,
            "order": null,
            "overflow": null,
            "overflow_x": null,
            "overflow_y": null,
            "padding": null,
            "right": null,
            "top": null,
            "visibility": null,
            "width": null
          }
        },
        "179a6c7c044d4e4abb006310232e9781": {
          "model_module": "@jupyter-widgets/controls",
          "model_name": "ProgressStyleModel",
          "model_module_version": "1.5.0",
          "state": {
            "_model_module": "@jupyter-widgets/controls",
            "_model_module_version": "1.5.0",
            "_model_name": "ProgressStyleModel",
            "_view_count": null,
            "_view_module": "@jupyter-widgets/base",
            "_view_module_version": "1.2.0",
            "_view_name": "StyleView",
            "bar_color": null,
            "description_width": ""
          }
        },
        "0ac71510fe0b494a8e62fb79dc8b4cb0": {
          "model_module": "@jupyter-widgets/base",
          "model_name": "LayoutModel",
          "model_module_version": "1.2.0",
          "state": {
            "_model_module": "@jupyter-widgets/base",
            "_model_module_version": "1.2.0",
            "_model_name": "LayoutModel",
            "_view_count": null,
            "_view_module": "@jupyter-widgets/base",
            "_view_module_version": "1.2.0",
            "_view_name": "LayoutView",
            "align_content": null,
            "align_items": null,
            "align_self": null,
            "border": null,
            "bottom": null,
            "display": null,
            "flex": null,
            "flex_flow": null,
            "grid_area": null,
            "grid_auto_columns": null,
            "grid_auto_flow": null,
            "grid_auto_rows": null,
            "grid_column": null,
            "grid_gap": null,
            "grid_row": null,
            "grid_template_areas": null,
            "grid_template_columns": null,
            "grid_template_rows": null,
            "height": null,
            "justify_content": null,
            "justify_items": null,
            "left": null,
            "margin": null,
            "max_height": null,
            "max_width": null,
            "min_height": null,
            "min_width": null,
            "object_fit": null,
            "object_position": null,
            "order": null,
            "overflow": null,
            "overflow_x": null,
            "overflow_y": null,
            "padding": null,
            "right": null,
            "top": null,
            "visibility": null,
            "width": null
          }
        },
        "346c7b620f1b4a4ebb9036474e723b2f": {
          "model_module": "@jupyter-widgets/controls",
          "model_name": "DescriptionStyleModel",
          "model_module_version": "1.5.0",
          "state": {
            "_model_module": "@jupyter-widgets/controls",
            "_model_module_version": "1.5.0",
            "_model_name": "DescriptionStyleModel",
            "_view_count": null,
            "_view_module": "@jupyter-widgets/base",
            "_view_module_version": "1.2.0",
            "_view_name": "StyleView",
            "description_width": ""
          }
        },
        "0bf1e7575bac423d82ee7ab7677208d6": {
          "model_module": "@jupyter-widgets/controls",
          "model_name": "HBoxModel",
          "model_module_version": "1.5.0",
          "state": {
            "_dom_classes": [],
            "_model_module": "@jupyter-widgets/controls",
            "_model_module_version": "1.5.0",
            "_model_name": "HBoxModel",
            "_view_count": null,
            "_view_module": "@jupyter-widgets/controls",
            "_view_module_version": "1.5.0",
            "_view_name": "HBoxView",
            "box_style": "",
            "children": [
              "IPY_MODEL_a1ac9326cfa245429f2846a3164f4913",
              "IPY_MODEL_b47c4f9d11b6462593f84c3b9a257e00",
              "IPY_MODEL_294c3fce929a4bf98fd9c9945328bdfa"
            ],
            "layout": "IPY_MODEL_3587c54fe7af4b3fb476b40ea2ba998a"
          }
        },
        "a1ac9326cfa245429f2846a3164f4913": {
          "model_module": "@jupyter-widgets/controls",
          "model_name": "HTMLModel",
          "model_module_version": "1.5.0",
          "state": {
            "_dom_classes": [],
            "_model_module": "@jupyter-widgets/controls",
            "_model_module_version": "1.5.0",
            "_model_name": "HTMLModel",
            "_view_count": null,
            "_view_module": "@jupyter-widgets/controls",
            "_view_module_version": "1.5.0",
            "_view_name": "HTMLView",
            "description": "",
            "description_tooltip": null,
            "layout": "IPY_MODEL_1e211c32f37b4cd3b03d57797ab09147",
            "placeholder": "​",
            "style": "IPY_MODEL_b22819e51c1044ddb35e7ce01c3f85aa",
            "value": "tokenizer_config.json: 100%"
          }
        },
        "b47c4f9d11b6462593f84c3b9a257e00": {
          "model_module": "@jupyter-widgets/controls",
          "model_name": "FloatProgressModel",
          "model_module_version": "1.5.0",
          "state": {
            "_dom_classes": [],
            "_model_module": "@jupyter-widgets/controls",
            "_model_module_version": "1.5.0",
            "_model_name": "FloatProgressModel",
            "_view_count": null,
            "_view_module": "@jupyter-widgets/controls",
            "_view_module_version": "1.5.0",
            "_view_name": "ProgressView",
            "bar_style": "success",
            "description": "",
            "description_tooltip": null,
            "layout": "IPY_MODEL_1db0f5ebb0014a9bb6808c5233801e88",
            "max": 383,
            "min": 0,
            "orientation": "horizontal",
            "style": "IPY_MODEL_ef7070d86ed24901adc14b866f171c64",
            "value": 383
          }
        },
        "294c3fce929a4bf98fd9c9945328bdfa": {
          "model_module": "@jupyter-widgets/controls",
          "model_name": "HTMLModel",
          "model_module_version": "1.5.0",
          "state": {
            "_dom_classes": [],
            "_model_module": "@jupyter-widgets/controls",
            "_model_module_version": "1.5.0",
            "_model_name": "HTMLModel",
            "_view_count": null,
            "_view_module": "@jupyter-widgets/controls",
            "_view_module_version": "1.5.0",
            "_view_name": "HTMLView",
            "description": "",
            "description_tooltip": null,
            "layout": "IPY_MODEL_f38f69494d104cd89580d785ac85726e",
            "placeholder": "​",
            "style": "IPY_MODEL_ae0eda5053b745f1bc4ca8195fa7488d",
            "value": " 383/383 [00:00&lt;00:00, 23.4kB/s]"
          }
        },
        "3587c54fe7af4b3fb476b40ea2ba998a": {
          "model_module": "@jupyter-widgets/base",
          "model_name": "LayoutModel",
          "model_module_version": "1.2.0",
          "state": {
            "_model_module": "@jupyter-widgets/base",
            "_model_module_version": "1.2.0",
            "_model_name": "LayoutModel",
            "_view_count": null,
            "_view_module": "@jupyter-widgets/base",
            "_view_module_version": "1.2.0",
            "_view_name": "LayoutView",
            "align_content": null,
            "align_items": null,
            "align_self": null,
            "border": null,
            "bottom": null,
            "display": null,
            "flex": null,
            "flex_flow": null,
            "grid_area": null,
            "grid_auto_columns": null,
            "grid_auto_flow": null,
            "grid_auto_rows": null,
            "grid_column": null,
            "grid_gap": null,
            "grid_row": null,
            "grid_template_areas": null,
            "grid_template_columns": null,
            "grid_template_rows": null,
            "height": null,
            "justify_content": null,
            "justify_items": null,
            "left": null,
            "margin": null,
            "max_height": null,
            "max_width": null,
            "min_height": null,
            "min_width": null,
            "object_fit": null,
            "object_position": null,
            "order": null,
            "overflow": null,
            "overflow_x": null,
            "overflow_y": null,
            "padding": null,
            "right": null,
            "top": null,
            "visibility": null,
            "width": null
          }
        },
        "1e211c32f37b4cd3b03d57797ab09147": {
          "model_module": "@jupyter-widgets/base",
          "model_name": "LayoutModel",
          "model_module_version": "1.2.0",
          "state": {
            "_model_module": "@jupyter-widgets/base",
            "_model_module_version": "1.2.0",
            "_model_name": "LayoutModel",
            "_view_count": null,
            "_view_module": "@jupyter-widgets/base",
            "_view_module_version": "1.2.0",
            "_view_name": "LayoutView",
            "align_content": null,
            "align_items": null,
            "align_self": null,
            "border": null,
            "bottom": null,
            "display": null,
            "flex": null,
            "flex_flow": null,
            "grid_area": null,
            "grid_auto_columns": null,
            "grid_auto_flow": null,
            "grid_auto_rows": null,
            "grid_column": null,
            "grid_gap": null,
            "grid_row": null,
            "grid_template_areas": null,
            "grid_template_columns": null,
            "grid_template_rows": null,
            "height": null,
            "justify_content": null,
            "justify_items": null,
            "left": null,
            "margin": null,
            "max_height": null,
            "max_width": null,
            "min_height": null,
            "min_width": null,
            "object_fit": null,
            "object_position": null,
            "order": null,
            "overflow": null,
            "overflow_x": null,
            "overflow_y": null,
            "padding": null,
            "right": null,
            "top": null,
            "visibility": null,
            "width": null
          }
        },
        "b22819e51c1044ddb35e7ce01c3f85aa": {
          "model_module": "@jupyter-widgets/controls",
          "model_name": "DescriptionStyleModel",
          "model_module_version": "1.5.0",
          "state": {
            "_model_module": "@jupyter-widgets/controls",
            "_model_module_version": "1.5.0",
            "_model_name": "DescriptionStyleModel",
            "_view_count": null,
            "_view_module": "@jupyter-widgets/base",
            "_view_module_version": "1.2.0",
            "_view_name": "StyleView",
            "description_width": ""
          }
        },
        "1db0f5ebb0014a9bb6808c5233801e88": {
          "model_module": "@jupyter-widgets/base",
          "model_name": "LayoutModel",
          "model_module_version": "1.2.0",
          "state": {
            "_model_module": "@jupyter-widgets/base",
            "_model_module_version": "1.2.0",
            "_model_name": "LayoutModel",
            "_view_count": null,
            "_view_module": "@jupyter-widgets/base",
            "_view_module_version": "1.2.0",
            "_view_name": "LayoutView",
            "align_content": null,
            "align_items": null,
            "align_self": null,
            "border": null,
            "bottom": null,
            "display": null,
            "flex": null,
            "flex_flow": null,
            "grid_area": null,
            "grid_auto_columns": null,
            "grid_auto_flow": null,
            "grid_auto_rows": null,
            "grid_column": null,
            "grid_gap": null,
            "grid_row": null,
            "grid_template_areas": null,
            "grid_template_columns": null,
            "grid_template_rows": null,
            "height": null,
            "justify_content": null,
            "justify_items": null,
            "left": null,
            "margin": null,
            "max_height": null,
            "max_width": null,
            "min_height": null,
            "min_width": null,
            "object_fit": null,
            "object_position": null,
            "order": null,
            "overflow": null,
            "overflow_x": null,
            "overflow_y": null,
            "padding": null,
            "right": null,
            "top": null,
            "visibility": null,
            "width": null
          }
        },
        "ef7070d86ed24901adc14b866f171c64": {
          "model_module": "@jupyter-widgets/controls",
          "model_name": "ProgressStyleModel",
          "model_module_version": "1.5.0",
          "state": {
            "_model_module": "@jupyter-widgets/controls",
            "_model_module_version": "1.5.0",
            "_model_name": "ProgressStyleModel",
            "_view_count": null,
            "_view_module": "@jupyter-widgets/base",
            "_view_module_version": "1.2.0",
            "_view_name": "StyleView",
            "bar_color": null,
            "description_width": ""
          }
        },
        "f38f69494d104cd89580d785ac85726e": {
          "model_module": "@jupyter-widgets/base",
          "model_name": "LayoutModel",
          "model_module_version": "1.2.0",
          "state": {
            "_model_module": "@jupyter-widgets/base",
            "_model_module_version": "1.2.0",
            "_model_name": "LayoutModel",
            "_view_count": null,
            "_view_module": "@jupyter-widgets/base",
            "_view_module_version": "1.2.0",
            "_view_name": "LayoutView",
            "align_content": null,
            "align_items": null,
            "align_self": null,
            "border": null,
            "bottom": null,
            "display": null,
            "flex": null,
            "flex_flow": null,
            "grid_area": null,
            "grid_auto_columns": null,
            "grid_auto_flow": null,
            "grid_auto_rows": null,
            "grid_column": null,
            "grid_gap": null,
            "grid_row": null,
            "grid_template_areas": null,
            "grid_template_columns": null,
            "grid_template_rows": null,
            "height": null,
            "justify_content": null,
            "justify_items": null,
            "left": null,
            "margin": null,
            "max_height": null,
            "max_width": null,
            "min_height": null,
            "min_width": null,
            "object_fit": null,
            "object_position": null,
            "order": null,
            "overflow": null,
            "overflow_x": null,
            "overflow_y": null,
            "padding": null,
            "right": null,
            "top": null,
            "visibility": null,
            "width": null
          }
        },
        "ae0eda5053b745f1bc4ca8195fa7488d": {
          "model_module": "@jupyter-widgets/controls",
          "model_name": "DescriptionStyleModel",
          "model_module_version": "1.5.0",
          "state": {
            "_model_module": "@jupyter-widgets/controls",
            "_model_module_version": "1.5.0",
            "_model_name": "DescriptionStyleModel",
            "_view_count": null,
            "_view_module": "@jupyter-widgets/base",
            "_view_module_version": "1.2.0",
            "_view_name": "StyleView",
            "description_width": ""
          }
        },
        "8b15e5f4788044239138f1fd1c0855c5": {
          "model_module": "@jupyter-widgets/controls",
          "model_name": "HBoxModel",
          "model_module_version": "1.5.0",
          "state": {
            "_dom_classes": [],
            "_model_module": "@jupyter-widgets/controls",
            "_model_module_version": "1.5.0",
            "_model_name": "HBoxModel",
            "_view_count": null,
            "_view_module": "@jupyter-widgets/controls",
            "_view_module_version": "1.5.0",
            "_view_name": "HBoxView",
            "box_style": "",
            "children": [
              "IPY_MODEL_ddc2a29c134e42df9fcda029a7add78f",
              "IPY_MODEL_e3a3ce560b6144088359509d9707d6ed",
              "IPY_MODEL_ceee1f3e1bbb4a77a862f9f15d30dc1e"
            ],
            "layout": "IPY_MODEL_75522a4811d6403c955ddeda8b614ba3"
          }
        },
        "ddc2a29c134e42df9fcda029a7add78f": {
          "model_module": "@jupyter-widgets/controls",
          "model_name": "HTMLModel",
          "model_module_version": "1.5.0",
          "state": {
            "_dom_classes": [],
            "_model_module": "@jupyter-widgets/controls",
            "_model_module_version": "1.5.0",
            "_model_name": "HTMLModel",
            "_view_count": null,
            "_view_module": "@jupyter-widgets/controls",
            "_view_module_version": "1.5.0",
            "_view_name": "HTMLView",
            "description": "",
            "description_tooltip": null,
            "layout": "IPY_MODEL_397eeefdf56843e2a8736ed15d7bf865",
            "placeholder": "​",
            "style": "IPY_MODEL_bc40ccd444544b9caaee769ea10f7890",
            "value": "vocab.json: 100%"
          }
        },
        "e3a3ce560b6144088359509d9707d6ed": {
          "model_module": "@jupyter-widgets/controls",
          "model_name": "FloatProgressModel",
          "model_module_version": "1.5.0",
          "state": {
            "_dom_classes": [],
            "_model_module": "@jupyter-widgets/controls",
            "_model_module_version": "1.5.0",
            "_model_name": "FloatProgressModel",
            "_view_count": null,
            "_view_module": "@jupyter-widgets/controls",
            "_view_module_version": "1.5.0",
            "_view_name": "ProgressView",
            "bar_style": "success",
            "description": "",
            "description_tooltip": null,
            "layout": "IPY_MODEL_cdbbab676ea14d71b49e09aa3b9dc8ad",
            "max": 798293,
            "min": 0,
            "orientation": "horizontal",
            "style": "IPY_MODEL_bd9c0f8c26bc4427971c7d53d1ab79fd",
            "value": 798293
          }
        },
        "ceee1f3e1bbb4a77a862f9f15d30dc1e": {
          "model_module": "@jupyter-widgets/controls",
          "model_name": "HTMLModel",
          "model_module_version": "1.5.0",
          "state": {
            "_dom_classes": [],
            "_model_module": "@jupyter-widgets/controls",
            "_model_module_version": "1.5.0",
            "_model_name": "HTMLModel",
            "_view_count": null,
            "_view_module": "@jupyter-widgets/controls",
            "_view_module_version": "1.5.0",
            "_view_name": "HTMLView",
            "description": "",
            "description_tooltip": null,
            "layout": "IPY_MODEL_ca962a24fe3949fd92dd14eaa6913b79",
            "placeholder": "​",
            "style": "IPY_MODEL_0129202d0b164369ade5ef80c15a6147",
            "value": " 798k/798k [00:00&lt;00:00, 7.95MB/s]"
          }
        },
        "75522a4811d6403c955ddeda8b614ba3": {
          "model_module": "@jupyter-widgets/base",
          "model_name": "LayoutModel",
          "model_module_version": "1.2.0",
          "state": {
            "_model_module": "@jupyter-widgets/base",
            "_model_module_version": "1.2.0",
            "_model_name": "LayoutModel",
            "_view_count": null,
            "_view_module": "@jupyter-widgets/base",
            "_view_module_version": "1.2.0",
            "_view_name": "LayoutView",
            "align_content": null,
            "align_items": null,
            "align_self": null,
            "border": null,
            "bottom": null,
            "display": null,
            "flex": null,
            "flex_flow": null,
            "grid_area": null,
            "grid_auto_columns": null,
            "grid_auto_flow": null,
            "grid_auto_rows": null,
            "grid_column": null,
            "grid_gap": null,
            "grid_row": null,
            "grid_template_areas": null,
            "grid_template_columns": null,
            "grid_template_rows": null,
            "height": null,
            "justify_content": null,
            "justify_items": null,
            "left": null,
            "margin": null,
            "max_height": null,
            "max_width": null,
            "min_height": null,
            "min_width": null,
            "object_fit": null,
            "object_position": null,
            "order": null,
            "overflow": null,
            "overflow_x": null,
            "overflow_y": null,
            "padding": null,
            "right": null,
            "top": null,
            "visibility": null,
            "width": null
          }
        },
        "397eeefdf56843e2a8736ed15d7bf865": {
          "model_module": "@jupyter-widgets/base",
          "model_name": "LayoutModel",
          "model_module_version": "1.2.0",
          "state": {
            "_model_module": "@jupyter-widgets/base",
            "_model_module_version": "1.2.0",
            "_model_name": "LayoutModel",
            "_view_count": null,
            "_view_module": "@jupyter-widgets/base",
            "_view_module_version": "1.2.0",
            "_view_name": "LayoutView",
            "align_content": null,
            "align_items": null,
            "align_self": null,
            "border": null,
            "bottom": null,
            "display": null,
            "flex": null,
            "flex_flow": null,
            "grid_area": null,
            "grid_auto_columns": null,
            "grid_auto_flow": null,
            "grid_auto_rows": null,
            "grid_column": null,
            "grid_gap": null,
            "grid_row": null,
            "grid_template_areas": null,
            "grid_template_columns": null,
            "grid_template_rows": null,
            "height": null,
            "justify_content": null,
            "justify_items": null,
            "left": null,
            "margin": null,
            "max_height": null,
            "max_width": null,
            "min_height": null,
            "min_width": null,
            "object_fit": null,
            "object_position": null,
            "order": null,
            "overflow": null,
            "overflow_x": null,
            "overflow_y": null,
            "padding": null,
            "right": null,
            "top": null,
            "visibility": null,
            "width": null
          }
        },
        "bc40ccd444544b9caaee769ea10f7890": {
          "model_module": "@jupyter-widgets/controls",
          "model_name": "DescriptionStyleModel",
          "model_module_version": "1.5.0",
          "state": {
            "_model_module": "@jupyter-widgets/controls",
            "_model_module_version": "1.5.0",
            "_model_name": "DescriptionStyleModel",
            "_view_count": null,
            "_view_module": "@jupyter-widgets/base",
            "_view_module_version": "1.2.0",
            "_view_name": "StyleView",
            "description_width": ""
          }
        },
        "cdbbab676ea14d71b49e09aa3b9dc8ad": {
          "model_module": "@jupyter-widgets/base",
          "model_name": "LayoutModel",
          "model_module_version": "1.2.0",
          "state": {
            "_model_module": "@jupyter-widgets/base",
            "_model_module_version": "1.2.0",
            "_model_name": "LayoutModel",
            "_view_count": null,
            "_view_module": "@jupyter-widgets/base",
            "_view_module_version": "1.2.0",
            "_view_name": "LayoutView",
            "align_content": null,
            "align_items": null,
            "align_self": null,
            "border": null,
            "bottom": null,
            "display": null,
            "flex": null,
            "flex_flow": null,
            "grid_area": null,
            "grid_auto_columns": null,
            "grid_auto_flow": null,
            "grid_auto_rows": null,
            "grid_column": null,
            "grid_gap": null,
            "grid_row": null,
            "grid_template_areas": null,
            "grid_template_columns": null,
            "grid_template_rows": null,
            "height": null,
            "justify_content": null,
            "justify_items": null,
            "left": null,
            "margin": null,
            "max_height": null,
            "max_width": null,
            "min_height": null,
            "min_width": null,
            "object_fit": null,
            "object_position": null,
            "order": null,
            "overflow": null,
            "overflow_x": null,
            "overflow_y": null,
            "padding": null,
            "right": null,
            "top": null,
            "visibility": null,
            "width": null
          }
        },
        "bd9c0f8c26bc4427971c7d53d1ab79fd": {
          "model_module": "@jupyter-widgets/controls",
          "model_name": "ProgressStyleModel",
          "model_module_version": "1.5.0",
          "state": {
            "_model_module": "@jupyter-widgets/controls",
            "_model_module_version": "1.5.0",
            "_model_name": "ProgressStyleModel",
            "_view_count": null,
            "_view_module": "@jupyter-widgets/base",
            "_view_module_version": "1.2.0",
            "_view_name": "StyleView",
            "bar_color": null,
            "description_width": ""
          }
        },
        "ca962a24fe3949fd92dd14eaa6913b79": {
          "model_module": "@jupyter-widgets/base",
          "model_name": "LayoutModel",
          "model_module_version": "1.2.0",
          "state": {
            "_model_module": "@jupyter-widgets/base",
            "_model_module_version": "1.2.0",
            "_model_name": "LayoutModel",
            "_view_count": null,
            "_view_module": "@jupyter-widgets/base",
            "_view_module_version": "1.2.0",
            "_view_name": "LayoutView",
            "align_content": null,
            "align_items": null,
            "align_self": null,
            "border": null,
            "bottom": null,
            "display": null,
            "flex": null,
            "flex_flow": null,
            "grid_area": null,
            "grid_auto_columns": null,
            "grid_auto_flow": null,
            "grid_auto_rows": null,
            "grid_column": null,
            "grid_gap": null,
            "grid_row": null,
            "grid_template_areas": null,
            "grid_template_columns": null,
            "grid_template_rows": null,
            "height": null,
            "justify_content": null,
            "justify_items": null,
            "left": null,
            "margin": null,
            "max_height": null,
            "max_width": null,
            "min_height": null,
            "min_width": null,
            "object_fit": null,
            "object_position": null,
            "order": null,
            "overflow": null,
            "overflow_x": null,
            "overflow_y": null,
            "padding": null,
            "right": null,
            "top": null,
            "visibility": null,
            "width": null
          }
        },
        "0129202d0b164369ade5ef80c15a6147": {
          "model_module": "@jupyter-widgets/controls",
          "model_name": "DescriptionStyleModel",
          "model_module_version": "1.5.0",
          "state": {
            "_model_module": "@jupyter-widgets/controls",
            "_model_module_version": "1.5.0",
            "_model_name": "DescriptionStyleModel",
            "_view_count": null,
            "_view_module": "@jupyter-widgets/base",
            "_view_module_version": "1.2.0",
            "_view_name": "StyleView",
            "description_width": ""
          }
        },
        "e6f3e02e57884ba38b4c4fb743589163": {
          "model_module": "@jupyter-widgets/controls",
          "model_name": "HBoxModel",
          "model_module_version": "1.5.0",
          "state": {
            "_dom_classes": [],
            "_model_module": "@jupyter-widgets/controls",
            "_model_module_version": "1.5.0",
            "_model_name": "HBoxModel",
            "_view_count": null,
            "_view_module": "@jupyter-widgets/controls",
            "_view_module_version": "1.5.0",
            "_view_name": "HBoxView",
            "box_style": "",
            "children": [
              "IPY_MODEL_1efef62856834eeeabca641fc7a16514",
              "IPY_MODEL_bc3f1cf0618b40b68d7351134f55af5e",
              "IPY_MODEL_b345dfa844d94f6692e86ebb3d4e0b2a"
            ],
            "layout": "IPY_MODEL_fb5e4d8ebc09496f8f368e3026b71d26"
          }
        },
        "1efef62856834eeeabca641fc7a16514": {
          "model_module": "@jupyter-widgets/controls",
          "model_name": "HTMLModel",
          "model_module_version": "1.5.0",
          "state": {
            "_dom_classes": [],
            "_model_module": "@jupyter-widgets/controls",
            "_model_module_version": "1.5.0",
            "_model_name": "HTMLModel",
            "_view_count": null,
            "_view_module": "@jupyter-widgets/controls",
            "_view_module_version": "1.5.0",
            "_view_name": "HTMLView",
            "description": "",
            "description_tooltip": null,
            "layout": "IPY_MODEL_778f3068a0744be482d41827fcaebe2f",
            "placeholder": "​",
            "style": "IPY_MODEL_dd2227842cda4ed4983a0fd725a88444",
            "value": "merges.txt: 100%"
          }
        },
        "bc3f1cf0618b40b68d7351134f55af5e": {
          "model_module": "@jupyter-widgets/controls",
          "model_name": "FloatProgressModel",
          "model_module_version": "1.5.0",
          "state": {
            "_dom_classes": [],
            "_model_module": "@jupyter-widgets/controls",
            "_model_module_version": "1.5.0",
            "_model_name": "FloatProgressModel",
            "_view_count": null,
            "_view_module": "@jupyter-widgets/controls",
            "_view_module_version": "1.5.0",
            "_view_name": "ProgressView",
            "bar_style": "success",
            "description": "",
            "description_tooltip": null,
            "layout": "IPY_MODEL_307ae8c68776410ea52022fb78034a50",
            "max": 456356,
            "min": 0,
            "orientation": "horizontal",
            "style": "IPY_MODEL_1d0b19d655664ce6ad48427327c2a1c2",
            "value": 456356
          }
        },
        "b345dfa844d94f6692e86ebb3d4e0b2a": {
          "model_module": "@jupyter-widgets/controls",
          "model_name": "HTMLModel",
          "model_module_version": "1.5.0",
          "state": {
            "_dom_classes": [],
            "_model_module": "@jupyter-widgets/controls",
            "_model_module_version": "1.5.0",
            "_model_name": "HTMLModel",
            "_view_count": null,
            "_view_module": "@jupyter-widgets/controls",
            "_view_module_version": "1.5.0",
            "_view_name": "HTMLView",
            "description": "",
            "description_tooltip": null,
            "layout": "IPY_MODEL_74618ffcc26a455ab5c282aff62fec85",
            "placeholder": "​",
            "style": "IPY_MODEL_ad718532cf7048cf9708aec5800e156d",
            "value": " 456k/456k [00:00&lt;00:00, 17.0MB/s]"
          }
        },
        "fb5e4d8ebc09496f8f368e3026b71d26": {
          "model_module": "@jupyter-widgets/base",
          "model_name": "LayoutModel",
          "model_module_version": "1.2.0",
          "state": {
            "_model_module": "@jupyter-widgets/base",
            "_model_module_version": "1.2.0",
            "_model_name": "LayoutModel",
            "_view_count": null,
            "_view_module": "@jupyter-widgets/base",
            "_view_module_version": "1.2.0",
            "_view_name": "LayoutView",
            "align_content": null,
            "align_items": null,
            "align_self": null,
            "border": null,
            "bottom": null,
            "display": null,
            "flex": null,
            "flex_flow": null,
            "grid_area": null,
            "grid_auto_columns": null,
            "grid_auto_flow": null,
            "grid_auto_rows": null,
            "grid_column": null,
            "grid_gap": null,
            "grid_row": null,
            "grid_template_areas": null,
            "grid_template_columns": null,
            "grid_template_rows": null,
            "height": null,
            "justify_content": null,
            "justify_items": null,
            "left": null,
            "margin": null,
            "max_height": null,
            "max_width": null,
            "min_height": null,
            "min_width": null,
            "object_fit": null,
            "object_position": null,
            "order": null,
            "overflow": null,
            "overflow_x": null,
            "overflow_y": null,
            "padding": null,
            "right": null,
            "top": null,
            "visibility": null,
            "width": null
          }
        },
        "778f3068a0744be482d41827fcaebe2f": {
          "model_module": "@jupyter-widgets/base",
          "model_name": "LayoutModel",
          "model_module_version": "1.2.0",
          "state": {
            "_model_module": "@jupyter-widgets/base",
            "_model_module_version": "1.2.0",
            "_model_name": "LayoutModel",
            "_view_count": null,
            "_view_module": "@jupyter-widgets/base",
            "_view_module_version": "1.2.0",
            "_view_name": "LayoutView",
            "align_content": null,
            "align_items": null,
            "align_self": null,
            "border": null,
            "bottom": null,
            "display": null,
            "flex": null,
            "flex_flow": null,
            "grid_area": null,
            "grid_auto_columns": null,
            "grid_auto_flow": null,
            "grid_auto_rows": null,
            "grid_column": null,
            "grid_gap": null,
            "grid_row": null,
            "grid_template_areas": null,
            "grid_template_columns": null,
            "grid_template_rows": null,
            "height": null,
            "justify_content": null,
            "justify_items": null,
            "left": null,
            "margin": null,
            "max_height": null,
            "max_width": null,
            "min_height": null,
            "min_width": null,
            "object_fit": null,
            "object_position": null,
            "order": null,
            "overflow": null,
            "overflow_x": null,
            "overflow_y": null,
            "padding": null,
            "right": null,
            "top": null,
            "visibility": null,
            "width": null
          }
        },
        "dd2227842cda4ed4983a0fd725a88444": {
          "model_module": "@jupyter-widgets/controls",
          "model_name": "DescriptionStyleModel",
          "model_module_version": "1.5.0",
          "state": {
            "_model_module": "@jupyter-widgets/controls",
            "_model_module_version": "1.5.0",
            "_model_name": "DescriptionStyleModel",
            "_view_count": null,
            "_view_module": "@jupyter-widgets/base",
            "_view_module_version": "1.2.0",
            "_view_name": "StyleView",
            "description_width": ""
          }
        },
        "307ae8c68776410ea52022fb78034a50": {
          "model_module": "@jupyter-widgets/base",
          "model_name": "LayoutModel",
          "model_module_version": "1.2.0",
          "state": {
            "_model_module": "@jupyter-widgets/base",
            "_model_module_version": "1.2.0",
            "_model_name": "LayoutModel",
            "_view_count": null,
            "_view_module": "@jupyter-widgets/base",
            "_view_module_version": "1.2.0",
            "_view_name": "LayoutView",
            "align_content": null,
            "align_items": null,
            "align_self": null,
            "border": null,
            "bottom": null,
            "display": null,
            "flex": null,
            "flex_flow": null,
            "grid_area": null,
            "grid_auto_columns": null,
            "grid_auto_flow": null,
            "grid_auto_rows": null,
            "grid_column": null,
            "grid_gap": null,
            "grid_row": null,
            "grid_template_areas": null,
            "grid_template_columns": null,
            "grid_template_rows": null,
            "height": null,
            "justify_content": null,
            "justify_items": null,
            "left": null,
            "margin": null,
            "max_height": null,
            "max_width": null,
            "min_height": null,
            "min_width": null,
            "object_fit": null,
            "object_position": null,
            "order": null,
            "overflow": null,
            "overflow_x": null,
            "overflow_y": null,
            "padding": null,
            "right": null,
            "top": null,
            "visibility": null,
            "width": null
          }
        },
        "1d0b19d655664ce6ad48427327c2a1c2": {
          "model_module": "@jupyter-widgets/controls",
          "model_name": "ProgressStyleModel",
          "model_module_version": "1.5.0",
          "state": {
            "_model_module": "@jupyter-widgets/controls",
            "_model_module_version": "1.5.0",
            "_model_name": "ProgressStyleModel",
            "_view_count": null,
            "_view_module": "@jupyter-widgets/base",
            "_view_module_version": "1.2.0",
            "_view_name": "StyleView",
            "bar_color": null,
            "description_width": ""
          }
        },
        "74618ffcc26a455ab5c282aff62fec85": {
          "model_module": "@jupyter-widgets/base",
          "model_name": "LayoutModel",
          "model_module_version": "1.2.0",
          "state": {
            "_model_module": "@jupyter-widgets/base",
            "_model_module_version": "1.2.0",
            "_model_name": "LayoutModel",
            "_view_count": null,
            "_view_module": "@jupyter-widgets/base",
            "_view_module_version": "1.2.0",
            "_view_name": "LayoutView",
            "align_content": null,
            "align_items": null,
            "align_self": null,
            "border": null,
            "bottom": null,
            "display": null,
            "flex": null,
            "flex_flow": null,
            "grid_area": null,
            "grid_auto_columns": null,
            "grid_auto_flow": null,
            "grid_auto_rows": null,
            "grid_column": null,
            "grid_gap": null,
            "grid_row": null,
            "grid_template_areas": null,
            "grid_template_columns": null,
            "grid_template_rows": null,
            "height": null,
            "justify_content": null,
            "justify_items": null,
            "left": null,
            "margin": null,
            "max_height": null,
            "max_width": null,
            "min_height": null,
            "min_width": null,
            "object_fit": null,
            "object_position": null,
            "order": null,
            "overflow": null,
            "overflow_x": null,
            "overflow_y": null,
            "padding": null,
            "right": null,
            "top": null,
            "visibility": null,
            "width": null
          }
        },
        "ad718532cf7048cf9708aec5800e156d": {
          "model_module": "@jupyter-widgets/controls",
          "model_name": "DescriptionStyleModel",
          "model_module_version": "1.5.0",
          "state": {
            "_model_module": "@jupyter-widgets/controls",
            "_model_module_version": "1.5.0",
            "_model_name": "DescriptionStyleModel",
            "_view_count": null,
            "_view_module": "@jupyter-widgets/base",
            "_view_module_version": "1.2.0",
            "_view_name": "StyleView",
            "description_width": ""
          }
        },
        "f033254383b345d481f249a20e404065": {
          "model_module": "@jupyter-widgets/controls",
          "model_name": "HBoxModel",
          "model_module_version": "1.5.0",
          "state": {
            "_dom_classes": [],
            "_model_module": "@jupyter-widgets/controls",
            "_model_module_version": "1.5.0",
            "_model_name": "HBoxModel",
            "_view_count": null,
            "_view_module": "@jupyter-widgets/controls",
            "_view_module_version": "1.5.0",
            "_view_name": "HBoxView",
            "box_style": "",
            "children": [
              "IPY_MODEL_2a461bdea103438aa049e9d5d1413360",
              "IPY_MODEL_5dc9c158cf184f1cbdf97ff3d858c5c0",
              "IPY_MODEL_9e3505d4100649e3bf620c740999f0d9"
            ],
            "layout": "IPY_MODEL_7fa56c0006674985a6cad689bbbf087c"
          }
        },
        "2a461bdea103438aa049e9d5d1413360": {
          "model_module": "@jupyter-widgets/controls",
          "model_name": "HTMLModel",
          "model_module_version": "1.5.0",
          "state": {
            "_dom_classes": [],
            "_model_module": "@jupyter-widgets/controls",
            "_model_module_version": "1.5.0",
            "_model_name": "HTMLModel",
            "_view_count": null,
            "_view_module": "@jupyter-widgets/controls",
            "_view_module_version": "1.5.0",
            "_view_name": "HTMLView",
            "description": "",
            "description_tooltip": null,
            "layout": "IPY_MODEL_7e0600bd0d3b41168e349f17d5725ccb",
            "placeholder": "​",
            "style": "IPY_MODEL_1b08f173ec28424fae48b9104336d359",
            "value": "tokenizer.json: 100%"
          }
        },
        "5dc9c158cf184f1cbdf97ff3d858c5c0": {
          "model_module": "@jupyter-widgets/controls",
          "model_name": "FloatProgressModel",
          "model_module_version": "1.5.0",
          "state": {
            "_dom_classes": [],
            "_model_module": "@jupyter-widgets/controls",
            "_model_module_version": "1.5.0",
            "_model_name": "FloatProgressModel",
            "_view_count": null,
            "_view_module": "@jupyter-widgets/controls",
            "_view_module_version": "1.5.0",
            "_view_name": "ProgressView",
            "bar_style": "success",
            "description": "",
            "description_tooltip": null,
            "layout": "IPY_MODEL_20afb8ebf6e54ff7b30de4d1903b1fec",
            "max": 1355881,
            "min": 0,
            "orientation": "horizontal",
            "style": "IPY_MODEL_b558db3e22304d288c558205551a68ae",
            "value": 1355881
          }
        },
        "9e3505d4100649e3bf620c740999f0d9": {
          "model_module": "@jupyter-widgets/controls",
          "model_name": "HTMLModel",
          "model_module_version": "1.5.0",
          "state": {
            "_dom_classes": [],
            "_model_module": "@jupyter-widgets/controls",
            "_model_module_version": "1.5.0",
            "_model_name": "HTMLModel",
            "_view_count": null,
            "_view_module": "@jupyter-widgets/controls",
            "_view_module_version": "1.5.0",
            "_view_name": "HTMLView",
            "description": "",
            "description_tooltip": null,
            "layout": "IPY_MODEL_cda831a04b394cc7809dda5c544f7db4",
            "placeholder": "​",
            "style": "IPY_MODEL_003746a5d8fb4652bdd233c08ada58a8",
            "value": " 1.36M/1.36M [00:00&lt;00:00, 26.2MB/s]"
          }
        },
        "7fa56c0006674985a6cad689bbbf087c": {
          "model_module": "@jupyter-widgets/base",
          "model_name": "LayoutModel",
          "model_module_version": "1.2.0",
          "state": {
            "_model_module": "@jupyter-widgets/base",
            "_model_module_version": "1.2.0",
            "_model_name": "LayoutModel",
            "_view_count": null,
            "_view_module": "@jupyter-widgets/base",
            "_view_module_version": "1.2.0",
            "_view_name": "LayoutView",
            "align_content": null,
            "align_items": null,
            "align_self": null,
            "border": null,
            "bottom": null,
            "display": null,
            "flex": null,
            "flex_flow": null,
            "grid_area": null,
            "grid_auto_columns": null,
            "grid_auto_flow": null,
            "grid_auto_rows": null,
            "grid_column": null,
            "grid_gap": null,
            "grid_row": null,
            "grid_template_areas": null,
            "grid_template_columns": null,
            "grid_template_rows": null,
            "height": null,
            "justify_content": null,
            "justify_items": null,
            "left": null,
            "margin": null,
            "max_height": null,
            "max_width": null,
            "min_height": null,
            "min_width": null,
            "object_fit": null,
            "object_position": null,
            "order": null,
            "overflow": null,
            "overflow_x": null,
            "overflow_y": null,
            "padding": null,
            "right": null,
            "top": null,
            "visibility": null,
            "width": null
          }
        },
        "7e0600bd0d3b41168e349f17d5725ccb": {
          "model_module": "@jupyter-widgets/base",
          "model_name": "LayoutModel",
          "model_module_version": "1.2.0",
          "state": {
            "_model_module": "@jupyter-widgets/base",
            "_model_module_version": "1.2.0",
            "_model_name": "LayoutModel",
            "_view_count": null,
            "_view_module": "@jupyter-widgets/base",
            "_view_module_version": "1.2.0",
            "_view_name": "LayoutView",
            "align_content": null,
            "align_items": null,
            "align_self": null,
            "border": null,
            "bottom": null,
            "display": null,
            "flex": null,
            "flex_flow": null,
            "grid_area": null,
            "grid_auto_columns": null,
            "grid_auto_flow": null,
            "grid_auto_rows": null,
            "grid_column": null,
            "grid_gap": null,
            "grid_row": null,
            "grid_template_areas": null,
            "grid_template_columns": null,
            "grid_template_rows": null,
            "height": null,
            "justify_content": null,
            "justify_items": null,
            "left": null,
            "margin": null,
            "max_height": null,
            "max_width": null,
            "min_height": null,
            "min_width": null,
            "object_fit": null,
            "object_position": null,
            "order": null,
            "overflow": null,
            "overflow_x": null,
            "overflow_y": null,
            "padding": null,
            "right": null,
            "top": null,
            "visibility": null,
            "width": null
          }
        },
        "1b08f173ec28424fae48b9104336d359": {
          "model_module": "@jupyter-widgets/controls",
          "model_name": "DescriptionStyleModel",
          "model_module_version": "1.5.0",
          "state": {
            "_model_module": "@jupyter-widgets/controls",
            "_model_module_version": "1.5.0",
            "_model_name": "DescriptionStyleModel",
            "_view_count": null,
            "_view_module": "@jupyter-widgets/base",
            "_view_module_version": "1.2.0",
            "_view_name": "StyleView",
            "description_width": ""
          }
        },
        "20afb8ebf6e54ff7b30de4d1903b1fec": {
          "model_module": "@jupyter-widgets/base",
          "model_name": "LayoutModel",
          "model_module_version": "1.2.0",
          "state": {
            "_model_module": "@jupyter-widgets/base",
            "_model_module_version": "1.2.0",
            "_model_name": "LayoutModel",
            "_view_count": null,
            "_view_module": "@jupyter-widgets/base",
            "_view_module_version": "1.2.0",
            "_view_name": "LayoutView",
            "align_content": null,
            "align_items": null,
            "align_self": null,
            "border": null,
            "bottom": null,
            "display": null,
            "flex": null,
            "flex_flow": null,
            "grid_area": null,
            "grid_auto_columns": null,
            "grid_auto_flow": null,
            "grid_auto_rows": null,
            "grid_column": null,
            "grid_gap": null,
            "grid_row": null,
            "grid_template_areas": null,
            "grid_template_columns": null,
            "grid_template_rows": null,
            "height": null,
            "justify_content": null,
            "justify_items": null,
            "left": null,
            "margin": null,
            "max_height": null,
            "max_width": null,
            "min_height": null,
            "min_width": null,
            "object_fit": null,
            "object_position": null,
            "order": null,
            "overflow": null,
            "overflow_x": null,
            "overflow_y": null,
            "padding": null,
            "right": null,
            "top": null,
            "visibility": null,
            "width": null
          }
        },
        "b558db3e22304d288c558205551a68ae": {
          "model_module": "@jupyter-widgets/controls",
          "model_name": "ProgressStyleModel",
          "model_module_version": "1.5.0",
          "state": {
            "_model_module": "@jupyter-widgets/controls",
            "_model_module_version": "1.5.0",
            "_model_name": "ProgressStyleModel",
            "_view_count": null,
            "_view_module": "@jupyter-widgets/base",
            "_view_module_version": "1.2.0",
            "_view_name": "StyleView",
            "bar_color": null,
            "description_width": ""
          }
        },
        "cda831a04b394cc7809dda5c544f7db4": {
          "model_module": "@jupyter-widgets/base",
          "model_name": "LayoutModel",
          "model_module_version": "1.2.0",
          "state": {
            "_model_module": "@jupyter-widgets/base",
            "_model_module_version": "1.2.0",
            "_model_name": "LayoutModel",
            "_view_count": null,
            "_view_module": "@jupyter-widgets/base",
            "_view_module_version": "1.2.0",
            "_view_name": "LayoutView",
            "align_content": null,
            "align_items": null,
            "align_self": null,
            "border": null,
            "bottom": null,
            "display": null,
            "flex": null,
            "flex_flow": null,
            "grid_area": null,
            "grid_auto_columns": null,
            "grid_auto_flow": null,
            "grid_auto_rows": null,
            "grid_column": null,
            "grid_gap": null,
            "grid_row": null,
            "grid_template_areas": null,
            "grid_template_columns": null,
            "grid_template_rows": null,
            "height": null,
            "justify_content": null,
            "justify_items": null,
            "left": null,
            "margin": null,
            "max_height": null,
            "max_width": null,
            "min_height": null,
            "min_width": null,
            "object_fit": null,
            "object_position": null,
            "order": null,
            "overflow": null,
            "overflow_x": null,
            "overflow_y": null,
            "padding": null,
            "right": null,
            "top": null,
            "visibility": null,
            "width": null
          }
        },
        "003746a5d8fb4652bdd233c08ada58a8": {
          "model_module": "@jupyter-widgets/controls",
          "model_name": "DescriptionStyleModel",
          "model_module_version": "1.5.0",
          "state": {
            "_model_module": "@jupyter-widgets/controls",
            "_model_module_version": "1.5.0",
            "_model_name": "DescriptionStyleModel",
            "_view_count": null,
            "_view_module": "@jupyter-widgets/base",
            "_view_module_version": "1.2.0",
            "_view_name": "StyleView",
            "description_width": ""
          }
        },
        "cdf93772a3a64c11b51ed1212f82e05f": {
          "model_module": "@jupyter-widgets/controls",
          "model_name": "HBoxModel",
          "model_module_version": "1.5.0",
          "state": {
            "_dom_classes": [],
            "_model_module": "@jupyter-widgets/controls",
            "_model_module_version": "1.5.0",
            "_model_name": "HBoxModel",
            "_view_count": null,
            "_view_module": "@jupyter-widgets/controls",
            "_view_module_version": "1.5.0",
            "_view_name": "HBoxView",
            "box_style": "",
            "children": [
              "IPY_MODEL_ad5b0c6dac14436f9b1ab73105a48896",
              "IPY_MODEL_bfaf5552bd414bd1b7077cc57256d70a",
              "IPY_MODEL_604ed0e4ea4f4659ab385b0b3b962a87"
            ],
            "layout": "IPY_MODEL_92474af94b384833b6c4bc1c159b2cc4"
          }
        },
        "ad5b0c6dac14436f9b1ab73105a48896": {
          "model_module": "@jupyter-widgets/controls",
          "model_name": "HTMLModel",
          "model_module_version": "1.5.0",
          "state": {
            "_dom_classes": [],
            "_model_module": "@jupyter-widgets/controls",
            "_model_module_version": "1.5.0",
            "_model_name": "HTMLModel",
            "_view_count": null,
            "_view_module": "@jupyter-widgets/controls",
            "_view_module_version": "1.5.0",
            "_view_name": "HTMLView",
            "description": "",
            "description_tooltip": null,
            "layout": "IPY_MODEL_f02292cf05d84ce689fc04c43f8fd31d",
            "placeholder": "​",
            "style": "IPY_MODEL_00db72f3c8574ea694ed6c03d6e0b61b",
            "value": "special_tokens_map.json: 100%"
          }
        },
        "bfaf5552bd414bd1b7077cc57256d70a": {
          "model_module": "@jupyter-widgets/controls",
          "model_name": "FloatProgressModel",
          "model_module_version": "1.5.0",
          "state": {
            "_dom_classes": [],
            "_model_module": "@jupyter-widgets/controls",
            "_model_module_version": "1.5.0",
            "_model_name": "FloatProgressModel",
            "_view_count": null,
            "_view_module": "@jupyter-widgets/controls",
            "_view_module_version": "1.5.0",
            "_view_name": "ProgressView",
            "bar_style": "success",
            "description": "",
            "description_tooltip": null,
            "layout": "IPY_MODEL_6e05fb55e83747ceb3fb3b5354f86c95",
            "max": 239,
            "min": 0,
            "orientation": "horizontal",
            "style": "IPY_MODEL_703996223a004ea89751dc84bbd71206",
            "value": 239
          }
        },
        "604ed0e4ea4f4659ab385b0b3b962a87": {
          "model_module": "@jupyter-widgets/controls",
          "model_name": "HTMLModel",
          "model_module_version": "1.5.0",
          "state": {
            "_dom_classes": [],
            "_model_module": "@jupyter-widgets/controls",
            "_model_module_version": "1.5.0",
            "_model_name": "HTMLModel",
            "_view_count": null,
            "_view_module": "@jupyter-widgets/controls",
            "_view_module_version": "1.5.0",
            "_view_name": "HTMLView",
            "description": "",
            "description_tooltip": null,
            "layout": "IPY_MODEL_ab7299643bb14da3b17659df4113a490",
            "placeholder": "​",
            "style": "IPY_MODEL_85eee2a8dc3c43eebf7497cbcf0bedcd",
            "value": " 239/239 [00:00&lt;00:00, 14.3kB/s]"
          }
        },
        "92474af94b384833b6c4bc1c159b2cc4": {
          "model_module": "@jupyter-widgets/base",
          "model_name": "LayoutModel",
          "model_module_version": "1.2.0",
          "state": {
            "_model_module": "@jupyter-widgets/base",
            "_model_module_version": "1.2.0",
            "_model_name": "LayoutModel",
            "_view_count": null,
            "_view_module": "@jupyter-widgets/base",
            "_view_module_version": "1.2.0",
            "_view_name": "LayoutView",
            "align_content": null,
            "align_items": null,
            "align_self": null,
            "border": null,
            "bottom": null,
            "display": null,
            "flex": null,
            "flex_flow": null,
            "grid_area": null,
            "grid_auto_columns": null,
            "grid_auto_flow": null,
            "grid_auto_rows": null,
            "grid_column": null,
            "grid_gap": null,
            "grid_row": null,
            "grid_template_areas": null,
            "grid_template_columns": null,
            "grid_template_rows": null,
            "height": null,
            "justify_content": null,
            "justify_items": null,
            "left": null,
            "margin": null,
            "max_height": null,
            "max_width": null,
            "min_height": null,
            "min_width": null,
            "object_fit": null,
            "object_position": null,
            "order": null,
            "overflow": null,
            "overflow_x": null,
            "overflow_y": null,
            "padding": null,
            "right": null,
            "top": null,
            "visibility": null,
            "width": null
          }
        },
        "f02292cf05d84ce689fc04c43f8fd31d": {
          "model_module": "@jupyter-widgets/base",
          "model_name": "LayoutModel",
          "model_module_version": "1.2.0",
          "state": {
            "_model_module": "@jupyter-widgets/base",
            "_model_module_version": "1.2.0",
            "_model_name": "LayoutModel",
            "_view_count": null,
            "_view_module": "@jupyter-widgets/base",
            "_view_module_version": "1.2.0",
            "_view_name": "LayoutView",
            "align_content": null,
            "align_items": null,
            "align_self": null,
            "border": null,
            "bottom": null,
            "display": null,
            "flex": null,
            "flex_flow": null,
            "grid_area": null,
            "grid_auto_columns": null,
            "grid_auto_flow": null,
            "grid_auto_rows": null,
            "grid_column": null,
            "grid_gap": null,
            "grid_row": null,
            "grid_template_areas": null,
            "grid_template_columns": null,
            "grid_template_rows": null,
            "height": null,
            "justify_content": null,
            "justify_items": null,
            "left": null,
            "margin": null,
            "max_height": null,
            "max_width": null,
            "min_height": null,
            "min_width": null,
            "object_fit": null,
            "object_position": null,
            "order": null,
            "overflow": null,
            "overflow_x": null,
            "overflow_y": null,
            "padding": null,
            "right": null,
            "top": null,
            "visibility": null,
            "width": null
          }
        },
        "00db72f3c8574ea694ed6c03d6e0b61b": {
          "model_module": "@jupyter-widgets/controls",
          "model_name": "DescriptionStyleModel",
          "model_module_version": "1.5.0",
          "state": {
            "_model_module": "@jupyter-widgets/controls",
            "_model_module_version": "1.5.0",
            "_model_name": "DescriptionStyleModel",
            "_view_count": null,
            "_view_module": "@jupyter-widgets/base",
            "_view_module_version": "1.2.0",
            "_view_name": "StyleView",
            "description_width": ""
          }
        },
        "6e05fb55e83747ceb3fb3b5354f86c95": {
          "model_module": "@jupyter-widgets/base",
          "model_name": "LayoutModel",
          "model_module_version": "1.2.0",
          "state": {
            "_model_module": "@jupyter-widgets/base",
            "_model_module_version": "1.2.0",
            "_model_name": "LayoutModel",
            "_view_count": null,
            "_view_module": "@jupyter-widgets/base",
            "_view_module_version": "1.2.0",
            "_view_name": "LayoutView",
            "align_content": null,
            "align_items": null,
            "align_self": null,
            "border": null,
            "bottom": null,
            "display": null,
            "flex": null,
            "flex_flow": null,
            "grid_area": null,
            "grid_auto_columns": null,
            "grid_auto_flow": null,
            "grid_auto_rows": null,
            "grid_column": null,
            "grid_gap": null,
            "grid_row": null,
            "grid_template_areas": null,
            "grid_template_columns": null,
            "grid_template_rows": null,
            "height": null,
            "justify_content": null,
            "justify_items": null,
            "left": null,
            "margin": null,
            "max_height": null,
            "max_width": null,
            "min_height": null,
            "min_width": null,
            "object_fit": null,
            "object_position": null,
            "order": null,
            "overflow": null,
            "overflow_x": null,
            "overflow_y": null,
            "padding": null,
            "right": null,
            "top": null,
            "visibility": null,
            "width": null
          }
        },
        "703996223a004ea89751dc84bbd71206": {
          "model_module": "@jupyter-widgets/controls",
          "model_name": "ProgressStyleModel",
          "model_module_version": "1.5.0",
          "state": {
            "_model_module": "@jupyter-widgets/controls",
            "_model_module_version": "1.5.0",
            "_model_name": "ProgressStyleModel",
            "_view_count": null,
            "_view_module": "@jupyter-widgets/base",
            "_view_module_version": "1.2.0",
            "_view_name": "StyleView",
            "bar_color": null,
            "description_width": ""
          }
        },
        "ab7299643bb14da3b17659df4113a490": {
          "model_module": "@jupyter-widgets/base",
          "model_name": "LayoutModel",
          "model_module_version": "1.2.0",
          "state": {
            "_model_module": "@jupyter-widgets/base",
            "_model_module_version": "1.2.0",
            "_model_name": "LayoutModel",
            "_view_count": null,
            "_view_module": "@jupyter-widgets/base",
            "_view_module_version": "1.2.0",
            "_view_name": "LayoutView",
            "align_content": null,
            "align_items": null,
            "align_self": null,
            "border": null,
            "bottom": null,
            "display": null,
            "flex": null,
            "flex_flow": null,
            "grid_area": null,
            "grid_auto_columns": null,
            "grid_auto_flow": null,
            "grid_auto_rows": null,
            "grid_column": null,
            "grid_gap": null,
            "grid_row": null,
            "grid_template_areas": null,
            "grid_template_columns": null,
            "grid_template_rows": null,
            "height": null,
            "justify_content": null,
            "justify_items": null,
            "left": null,
            "margin": null,
            "max_height": null,
            "max_width": null,
            "min_height": null,
            "min_width": null,
            "object_fit": null,
            "object_position": null,
            "order": null,
            "overflow": null,
            "overflow_x": null,
            "overflow_y": null,
            "padding": null,
            "right": null,
            "top": null,
            "visibility": null,
            "width": null
          }
        },
        "85eee2a8dc3c43eebf7497cbcf0bedcd": {
          "model_module": "@jupyter-widgets/controls",
          "model_name": "DescriptionStyleModel",
          "model_module_version": "1.5.0",
          "state": {
            "_model_module": "@jupyter-widgets/controls",
            "_model_module_version": "1.5.0",
            "_model_name": "DescriptionStyleModel",
            "_view_count": null,
            "_view_module": "@jupyter-widgets/base",
            "_view_module_version": "1.2.0",
            "_view_name": "StyleView",
            "description_width": ""
          }
        }
      }
    }
  },
  "cells": [
    {
      "cell_type": "markdown",
      "source": [
        "# **1. QnA System using Pre-trained HuggingFace Transformer**\n",
        "The QnA system relies on state-of-the-art pre-trained models provided by HuggingFace Transformers, *deepset/tinyroberta-squad2* for the Transformer out performs of the  out of all sota models. These models have been fine-tuned on large datasets to understand the context of questions and provide accurate answers. The system preprocesses the input questions and documents, tokenizes them, and feeds them into the pre-trained model. Through attention mechanisms and contextual understanding, the model identifies relevant passages within the documents and extracts answers to the questions posed by the users. By leveraging transfer learning, the QnA system can adapt to various domains and provide accurate responses even with limited training data."
      ],
      "metadata": {
        "id": "fIT_YezCDD68"
      }
    },
    {
      "cell_type": "code",
      "execution_count": null,
      "metadata": {
        "colab": {
          "base_uri": "https://localhost:8080/",
          "height": 365,
          "referenced_widgets": [
            "7a0c795be3dd4caba4379fa5cc762439",
            "675a482dc0c349dab9e19d3acd4743e6",
            "a07a8ffc2b094f308bcbd1debc420eb7",
            "f83919cd9c574bf09f32c7cab8c18220",
            "363a5a1fe8ca42a5a340847b987ae9f6",
            "f418e9cc2b744ebea4ab8dd2b452f252",
            "a13e09b6d2e0449686d02692f072dac2",
            "aeb531a92d244ed7aa879e30c1fe5d74",
            "1f0bc872e6bd4dfb93d063690b5e5794",
            "13660e4464054c688f7fd3790eb98752",
            "5889b46057ed4ae7bed536dacc78510d",
            "2b840f37bb0d4328a5de5bb1004dae7c",
            "332f6a01b77c4d1c98bdfbe2ea601f31",
            "e94a7828a75f44e1ab9ef35607f2115e",
            "2cb142d108054db18cfcd16cbc8d89b0",
            "6356a9261d9a4dc9bb3b061f673e29b0",
            "e8bbfe3666834c79a69eb4189510f891",
            "3b124e0622c84308921bb49d98e1f337",
            "0808c9af66e44daca897808388b6e82b",
            "179a6c7c044d4e4abb006310232e9781",
            "0ac71510fe0b494a8e62fb79dc8b4cb0",
            "346c7b620f1b4a4ebb9036474e723b2f",
            "0bf1e7575bac423d82ee7ab7677208d6",
            "a1ac9326cfa245429f2846a3164f4913",
            "b47c4f9d11b6462593f84c3b9a257e00",
            "294c3fce929a4bf98fd9c9945328bdfa",
            "3587c54fe7af4b3fb476b40ea2ba998a",
            "1e211c32f37b4cd3b03d57797ab09147",
            "b22819e51c1044ddb35e7ce01c3f85aa",
            "1db0f5ebb0014a9bb6808c5233801e88",
            "ef7070d86ed24901adc14b866f171c64",
            "f38f69494d104cd89580d785ac85726e",
            "ae0eda5053b745f1bc4ca8195fa7488d",
            "8b15e5f4788044239138f1fd1c0855c5",
            "ddc2a29c134e42df9fcda029a7add78f",
            "e3a3ce560b6144088359509d9707d6ed",
            "ceee1f3e1bbb4a77a862f9f15d30dc1e",
            "75522a4811d6403c955ddeda8b614ba3",
            "397eeefdf56843e2a8736ed15d7bf865",
            "bc40ccd444544b9caaee769ea10f7890",
            "cdbbab676ea14d71b49e09aa3b9dc8ad",
            "bd9c0f8c26bc4427971c7d53d1ab79fd",
            "ca962a24fe3949fd92dd14eaa6913b79",
            "0129202d0b164369ade5ef80c15a6147",
            "e6f3e02e57884ba38b4c4fb743589163",
            "1efef62856834eeeabca641fc7a16514",
            "bc3f1cf0618b40b68d7351134f55af5e",
            "b345dfa844d94f6692e86ebb3d4e0b2a",
            "fb5e4d8ebc09496f8f368e3026b71d26",
            "778f3068a0744be482d41827fcaebe2f",
            "dd2227842cda4ed4983a0fd725a88444",
            "307ae8c68776410ea52022fb78034a50",
            "1d0b19d655664ce6ad48427327c2a1c2",
            "74618ffcc26a455ab5c282aff62fec85",
            "ad718532cf7048cf9708aec5800e156d",
            "f033254383b345d481f249a20e404065",
            "2a461bdea103438aa049e9d5d1413360",
            "5dc9c158cf184f1cbdf97ff3d858c5c0",
            "9e3505d4100649e3bf620c740999f0d9",
            "7fa56c0006674985a6cad689bbbf087c",
            "7e0600bd0d3b41168e349f17d5725ccb",
            "1b08f173ec28424fae48b9104336d359",
            "20afb8ebf6e54ff7b30de4d1903b1fec",
            "b558db3e22304d288c558205551a68ae",
            "cda831a04b394cc7809dda5c544f7db4",
            "003746a5d8fb4652bdd233c08ada58a8",
            "cdf93772a3a64c11b51ed1212f82e05f",
            "ad5b0c6dac14436f9b1ab73105a48896",
            "bfaf5552bd414bd1b7077cc57256d70a",
            "604ed0e4ea4f4659ab385b0b3b962a87",
            "92474af94b384833b6c4bc1c159b2cc4",
            "f02292cf05d84ce689fc04c43f8fd31d",
            "00db72f3c8574ea694ed6c03d6e0b61b",
            "6e05fb55e83747ceb3fb3b5354f86c95",
            "703996223a004ea89751dc84bbd71206",
            "ab7299643bb14da3b17659df4113a490",
            "85eee2a8dc3c43eebf7497cbcf0bedcd"
          ]
        },
        "id": "m9OVPzG3pW1G",
        "outputId": "41bdea73-980f-48e5-9a26-ab015da98414"
      },
      "outputs": [
        {
          "output_type": "stream",
          "name": "stderr",
          "text": [
            "/usr/local/lib/python3.10/dist-packages/huggingface_hub/utils/_token.py:88: UserWarning: \n",
            "The secret `HF_TOKEN` does not exist in your Colab secrets.\n",
            "To authenticate with the Hugging Face Hub, create a token in your settings tab (https://huggingface.co/settings/tokens), set it as secret in your Google Colab and restart your session.\n",
            "You will be able to reuse this secret in all of your notebooks.\n",
            "Please note that authentication is recommended but still optional to access public models or datasets.\n",
            "  warnings.warn(\n"
          ]
        },
        {
          "output_type": "display_data",
          "data": {
            "text/plain": [
              "config.json:   0%|          | 0.00/835 [00:00<?, ?B/s]"
            ],
            "application/vnd.jupyter.widget-view+json": {
              "version_major": 2,
              "version_minor": 0,
              "model_id": "7a0c795be3dd4caba4379fa5cc762439"
            }
          },
          "metadata": {}
        },
        {
          "output_type": "display_data",
          "data": {
            "text/plain": [
              "model.safetensors:   0%|          | 0.00/326M [00:00<?, ?B/s]"
            ],
            "application/vnd.jupyter.widget-view+json": {
              "version_major": 2,
              "version_minor": 0,
              "model_id": "2b840f37bb0d4328a5de5bb1004dae7c"
            }
          },
          "metadata": {}
        },
        {
          "output_type": "display_data",
          "data": {
            "text/plain": [
              "tokenizer_config.json:   0%|          | 0.00/383 [00:00<?, ?B/s]"
            ],
            "application/vnd.jupyter.widget-view+json": {
              "version_major": 2,
              "version_minor": 0,
              "model_id": "0bf1e7575bac423d82ee7ab7677208d6"
            }
          },
          "metadata": {}
        },
        {
          "output_type": "display_data",
          "data": {
            "text/plain": [
              "vocab.json:   0%|          | 0.00/798k [00:00<?, ?B/s]"
            ],
            "application/vnd.jupyter.widget-view+json": {
              "version_major": 2,
              "version_minor": 0,
              "model_id": "8b15e5f4788044239138f1fd1c0855c5"
            }
          },
          "metadata": {}
        },
        {
          "output_type": "display_data",
          "data": {
            "text/plain": [
              "merges.txt:   0%|          | 0.00/456k [00:00<?, ?B/s]"
            ],
            "application/vnd.jupyter.widget-view+json": {
              "version_major": 2,
              "version_minor": 0,
              "model_id": "e6f3e02e57884ba38b4c4fb743589163"
            }
          },
          "metadata": {}
        },
        {
          "output_type": "display_data",
          "data": {
            "text/plain": [
              "tokenizer.json:   0%|          | 0.00/1.36M [00:00<?, ?B/s]"
            ],
            "application/vnd.jupyter.widget-view+json": {
              "version_major": 2,
              "version_minor": 0,
              "model_id": "f033254383b345d481f249a20e404065"
            }
          },
          "metadata": {}
        },
        {
          "output_type": "display_data",
          "data": {
            "text/plain": [
              "special_tokens_map.json:   0%|          | 0.00/239 [00:00<?, ?B/s]"
            ],
            "application/vnd.jupyter.widget-view+json": {
              "version_major": 2,
              "version_minor": 0,
              "model_id": "cdf93772a3a64c11b51ed1212f82e05f"
            }
          },
          "metadata": {}
        }
      ],
      "source": [
        "from transformers import AutoModelForQuestionAnswering, AutoTokenizer, pipeline\n",
        "import torch\n",
        "model_name = \"deepset/tinyroberta-squad2\"\n",
        "\n",
        "nlp = pipeline('question-answering', model=model_name, tokenizer=model_name)\n",
        "QA_input = {\n",
        "    'question': 'Why is model conversion important?',\n",
        "    'context': 'The option to convert models between FARM and transformers gives freedom to the user and let people easily switch between frameworks.'\n",
        "}\n",
        "res = nlp(QA_input)\n",
        "\n",
        "model = AutoModelForQuestionAnswering.from_pretrained(model_name)\n",
        "tokenizer = AutoTokenizer.from_pretrained(model_name)\n"
      ]
    },
    {
      "cell_type": "code",
      "source": [
        "pip install pdfplumber"
      ],
      "metadata": {
        "colab": {
          "base_uri": "https://localhost:8080/"
        },
        "id": "_P88VA_LIhIG",
        "outputId": "d09215be-a570-4135-8d3d-5428dc01c60f"
      },
      "execution_count": null,
      "outputs": [
        {
          "output_type": "stream",
          "name": "stdout",
          "text": [
            "Collecting pdfplumber\n",
            "  Downloading pdfplumber-0.10.4-py3-none-any.whl (54 kB)\n",
            "\u001b[2K     \u001b[90m━━━━━━━━━━━━━━━━━━━━━━━━━━━━━━━━━━━━━━━━\u001b[0m \u001b[32m54.7/54.7 kB\u001b[0m \u001b[31m721.5 kB/s\u001b[0m eta \u001b[36m0:00:00\u001b[0m\n",
            "\u001b[?25hCollecting pdfminer.six==20221105 (from pdfplumber)\n",
            "  Downloading pdfminer.six-20221105-py3-none-any.whl (5.6 MB)\n",
            "\u001b[2K     \u001b[90m━━━━━━━━━━━━━━━━━━━━━━━━━━━━━━━━━━━━━━━━\u001b[0m \u001b[32m5.6/5.6 MB\u001b[0m \u001b[31m18.4 MB/s\u001b[0m eta \u001b[36m0:00:00\u001b[0m\n",
            "\u001b[?25hRequirement already satisfied: Pillow>=9.1 in /usr/local/lib/python3.10/dist-packages (from pdfplumber) (9.4.0)\n",
            "Collecting pypdfium2>=4.18.0 (from pdfplumber)\n",
            "  Downloading pypdfium2-4.27.0-py3-none-manylinux_2_17_x86_64.manylinux2014_x86_64.whl (2.8 MB)\n",
            "\u001b[2K     \u001b[90m━━━━━━━━━━━━━━━━━━━━━━━━━━━━━━━━━━━━━━━━\u001b[0m \u001b[32m2.8/2.8 MB\u001b[0m \u001b[31m42.6 MB/s\u001b[0m eta \u001b[36m0:00:00\u001b[0m\n",
            "\u001b[?25hRequirement already satisfied: charset-normalizer>=2.0.0 in /usr/local/lib/python3.10/dist-packages (from pdfminer.six==20221105->pdfplumber) (3.3.2)\n",
            "Requirement already satisfied: cryptography>=36.0.0 in /usr/local/lib/python3.10/dist-packages (from pdfminer.six==20221105->pdfplumber) (42.0.2)\n",
            "Requirement already satisfied: cffi>=1.12 in /usr/local/lib/python3.10/dist-packages (from cryptography>=36.0.0->pdfminer.six==20221105->pdfplumber) (1.16.0)\n",
            "Requirement already satisfied: pycparser in /usr/local/lib/python3.10/dist-packages (from cffi>=1.12->cryptography>=36.0.0->pdfminer.six==20221105->pdfplumber) (2.21)\n",
            "Installing collected packages: pypdfium2, pdfminer.six, pdfplumber\n",
            "Successfully installed pdfminer.six-20221105 pdfplumber-0.10.4 pypdfium2-4.27.0\n"
          ]
        }
      ]
    },
    {
      "cell_type": "code",
      "source": [
        "import pdfplumber\n",
        "with pdfplumber.open('/content/national_security_strategy.pdf') as pdf:\n",
        "    text_content = \"\"\n",
        "    for page in pdf.pages:\n",
        "        text_content += page.extract_text()"
      ],
      "metadata": {
        "id": "jNuPRUnoZ7JN"
      },
      "execution_count": null,
      "outputs": []
    },
    {
      "cell_type": "code",
      "source": [
        "#paragraphs = text_content.split('\\n\\n')\n",
        "question = \"Combating transnational criminal and trafficking networks requires?\"\n",
        "\n",
        "# Tokenize question and paragraph\n",
        "#for paragraph in paragraphs:\n",
        "inputs = tokenizer(question, text_content, return_tensors='pt', max_length=512, truncation=True)\n",
        "\n",
        "# Get model's output\n",
        "outputs = model(**inputs)\n",
        "\n",
        "# Extract answer span\n",
        "start_scores = outputs.start_logits\n",
        "end_scores = outputs.end_logits\n",
        "start_index = torch.argmax(start_scores)\n",
        "end_index = torch.argmax(end_scores) + 1\n",
        "answer = tokenizer.convert_tokens_to_string(tokenizer.convert_ids_to_tokens(inputs[\"input_ids\"][0][start_index:end_index]))\n",
        "\n",
        "#print(\"Question:\", question)\n",
        "print(\"Paragraph:\", start_index,\" \", end_index)\n",
        "print(\"Answer:\", answer)"
      ],
      "metadata": {
        "colab": {
          "base_uri": "https://localhost:8080/"
        },
        "id": "Xabw5S2aEKMe",
        "outputId": "17360697-4a28-4b2f-8327-c079e0342ea0"
      },
      "execution_count": null,
      "outputs": [
        {
          "output_type": "stream",
          "name": "stdout",
          "text": [
            "Paragraph: tensor(0)   tensor(1)\n",
            "Answer: <s>\n"
          ]
        }
      ]
    },
    {
      "cell_type": "markdown",
      "source": [
        "# **2. Topic Modelling using LDA**\n",
        "Latent Dirichlet Allocation (LDA) is a probabilistic generative model used for topic modeling. In the context of project, LDA is applied to analyze the contents of uploaded PDF documents and uncover latent topics within the text. The algorithm works by assuming that each document is a mixture of topics, and each word in the document is attributable to one of the document's topics. By iteratively assigning words to topics and documents to distributions of topics, LDA discovers the underlying thematic structure of the documents. This enables users to gain insights into the main themes and topics discussed in the documents, facilitating better understanding and information retrieval."
      ],
      "metadata": {
        "id": "j1ArE0oLsHnQ"
      }
    },
    {
      "cell_type": "code",
      "source": [
        "import numpy as np\n",
        "import nltk\n",
        "from nltk.tokenize import word_tokenize\n",
        "from nltk.corpus import stopwords\n",
        "from nltk.stem import WordNetLemmatizer\n",
        "\n",
        "nltk.download('punkt')\n",
        "nltk.download('stopwords')\n",
        "nltk.download('wordnet')\n",
        "\n",
        "# Tokenization\n",
        "tokens = word_tokenize(text_content.lower())\n",
        "\n",
        "# Removing punctuation and stopwords\n",
        "punctuation = [',', '.', ';', ':', '!', '?', \"'\"]\n",
        "tokens = [word for word in tokens if word not in punctuation and word not in stopwords.words('english') and not word.isdigit()]\n",
        "\n",
        "# Stemming\n",
        "lemmatizer = WordNetLemmatizer()\n",
        "lemmatized_tokens = [lemmatizer.lemmatize(word) for word in tokens]\n",
        "\n",
        "document = ' '.join([word for word in lemmatized_tokens if len(word) > 2])\n",
        "\n",
        "print(document)"
      ],
      "metadata": {
        "colab": {
          "base_uri": "https://localhost:8080/"
        },
        "id": "stFxSYL2u6UT",
        "outputId": "acd352e1-ea9b-42a2-d1b3-22ec1b0d032a"
      },
      "execution_count": null,
      "outputs": [
        {
          "output_type": "stream",
          "name": "stderr",
          "text": [
            "[nltk_data] Downloading package punkt to /root/nltk_data...\n",
            "[nltk_data]   Package punkt is already up-to-date!\n",
            "[nltk_data] Downloading package stopwords to /root/nltk_data...\n",
            "[nltk_data]   Package stopwords is already up-to-date!\n",
            "[nltk_data] Downloading package wordnet to /root/nltk_data...\n",
            "[nltk_data]   Package wordnet is already up-to-date!\n"
          ]
        },
        {
          "output_type": "stream",
          "name": "stdout",
          "text": [
            "may 2010table content overview national security strategy strategic approach strategic environment—the world strategic approach—the world seek building foundation pursuing comprehensive engagement promoting sustainable international order strengthening national capacity—a whole government approach iii advancing interest security strengthen security resilience home disrupt dismantle defeat al-qa ida violent extremist affiliate afghanistan pakistan around world use force reverse spread nuclear biological weapon secure nuclear material advance peace security opportunity greater middle east invest capacity strong capable partner secure cyberspace prosperity strengthen education human capital enhance science technology innovation achieve balanced sustainable growth accelerate sustainable development spend taxpayer dollar wisely 34values strengthen power example promote democracy human right abroad promote dignity meeting basic need international order ensure strong alliance build cooperation 21st century center influence strengthen institution mechanism cooperation sustain broad cooperation key global challenge conclusion 51i overview national security strategy dawn 21st century united state america face broad complex array chal- lenges national security america helped determine course 20th century must build source american strength influence shape international order capable overcoming challenge 21st century world strategy world seek succeed must face world two decade since end cold war marked promise peril change circle peaceful democracy expanded specter nuclear war lifted major power peace global economy grown commerce stitched fate nation together individual determine destiny yet advance accompanied persistent problem war ideology given way war religious ethnic tribal identity nuclear danger proliferated inequality economic instability intensified damage environment food insecurity danger public health increasingly shared tool empower individual build enable destroy dark side globalized world came forefront american people september 2001. immediate threat demonstrated deadliest attack ever launched upon american soil demanded strong durable approach defend homeland year since launched war al-qa ida affiliate decided fight war iraq confronted sweep- ing economic crisis broadly though wrestled advance american interest world changed—a world international architecture 20th century buckling weight new threat global economy accelerated competition facing people business universal aspiration freedom dignity contends new obstacle country posse attribute supported leadership decades—sturdy alliance unmatched military world largest economy strong evolving democracy dynamic citizenry going forward doubt united state america continue underwrite global security—through commitment ally partner institution focus defeating al-qa ida affiliate afghanistan pakistan around globe determina- tion deter aggression prevent proliferation world dangerous weapon must recognize one nation—no matter powerful—can meet global challenge alone world war america must prepare future forging cooperative approach among nation yield result national security strategy therefore focused renewing american leadership effectively advance interest 21st century building upon source strength home shaping international order meet challenge time strategy recognizes fundamental connection national security national competitiveness resilience moral example reaffirms america commitment pursue interest international system nation certain right responsibility ★national security strategy allow america leverage engagement abroad behalf world individual enjoy freedom opportunity nation incentive act responsibly facing consequence renewing american leadership—building home shaping abroad approach begin commitment build stronger foundation american leadership take place within border determine strength influence beyond truth heightened world greater interconnection—a world prosperity inextricably linked global prosperity security directly challenged development across ocean action scrutinized never center effort commitment renew economy serf wellspring american power american people emerging devastating recession faced since great depression continue act ensure recovery broad sustained also laying foundation long term growth economy competitive- ness citizen investment made recovery part broader effort contribute strength providing quality education child enhancing science innovation transforming energy economy power new job industry lowering cost health care people business reducing federal deficit step sustain america ability lead world economic power individual opportunity diffuse effort also tied commitment secure resilient nation recovery includes rebuilding infrastructure secure reliable face terrorist threat natural disaster focus education science ensure breakthrough tomorrow take place united state development new source energy reduce dependence foreign oil commitment deficit reduction discipline make hard choice avoid overreach step complement effort integrate homeland security national security including seamless coordination among federal state local govern- ments prevent protect respond threat natural disaster finally work build stronger foundation leadership within border recognizes effective way united state america promote value live america commitment democracy human right rule law essential source strength influence world must cultivated rejection action like torture line value commitment pursue justice consistent constitution steady determination extend promise america citizen america always beacon people world ensure light america example burn bright building stronger foundation support america effort shape international system meet challenge time aftermath world war united state helped take lead constructing new international architecture keep peace advance prosperity—from nato united nation treaty govern law weapon war world bank international monetary fund expanding web trade agreement overview national security strategy architecture despite flaw averted world war enabled economic growth advanced human right facilitating effective burden sharing among united state ally partner today need clear-eyed strength shortcoming international institution developed deal challenge earlier time shortage political time stymied enforcement international norm yet would destructive american national security global security united state used emergence new challenge shortcoming international system reason walk away instead must focus american engagement strengthening international institution galvanizing collective action serve common interest combating violent extremism stopping spread nuclear weapon securing nuclear material achieving balanced sustainable economic growth forging cooperative solution threat climate change armed conflict pandemic disease starting point collective action engagement country cornerstone engagement relationship united state close friend ally europe asia america middle east—ties rooted shared interest shared value serve mutual security broader security prosperity world working build deeper effective partnership key center influence—includ- ing china india russia well increasingly influential nation brazil south africa indonesia—so cooperate issue bilateral global concern recognition power interconnected world longer zero sum game expanding outreach emerging nation particularly model regional success stability america africa southeast asia pursue engagement hostile nation test intention give government opportunity change course reach people mobilize international coalition engagement underpin commitment international order based upon right responsibility international institution must effectively represent world 21st century broader voice—and greater responsibilities—for emerging power must modernized effectively generate result issue global interest constructive national step issue ranging nuclear security climate change must incentivized nation choose part see benefit responsible action rule road must followed must consequence nation break rules—whether nonproliferation obligation trade agreement human right commitment modernization institution strengthening international norm enforcement inter- national law task united state alone—but together like-minded nation task lead key source american leadership throughout history enlightened self-interest want better future child grandchild believe life better people child grandchild live freedom prosperity belief interest bound interest beyond border continue guide engagement nation people ★national security strategy advancing top national security priority national security strategy focused renewing leadership long term also facilitating immediate action top priority administration greater responsibility safety security american people greater threat american people weapon mass destruction particularly danger posed pursuit nuclear weapon violent extremist proliferation additional state pursuing comprehensive nonproliferation nuclear security agenda grounded right responsibility nation reducing nuclear arsenal reliance nuclear weapon ensuring reliability effectiveness deterrent strengthening nuclear non-proliferation treaty npt foundation nonproliferation working npt hold nation like iran north korea accountable failure meet international obligation leading global effort secure vulnerable nuclear material terrorist pursuing new strategy protect biological attack challenge cyber network depend upon secure world dangerous weapon fighting war far-reaching network hatred violence disrupt dismantle defeat al-qa ida affiliate com- prehensive strategy denies safe strengthens front-line partner secures homeland pursues justice durable legal approach counter bankrupt agenda extremism murder agenda hope opportunity frontline fight afghanistan pakistan applying relentless pressure al-qa ida breaking taliban momentum strength- ening security capacity partner effort troop demonstrating extraordinary service making great sacrifice time danger full support iraq transitioning full iraqi sovereignty responsibility—a process includes removal troop strengthening civilian capacity long-term partnership iraqi government people unwavering pursuit comprehensive peace israel neighbor including two-state solution ensures israel security fulfilling palestinian people legitimate aspiration viable state broader engagement muslim community around world spur progress critical political security matter advancing partnership broad range issue based upon mutual interest mutual respect rebuild economic strength upon leadership depends working advance balanced sustainable growth upon global prosperity stability depends includes step home abroad prevent another crisis shifted focus g-20 premier forum international economic cooperation working rebalance global demand america save export emerging economy generate demand pursue bilateral multilateral trade agreement advance shared prosperity accelerat- ing investment development narrow inequality expand market support individual opportunity state capacity abroad overview national security strategy effort advance security prosperity enhanced support certain value universal nation respect human right democratic value successful stronger partner individual enjoy respect able achieve full potential united state reject false choice narrow pursuit interest endless campaign impose value instead see fundamental interest support peace around world—one individual nation granted fundamental right deserve keeping focus foundation strength influence promoting universal value abroad living home seek impose value force instead working strengthen international norm behalf human right welcoming peaceful democratic movement supporting development institution within fragile democracy integrating human right part dialogue repressive government sup- porting spread technology facilitate freedom access information recognize economic opportunity human right promoting dignity men woman support global health food security cooperative response humanitarian crisis finally effort shape international order promotes peace must facilitate cooperation capable addressing problem time international order support interest also end seek right new challenge hold prospect opportunity international community break old habit suspicion build upon common interest global effort combat climate change must draw upon national action reduce emis- sion commitment mitigate impact effort prevent conflict keep peace aftermath stop insecurity spreading global cooperation prevent spread pandemic disease promote public health implementing agenda easy succeed must balance integrate element american power update national security capacity 21st century must maintain military conventional superiority enhancing capacity defeat asymmetric threat diplomacy development capability must modernized civilian expeditionary capac- ity strengthened support full breadth priority intelligence homeland security effort must integrated national security policy ally partner ability synchronize action communicating effectively foreign public must enhanced sustain global support however america greatest asset remains people era shaped ability seize opportunity world grown interconnected american people make difference—the troop civilian serving within government business foundation educational institution operate around globe citizen posse dynamism drive diversity thrive world grown smaller danger globalization part product american leadership ingenuity american people uniquely suited seize promise ★national security strategy story without imperfection yet juncture history called upon rise occasion advanced security contributing cause human progress continue national security strategy must informed people enhanced contribution congress strengthened unity american people draw spirit anew build world greater peace prosperity human dignity ★ii strategic approach point human history—the interest nation people shared religious conviction hold heart forge new bond among people tear apart technology harness light path peace forever darken energy use sustain planet destroy happens hope single child—anywhere—can enrich world impoverish it. —president barack obama united nation general assembly september united state must renew leadership world building cultivating source strength influence national security depends upon america ability leverage unique national attribute global security depends upon strong responsible american leadership includes military might economic competitiveness moral leadership global engagement effort shape international system serf mutual interest nation people world changed extraordinary pace united state must adapt advance interest sustain leadership american interest enduring security united state citizen u.s. ally partner strong innovative growing u.s. economy open international economic system promotes opportunity prosperity respect universal value home around world international order advanced u.s. leadership promotes peace security oppor- tunity stronger cooperation meet global challenge currently united state focused implementing responsible transition end war iraq succeeding afghanistan defeating al-qa ida terrorist affiliate moving economy catastrophic recession lasting recovery confront crisis national strategy must take longer view must build stronger foundation american leadership work better shape outcome fundamental people 21st century strategic environment—the world two decade since end cold war free flow information people good service accelerated unprecedented rate interconnection empowered individual good ill challenged state based international institution largely designed wake world war policymakers different challenge mind nonstate actor dramatic influence world around economic growth alleviated poverty led new center influence nation asserting regionally globally life citizen —their safety prosperity—are bound ever event beyond border ★national security strategy within environment attack september transformative event united state demonstrating much trend far beyond shore could directly endanger personal safety american people attack put sharp focus america position sole global superpower danger violent extremism simmering conflict followed peaceful conclusion cold war drew swift forceful response united state ally partner afghanistan response followed decision war iraq ensuing year seen america force resource national security strategy focused conflict united state fighting two war many thousand men woman deployed harm way hundred billion dollar dedicated funding conflict iraq sup- porting transition responsibility sovereign iraqi government supporting security prosperity partner afghanistan pakistan part broader campaign disrupt dismantle defeat al-qa ida violent extremist affiliate yet wars—and global effort successfully counter violent extremism—are one ele- ment strategic environment define america engagement world terrorism one many threat consequential global age gravest danger american people global security continues come weapon mass destruction particularly nuclear weapon space cyberspace capability power daily life military operation vulnerable disruption attack dependence upon fossil fuel constrains option pollutes environment climate change pandemic disease threaten security region health safety american people failing state breed conflict endanger regional global security global criminal network foment insecurity abroad bring people good across border threaten people global economy reshaped innovation emerging economy transition low-carbon energy recovery catastrophic recession convergence wealth living standard among developed emerging economy hold promise balanced global growth dramatic inequality persists within among nation profound cultural demographic tension rising demand resource rapid urbanization could reshape single country entire region world grows interconnected individual gaining awareness universal right capacity pursue democracy respect right people remain successful state america steadfast ally yet advance democracy human right stalled many part world actor exert power influence europe united free peace ever european union deepened integration russia reemerged international arena strong voice china india—the world two populous nations—are becoming engaged globally latin america africa pacific new emerging power hold opportunity partnership even handful state endanger regional global security flouting interna- tional norm international institution play critical role facilitating cooperation time effectively address new threat seize new opportunity meanwhile individual corporation civil society play increasingly important role shaping event around world ★ii strategic approach united state retains strength enabled leadership many decade society exceptional openness vast diversity resilience engaged citizenry private sector civil society exhibit enormous ingenuity innovation worker capable dedicated world largest economy powerful military strong alliance vibrant cultural appeal history leadership economic social development continue destination sought immigrant around world enrich society transparent accountable democracy dynamic productive populace deep connection people around world continue embrace set value enabled liberty opportunity home abroad fluidity within international system breed new challenge must approached opportunity forge new international cooperation must rebalance long-term priority successfully move beyond today war focus attention resource broader set country challenge must seize opportunity afforded world interconnection responding effectively comprehensively danger must take advantage unparalleled connection america government private sector citizen around globe strategic approach—the world seek past united state thrived nation national security policy adapted shape change instead shaped instance industrial revolution took hold america transformed economy role world world confronted fascism america prepared win war shape peace followed united state encountered ideological economic military threat communism shaped practice institution home—and policy abroad—to meet challenge must position united state champion mutual interest among nation people building foundation national security begin home take place within border always source strength even truer age interconnection first foremost must renew foundation america strength long run welfare american people determine america strength world particularly time economy inextricably linked global economy prosperity serf wellspring power pay military underwrites diplomacy development effort serf leading source influence world moreover trade investment support million american job forge link among country spur global development contributes stable peaceful political economic environment yet even maintained military advantage competitiveness set back recent year recovering underinvestment area central america strength adequately advanced priority like education energy science technology health care—all essential u.s. competitiveness long-term prosperity strength year rising fiscal trade deficit also necessitate hard choice year ahead ★national security strategy rebuilding economy serve engine opportunity american people source american influence abroad united state must ensure world best-educated workforce private sector foster innovation citizen busi- ness access affordable health care compete globalized economy must transform way use energy—diversifying supply investing innovation deploying clean energy technology enhance energy security create job fight climate change rebuilding economy must include putting fiscally sustainable path imple- menting national security strategy require disciplined approach setting priority mak- ing tradeoff among competing program activity taken together effort position nation success global marketplace also supporting national security capacity—the strength military intelligence diplomacy development security resilience homeland moving beyond traditional distinction homeland national security national security draw strength resilience citizen community economy includes determination prevent terrorist attack american people fully coordinating action take abroad action precaution take home must also include com- mitment building secure resilient nation maintaining open flow good people continue develop capacity address threat hazard confront redeveloping infrastructure secure people work cooperatively nation america example also critical component foundation human right america stood since founding enabled leadership provided source inspiration people around world drawn clear contrast united state democratic ally nation individual deny suppress human right effort live value uphold principle democracy society underpin support aspiration oppressed abroad know turn america leadership based justice hope moral leadership grounded principally power example—not effort impose system people yet year method employed pursuit security compromised fidelity value promote leadership behalf undercut ability support democratic movement abroad challenge nation violate international human right norm apply broader leadership good world lead behalf value living struggle stay true value constitution always lodestar american people share aspiration human dignity value allowed draw best brightest shore inspire share cause abroad give credibility stand tyranny america must demonstrate word deed resilience value constitution compromise value pur- suit security undermine fortify sustain key source strength leadership world—one set apart enemy potential competitor ★ii strategic approach pursuing comprehensive engagement foundation support effort engage nation institution people around world basis mutual interest mutual respect engagement active participation united state relationship beyond border quite simply opposite self-imposed isolation denies ability shape outcome indeed america never succeeded isolationism nation helped build international system world war bring globalization came end cold war must reengage world comprehensive sustained basis engagement begin closest friend allies—from europe asia north america middle east nation share common history struggle behalf security prosperity democracy share common value common commitment international norm recog- nize right responsibility sovereign nation america national security depends vibrant alliance must engage active partner addressing global regional security priority harnessing new opportunity advance common interest instance pursue close regular collaboration close ally united kingdom france germany issue mutual global concern continue deepen cooperation 21st century center influence—including china india russia—on basis mutual interest mutual respect also pursue diplomacy development support emergence new successful partner america africa middle east southeast asia ability advance constructive coopera- tion essential security prosperity specific region facilitating global cooperation issue ranging violent extremism nuclear proliferation climate change global economic instability—issues challenge nation one nation alone meet adversarial government offer clear choice abide international norm achieve political economic benefit come greater integration international community refuse accept pathway bear consequence decision including greater isolation engagement create opportunity resolve difference strengthen international community support action learn intention nature closed regime plainly demonstrate public within nation government blame isolation successful engagement depend upon effective use integration different element american power diplomacy development capability must help prevent conflict spur eco- nomic growth strengthen weak failing state lift people poverty combat climate change epidemic disease strengthen institution democratic governance military continue strengthening capacity partner foreign counterpart train assist security force pursue military-to-military tie broad range government continue foster economic financial transaction advance shared prosperity intelligence law enforcement agency must cooperate effectively foreign government anticipate event respond crisis provide safety security ★national security strategy finally pursue engagement among peoples—not governments—around world united state government make sustained effort engage civil society citizen facilitate increased connection among american people people around world—through effort ranging public service educational exchange increased commerce private sector partnership many instance mode engagement powerful enduring impact beyond border cost-effective way projecting positive vision american leadership time seen best ambassador american value interest american people—our business nongovernmental organization scientist athlete artist military service member student facilitating increased international engagement outside government help prepare country thrive global economy building goodwill relationship invaluable sus- taining american leadership also help leverage strength unique america—our diversity diaspora population openness creativity value people embody life promoting sustainable international order engagement underpin sustainable international order—just advance mutual interest protects right hold accountable refuse meet responsibility sustainable based broadly shared norm foster collective action address common challenge engagement pursue international order recognizes right responsibility nation world war must pursue rules-based international system advance interest serving mutual interest international institution must effective representative diffusion influence 21st century nation must incentive behave responsibly isolated test international order must cooperation facilitates result generates—the ability nation come together confront common challenge like violent extremism nuclear proliferation climate change changing global economy precisely reason strengthen enforcement international law commit- ment engage modernize international institution framework nation refuse meet responsibility forsake opportunity come international cooperation credible effective alternative military action—from sanction isolation—must strong enough change behavior must reinforce alliance military capability nation challenge undermine international order based upon right responsibility must find isolated succeeded post-world war era pursuing interest within multilateral forum like united nations—not outside recognized institution aggregated national inter- est many nation would never perfect also saw indispensable vehicle pooling international resource enforcing international norm indeed basis international ★iii advancing interest cooperation since world war architecture international institution organization regime standard establishes certain right responsibility sovereign nation recent year america frustration international institution led time engage united nation u.n. system hoc basis world transnational challenge united state need invest strengthening international system working inside interna- tional institution framework face imperfection head mobilize transnational cooperation must clear-eyed factor impeded effectiveness past order collec- tive action mobilized polarization persists across region race religion need replaced galvanizing sense shared interest swift effective international action often turn political coalition country comprise regional international institution new emerging power seek greater voice representation need accept greater responsibility meeting global challenge nation breach agreed international norm country espouse norm must convinced band together enforce expand support modernizing institution arrangement evolution g-8 g-20 reflect reality today international environment working institution country comprise enhance international capacity prevent conflict spur economic growth improve security combat climate change address challenge posed weak failing state challenge assist international institution framework reform fail live promise strengthening legitimacy authority international law institution especially u.n. require constant struggle improve performance furthermore international order must recognize increasing influence individual today world must opportunity civil society thrive within nation forge connection among must opportunity individual private sector play major role addressing common challenges—whether supporting nuclear fuel bank promoting global health fostering entrepreneurship exposing violation universal right 21st century ability individual nongovernment actor play positive role shaping international environment represents distinct opportunity united state within context know international order every nation upholds right responsibility remain elusive force sometimes necessary confront threat technology continue bring new danger poverty disease completely abolished oppression always recognize challenge embrace america responsibil- ity confront partner forge new cooperative approach get others join overcoming international order globalized age better advance interest common interest nation people everywhere ★national security strategy strengthening national capacity—a whole government approach succeed must update balance integrate tool american power work ally partner military must maintain conventional superiority long nuclear weapon exist nuclear deterrent capability continuing enhance capacity defeat asymmetric threat preserve access global common strengthen partner must invest diplomacy development capability institution way complement reinforces global partner intelligence capability must continuously evolve identify characterize conventional asymmetric threat provide timely insight must integrate approach homeland security broader national security approach improving integration skill capability within military civilian institution complement operate seamlessly also improving coordinated planning policymaking must build capacity key area fall short requires close coopera- tion congress deliberate inclusive interagency process achieve integration effort implement monitor operation policy strategy initiate effort white house merged staff national security council homeland security council however work remains foster coordination across department agency key step include effectively ensuring alignment resource national security strategy adapting education training national security professional equip meet modern challenge reviewing authority mechanism implement coordinate assistance program policy program strengthen coordination defense strengthening military ensure prevail today war prevent deter threat united state interest ally partner prepare defend united state wide range contingency state nonstate actor continue rebalance military capability excel counterterrorism counterinsurgency stability operation meeting increasingly sophisticated security threat ensuring force ready address full range military operation includes preparing increasingly sophisticated adversary deterring defeating aggression anti-access environment defending united state supporting civil authority home valuable component national defense men woman make america all-volunteer force shown tremendous resilience adapt- ability capacity innovation provide service member resource need succeed rededicate providing support care wounded warrior veteran military family must set force path sustainable deployment cycle preserve enhance long-term viability force successful recruitment retention recognition serve diplomacy diplomacy fundamental national security defense capability diplo- mat first line engagement listening partner learning building respect one another seeking common ground diplomat development expert others united state government must able work side side support common agenda new skill needed foster effective interaction convene connect mobilize government international organization also nonstate actor corporation foundation nongovern- mental organization university think tank faith-based organization increasingly distinct role play diplomatic development issue accomplish goal ★table content diplomatic personnel mission must expanded home abroad support increasingly transnational nature 21st century security challenge must provide appropriate authori- tie mechanism implement coordinate assistance program grow civilian expedi- tionary capacity required assist government diverse array issue economic economic institution crucial component national capacity economic instrument bedrock sustainable national growth prosperity influence office management budget department treasury state commerce energy agriculture united state trade representative federal reserve board institution help manage currency trade foreign investment deficit inflation productivity national competitiveness remaining vibrant 21st century economic power also requires close cooperation among developed nation emerging market interdependent nature global economy america—like nations—is dependent upon overseas market sell export maintain access scarce commodity resource thus finding overlapping mutual economic interest nation maintaining economic relationship key element national security strategy development development strategic economic moral imperative focusing assist- ing developing country people manage security threat reap benefit global economic expansion set place accountable democratic institution serve basic human need aggressive affirmative development agenda commensurate resource strengthen regional partner need help stop conflict counter global criminal network build stable inclusive global economy new source prosperity advance democracy human right ultimately position better address key global challenge growing rank prosperous capable democratic state partner decade ahead expanding civilian development capability engaging international financial institution leverage resource advance objective pursuing development budget deliberately reflects policy strategy sector earmark ensuring policy instrument aligned support development objective homeland security homeland security trace root traditional historic function govern- ment society civil defense emergency response law enforcement custom border patrol immigration aftermath 9/11 foundation department homeland security function taken new organization urgency homeland security therefore strives adapt traditional function confront new threat evolving hazard simply government action alone rather collective strength entire country approach relies shared effort identify interdict threat deny hostile actor ability operate within border maintain effective control physical border safeguard lawful trade travel united state disrupt dismantle transnational terrorist criminal organiza- tions ensure national resilience face threat hazard taken together effort must support homeland safe secure terrorism hazard american interest aspiration way life thrive intelligence country safety prosperity depend quality intelligence collect analysis produce ability evaluate share information timely manner ability counter intelligence threat true strategic intelligence informs executive decision intelligence support homeland security state local tribal govern- ★national security strategy ments troop critical national mission working better integrate intelligence community also enhancing capability intelligence community member strengthening partnership foreign intelligence service sustaining strong tie close ally continue invest men woman intelligence community strategic communication across effort effective strategic communication essential sustaining global legitimacy supporting policy aim aligning action word shared responsibility must fostered culture communication throughout government must also effective deliberate communication engagement better job understanding attitude opinion grievance concern peoples—not elites—around world allows convey credible consistent message develop effective plan better understanding action perceived must also use broad range meth- communicating foreign public including new medium american people private sector idea value energy creativity resilience citizen america greatest resource support development prepared vigilant engaged community underscore citizen heart resilient country must tap ingenuity outside government strategic partnership private sector nongovernmental organization foundation community-based organization partnership critical u.s. success home abroad support enhanced opportuni- tie engagement coordination transparency information sharing ★iii advancing interest achieve world seek united state must apply strategic approach pursuit four enduring national interest security security united state citizen u.s. ally partner prosperity strong innovative growing u.s. economy open international economic system promotes opportunity prosperity value respect universal value home around world international order international order advanced u.s. leadership promotes peace security opportunity stronger cooperation meet global challenge interest inextricably linked others single interest pursued isolation time positive action one area help advance four initiative described encompass america national security concern however represent area particular priority area progress critical securing country renewing american leadership year come security apologize way life waver defense seek advance aim inducing terror slaughtering innocent say spirit stronger broken—you outlast defeat you. —president barack obama inaugural address january threat people homeland interest shifted dramatically last year competition among state endures instead single nuclear adversary united state threatened potential spread nuclear weapon extremist may deterred using instead hostile expansionist empire face diverse array challenge loose network violent extremist state flout international norm face internal collapse addition facing enemy traditional battlefield united state must prepared asymmetric threat target reliance space cyberspace administration greater responsibility protecting american people furthermore embrace america unique responsibility promote international security—a responsibility flow commitment ally leading role supporting sustainable international order unmatched military capability united state remains nation able project sustain large-scale military operation extended distance maintain superior capability deter defeat adaptive enemy ★national security strategy ensure credibility security partnership fundamental regional global security way military continues underpin national security global leadership use appropriately security leadership reinforced overuse military might fail invest deploy complementary tool act without partner military overstretched american bear greater burden leadership around world narrowly identified military force know enemy aim overextend armed force drive wedge share interest therefore must continue adapt rebalance instrument statecraft home inte- grating homeland security effort seamlessly aspect national security approach strengthening preparedness resilience abroad strengthening alliance forging new partnership using every tool american power advance objectives—including enhanced diplomatic development capability ability prevent conflict work alongside military strengthening international norm isolate government flout marshal cooperation nongovernmental actor endanger common security strengthen security resilience home home united state pursuing strategy capable meeting full range threat hazard community threat hazard include terrorism natural disaster large-scale cyber attack pandemic everything within power prevent danger also recognize able deter prevent every single threat must also enhance resilience—the ability adapt changing condition prepare withstand rapidly recover disruption keep american safe secure home working enhance security home security home relies shared effort prevent deter attack identifying interdicting threat denying hostile actor ability operate within border protecting nation critical infrastructure key resource securing cyberspace pursuing initiative protect reduce vulnerability critical infrastructure border port airport enhance overall air maritime transportation space cyber security building foundation recognize global system carry people good data around globe also facilitate movement dangerous people good data within system transportation transaction key nodes—for example point origin transfer border crossings—that represent opportunity exploitation interdiction thus working partner abroad confront threat often begin beyond border developing line coordination home across federal state local tribal territorial nongovernmental private-sector partner well individual community effectively manage emergency building capability prepare disaster reduce eliminate long-term effect people property hazard respond recover major incident improve preparedness integrating domestic hazard planning level government building key capability respond emergency continue collaborate community ensure preparedness effort integrated level government private nonprofit sector investing operational capability equipment ★iii advancing interest improving reliability interoperability communication system first responder encouraging domestic regional planning integrated preparedness program encourage government level engage long-term recovery planning critical continually test improve plan using exercise realistic scenario consequence empowering community counter radicalization several recent incidence violent extremist united state committed fighting abroad underscored threat united state interest posed individual radicalized home best defense threat well informed equipped family local community institution federal government invest intelligence understand threat expand community engagement development program empower local community federal government drawing expertise resource relevant agency clearly communicate policy intention listening local concern tailoring policy address regional concern making clear diversity part strength—not source division insecurity improve resilience increased public-private partnership incident occur must show resilience maintaining critical operation function returning normal life learning disaster lesson translated pragmatic change necessary private sector owns operates nation critical infrastructure play vital role preparing recovering disaster must therefore strengthen public-private partnership developing incentive government private sector design structure system withstand disruption mitigate associated consequence ensure redundant system necessary maintain ability operate decentralize critical operation reduce vulnerability single point disruption develop test continuity plan ensure ability restore critical capability invest improvement maintenance existing infrastructure engage community citizen emphasize individual community preparedness resilience frequent engagement provides clear reliable risk emergency information public key part effort providing practical step american take protect family neighbor includes transmitting information multiple pathway special need addition support effort develop nationwide public safety broadband network effort inform empower american community recognize resilience always heart american spirit disrupt dismantle defeat al-qa ida violent extremist affiliate afghanistan pakistan around world united state waging global campaign al-qa ida terrorist affiliate disrupt dismantle defeat al-qa ida affiliate pursuing strategy protects homeland secures world dangerous weapon material denies al-qa ida safe build positive partnership muslim community around world success requires broad sustained integrated campaign judiciously applies every tool american power—both military civilian—as well concerted effort like-minded state multilateral institution ★national security strategy always seek delegitimize use terrorism isolate carry yet global war tactic—terrorism religion—islam war specific network al-qa ida terrorist affiliate support effort attack united state ally partner prevent attack homeland prevent act terrorism american soil must enlist intelligence law enforcement homeland security capability continue inte- grate leverage state major urban area fusion center capability share classified information establish nationwide framework reporting suspicious activity implement integrated approach counterterrorism information system ensure analyst agent officer protect access relevant intelligence throughout government improving information sharing cooperation linking network facilitate federal state local capability seamlessly exchange message information conduct search collaborate coordinating better foreign partner identify track limit access funding prevent terrorist travel recognizing inextricable link domestic transnational security collaborate bilaterally regionally international institution promote global effort prevent terrorist attack strengthen aviation security know aviation system particular target al-qa ida affiliate must continue bolster aviation security worldwide focus increased information collection sharing stronger passenger vetting screening measure develop- ment development advanced screening technology cooperation international community strengthen aviation security standard effort around world deny terrorist weapon mass destruction prevent act terrorism world danger- ous weapon dramatically accelerating intensifying effort secure vulnerable nuclear material end prevent spread nuclear weapon also take action safeguard knowledge capability life chemical science could vulnerable misuse deny al-qa ida ability threaten american people ally partner interest overseas al-qa ida ally must permitted gain retain capacity plan launch international terrorist attack especially u.s. homeland ida core pakistan remains dangerous component larger network also face growing threat group ally worldwide must deny group ability conduct operational plotting locale recruit train position operative including europe north america afghanistan pakistan epicenter violent extremism practiced ida danger region grow security slide backward taliban control large swath afghanistan al-qa ida allowed operate impunity prevent future attack united state ally partner must work others keep pressure al-qa ida increase security capacity partner region afghanistan must deny al-qa ida safe deny taliban ability overthrow gov- ernment strengthen capacity afghanistan security force government take lead responsibility afghanistan future within pakistan working government address local regional global threat violent extremist ★iii advancing interest achieve objective strategy comprised three component first military international security assistance force isaf partner within afghanistan targeting insurgency working secure key population center increasing effort train afghan security force military resource allow create condition transition afghan responsibility july begin reducing troop responsibly taking account condition ground continue advise assist afghanistan security force succeed long term second continue work partner united nation afghan government improve accountable effective governance work advance strategic partnership afghan government focusing assistance supporting president afghanistan ministry governor local leader combat corruption deliver people effort based upon performance measure progress also target assistance area make immediate enduring impact life afghan people agriculture supporting human right afghanistan people—women men support long-term commitment relationship two country support strong stable prosperous afghanistan third foster relationship pakistan founded upon mutual interest mutual respect defeat violent extremist threaten country strengthen pakistan capacity target violent extremist within border continue provide security assistance support effort strengthen pakistan democracy develop- ment provide substantial assistance responsive need pakistani people sustain long-term partnership committed pakistan future strategic partnership developing pakistan includes deepening cooperation broad range area addressing security civilian challenge continue expand tie engagement pakistan year come deny safe haven strengthen at-risk state wherever al-qa ida terrorist affiliate attempt establish safe haven—as yemen somalia maghreb sahel—we meet growing pressure also strengthen network partner disable al-qa ida financial human planning network disrupt terrorist operation mature address potential safe-havens al-qa ida terrorist affiliate take root effort focus information-sharing law enforcement cooperation establishing new practice counter evolving adversary also help state avoid becoming terrorist safe haven helping build capacity responsible governance security development security sector assistance deliver swift sure justice effectively detain interrogate prosecute terrorist need durable legal approach consistent security value adhere several principle leverage available information intelligence disrupt attack dismantle al-qa ida affiliated terrorist organization bring terrorist justice act line rule law due process submit decision check balance accountability insist matter detention secrecy addressed manner consistent constitution ★national security strategy law deny violent extremist one potent recruitment tool close prison guantanamo bay resist fear overreaction goal perpetrate terrorist attack part sow fear respond fear allow violent extremist succeed far beyond initial impact attack attempted attacks—altering society enlarging standing al-qa ida terrorist affiliate far beyond actual reach similarly overreacting way creates fissure america certain region religion undercut leadership make safe contrast al-qa ida intent destroy constructive vision violent extremist seek destroy make clear intent build striving build bridge among people different faith region continue work resolve arab-israeli conflict long source tension continue stand universal right people even disagree developing new partnership muslim community around world behalf health education science employment innovation broader emphasis muslim engagement communicate commitment support aspiration people security opportunity finally reject notion al-qa ida represents religious author- ity religious leader killer neither islam religion condones slaughter innocent use force military force time may necessary defend country ally preserve broader peace security including protecting civilian facing grave humanitarian crisis draw diplo- macy development international norm institution help resolve disagreement prevent conflict maintain peace mitigating possible need use force mean credibly underwriting u.s. defense commitment tailored approach deterrence ensuring u.s. military continues necessary capability across domains—land air sea space cyber also includes helping ally partner build capacity fulfill responsibility contribute regional global security use force sometimes necessary exhaust option war whenever carefully weigh cost risk action cost risk inaction force neces- sary continue way reflects value strengthens legitimacy seek broad international support working institution nato u.n. security council united state must reserve right act unilaterally necessary defend nation inter- est yet also seek adhere standard govern use force strengthens act line international standard isolating weakening also outline clear mandate specific objective thoroughly consider consequence —intended unintended—of action united state take care sending men woman armed force harm way ensure leadership training equipment require accomplish mission ★iii advancing interest reverse spread nuclear biological weapon secure nuclear material american people face greater urgent danger terrorist attack nuclear weapon international peace security threatened proliferation could lead nuclear exchange indeed since end cold war risk nuclear attack increased excessive cold war stockpile remain nation acquired nuclear weapon testing continued black market trade nuclear secret material terrorist determined buy build steal nuclear weapon effort contain danger centered global nonproliferation regime frayed people nation break rule reversing spread nuclear weapon top priority success depends upon broad consensus concerted action move forward strategically number front example partnership reinvigorated international regime united state pursue goal world without nuclear weapon goal reached administration active pursuit eventual achievement increase global security keep commitment npt build cooperation russia state increase cred- ibility hold others accountable obligation long nuclear weapon exist united state sustain safe secure effective nuclear arsenal deter potential adversary assure u.s. ally security partner count america security commitment signed seek ratify landmark new start treaty russia substantially limit deployed nuclear warhead strategic delivery vehicle assuring comprehensive monitoring regime reducing role nuclear weapon national security approach extending negative security assurance use threaten use nuclear weapon nonnuclear nation compliance npt nuclear nonproliferation obligation investing modernization safe secure effective stockpile without production new nuclear weapon pursue ratification comprehensive test ban treaty seek new treaty verifiably end production fissile material intended use nuclear weapon strengthen nuclear non-proliferation treaty basic bargain npt sound country nuclear weapon move toward disarmament country without nuclear weapon forsake country access peaceful nuclear energy strengthen npt seek resource authority international inspection develop new framework civil nuclear cooperation member global nuclear energy partnership agreed one important ele- ment enhanced framework could cradle-to-grave nuclear fuel management pursue broad international consensus insist nation meet obligation also pursue meaningful consequence country fail meet obligation npt meet requirement withdrawing present clear choice iran north korea united state pursue denuclearization korean peninsula work prevent iran developing nuclear weapon singling nations—it responsibility nation success nonproliferation regime nation face clear choice north korea eliminates nuclear weapon program iran meet international obligation nuclear program able proceed path greater ★national security strategy political economic integration international community ignore international obligation pursue multiple mean increase isolation bring compliance international nonproliferation norm secure vulnerable nuclear weapon material global nuclear security summit rallied nation behind goal securing nuclear material terrorist group end seek complete focused international effort secure vulnerable nuclear material around world enhanced protection accounting practice expanded cooperation international institution new partnership lock sensitive material detect intercept nuclear material transit stop illicit trade technology work turn program proliferation security initiative global initiative combat nuclear terrorism durable international effort sustain broad-based cooperation nation international institution ensure continued improvement necessary protect nuclear material evolving threat support peaceful nuclear energy country move increasingly tap peaceful nuclear energy provide power generation advancing climate goal world must develop infrastructure country seek use nuclear energy energy security need climate goal ensure nuclear energy developed safer manner promoting safety regulatory body training operator promoting physical security prevent terrorist act assuring safe secure handling fuel front back end nuclear fuel cycle counter biological threat effective dissemination lethal biological agent within population center would endanger life hundred thousand people unprecedented eco- nomic societal political consequence must continue work home first responder health official reduce risk associated unintentional deliberate outbreak infectious disease strengthen resilience across spectrum high-consequence biological threat work domestic international partner protect biological threat promot- ing global health security reinforcing norm safe responsible conduct obtaining timely accurate insight current emerging risk taking reasonable step reduce potential exploitation expanding capability prevent attribute apprehend carry attack communicating effectively stakeholder helping transform international dialogue biological threat advance peace security opportunity greater middle east united state important interest greater middle east include broad cooperation wide range issue close friend israel unshakable commitment security achievement palestinian people legitimate aspiration statehood opportunity real- ization extraordinary potential unity security iraq fostering democracy reintegration region transformation iranian policy away pursuit nuclear weapon support terrorism threat neighbor nonproliferation counterterrorism cooperation access energy integration region global market ★iii advancing interest time engagement must comprehensive strategic extend beyond near-term threat appealing people aspiration justice education opportunity pursuing positive sustainable vision u.s. partnership region furthermore relation- ship israeli arab friend partner region extends beyond commitment security includes continued tie share area trade exchange cooperation broad range issue complete responsible transition end war iraq war iraq present distinct important challenge united state international community iraqi people region america serviceman woman along coalition partner performed remarkably fighting determined enemy worked civilian help iraqi people regain control destiny going forward responsibility security security region successfully end war full transition iraqi responsibility cultivate enduring relationship iraq based mutual interest mutual respect goal iraq sovereign stable self-reliant achieve goal continuing promote iraqi government representative accountable denies support safe terrorist united state pursue claim iraqi territory resource keep commitment iraq democratically elected government effort build new tie trade commerce iraq world enable iraq assume rightful place community nation contribute peace security region pursuing objective strategy three core component transition security first transitioning security full iraqi responsibility end combat mission iraq end august 2010. continue train equip advise iraqi security force conduct targeted counterterrorism mission protect ongoing civilian military effort iraq consistent commitment iraqi government including u.s.-iraq security agreement remove troop iraq end civilian support second security situation continues improve u.s. civilian engage- ment deepen broaden sustain capable political diplomatic civilian effort help iraqi people resolve outstanding difference integrate refugee displaced person return continue develop accountable democratic institu- tions better serve basic need work iraqi partner implement strategic framework agreement department state taking lead include cooperation range issue including defense security cooperation political diplomatic cooperation rule law science health education economics regional diplomacy development third continue pursue comprehensive engagement across region ensure drawdown iraq provides opportunity advance lasting security sustainable development iraq broader middle east united state continue retain robust civilian presence commensurate strategic interest country region transforming relationship one consistent strategic partner region ★national security strategy pursue arab-israeli peace united state israel palestinian arab state interest peaceful resolution arab-israeli conflict—one legitimate aspiration israeli palestinian security dignity realized israel achieves secure lasting peace neighbor united state seek two state living side side peace security—a jewish state israel true security acceptance right israeli viable independent palestine contiguous territory end occupation began realizes potential palestinian people continue work regionally like-minded partner order advance negotiation address permanent-status issue security israeli palestinian border refugee jerusalem also seek international support build institution upon palestinian state depend supporting economic development bring opportunity people arab-israeli peace lasting harmful regional interference end constructive regional support deepens pursue peace israeli palestinian also pursue peace israel lebanon israel syria broader peace israel neighbor pursue regional initiative multilateral participation alongside bilateral negotiation promote responsible iran decade islamic republic iran endangered security region united state failed live international responsibility addition illicit nuclear program continues support terrorism undermine peace israeli palestinian deny people universal right many year refusing engage iran failed reverse trend contrary iran behavior became threatening engagement some- thing pursue without illusion offer iran pathway better future provided iran leader prepared take better pathway achieved iran leader change course act restore confidence international community fulfill obligation united state seek future iran meet international responsibility take rightful place community nation enjoys political economic opportunity people deserve yet iranian government continues refuse live international obligation face greater isolation invest capacity strong capable partner government incapable meeting citizen basic need fulfilling responsibili- tie provide security within border consequence often global may directly threaten american people advance common security must address underlying political economic deficit foster instability enable radicalization extremism ultimately undermine ability government manage threat within border partner addressing common challenge invest capacity strong capable partner work foster security reconstruction aftermath conflict united state international community shy away difficult task pursuing stabilization conflict post-conflict environment country like iraq afghanistan building capacity necessary security eco- nomic growth good governance path long term peace security also learned effectiveness effort profoundly affected capacity government ★iii advancing interest political leader take constraint account designing appropriate assistance strategy facilitate kind collaboration essential—within govern- ment international organizations—in instance engage difficult work helping bring conflict end pursue sustainable responsible security system at-risk state proactively investing stronger society human welfare far effective efficient responding state collapse united state must improve capability strengthen security state risk conflict violence undertake long-term sustained effort strengthen capacity security force guarantee internal security defend external threat promote regional security respect human right rule law also continue strengthen administrative oversight capability civilian security sector institution effectiveness criminal justice prevent emergence conflict strategy beyond meeting challenge today includes preventing challenge seizing opportunity tomorrow requires investing capable partner future building today capacity strengthen foundation common security modernizing capability order ensure agile face change already begun reorient strengthen development agenda take stock enhance capability forge new effective mean applying skill military diplomat development expert kind measure help diminish military risk act crisis conflict erupt ensure government better able serve people secure cyberspace cybersecurity threat represent one serious national security public safety economic challenge face nation technology empower lead create also empower would disrupt destroy enable military superiority unclassified govern- ment network constantly probed intruder daily life public safety depend power electric grid potential adversary could use cyber vulnerability disrupt massive scale internet e-commerce key economic competitiveness cyber criminal cost company consumer hundred million dollar valuable intellectual property threat face range individual criminal hacker organized criminal group terrorist network advanced nation state defending threat security prosperity personal privacy requires network secure trustworthy resilient digital infrastruc- ture therefore strategic national asset protecting it—while safeguarding privacy civil liberties—is national security priority deter prevent detect defend quickly recover cyber intrusion attack investing people technology advance goal working across government private sector design secure technology give ability better protect improve resilience critical government industry system network continue invest cutting-edge research development necessary innovation discovery need meet challenge begun comprehensive national campaign promote ★national security strategy cybersecurity awareness digital literacy boardroom classroom build digital workforce 21st century strengthening partnership neither government private sector individual citizen meet challenge alone—we expand way work together also strengthen interna- tional partnership range issue including development norm acceptable conduct cyberspace law concerning cybercrime data preservation protection privacy approach network defense response cyber attack work key players— including level government private sector nationally internationally—to investigate cyber intrusion ensure organized unified response future cyber incident natural disaster plan resource place beforehand prosperity answer problem lie beyond reach exist laboratory university field factory imagination entrepreneur pride hardest-working people earth quality made america greatest force progress prosperity human history still posse ample measure required country pull together confront boldly challenge face take responsibility future more. —president barack obama address joint session congress february foundation american leadership must prosperous american economy growing open global economy serf source opportunity american people source strength united state free flow information people good service also advanced peace among nation place emerged prosperous often stable yet also seen shock global economy precipitate disaster—including loss job decline standard living part country instability loss u.s. influence abroad meanwhile growing prosperity around world made economic power diffuse creating competitive environment america people business allow american pursue opportunity upon prosperity depends must build stronger foundation economic growth foundation must include access complete competitive education every american transformation way produce use energy reduce dependence fossil fuel lead world creating new job industry access quality affordable health care people business government constrained rising cost responsible management federal budget balance priority burdened debt succeed must also ensure america stay cutting edge science innovation support prosperity defense international technological leadership ★iii advancing interest new foundation must underpin sustain international economic system critical prosperity peace security world must reinvigorate fortify 21st century preventing cycle boom bust new rule road home abroad saving spending resisting protectionism promoting trade free fair coordinating action country reforming international institution give emerging economy greater voice greater responsibility supporting development promotes good governance unleashes potential different population creates new market overseas taken together action ensure inclusive growth balanced sustained strengthen education human capital global economy vastly increased mobility interdependence prosperity leader- ship depends increasingly ability provide citizen education need succeed attracting premier human capital workforce must ensure innovative idea take root america providing people skill need compete mean must improve education level united state lost ground education even competi- tiveness depends educating child succeed global economy based knowledge innovation working provide complete competitive education american include supporting high standard early learning reforming public school increasing access higher education job training promoting high-demand skill education emerging industry also restore u.s. leadership higher education seeking goal leading world proportion college graduate 2020. invest science technology engineering math education stem america long-term leader- ship depends educating producing future scientist innovator invest stem education student learn think critically science math engineering technology improve quality math science teaching american student longer outperformed nation expand stem education career opportunity underrepresented group including woman girl work partners—from private-sector nonprofit organization universities—to promote education career science technology increase international education exchange pervasiveness english language american cultural influence great advantage american traveling working negotiating foreign country must develop skill help succeed dynamic diverse global economy support program cultivate interest scholarship foreign language intercultural affair including international exchange program allow citizen build connection people overseas develop skill contact help thrive global economy must also welcome foreign exchange student shore recognizing benefit result deeper tie foreign public increased understanding american society pursue comprehensive immigration reform united state nation immigrant ability innovate tie world economic prosperity depend nation capacity welcome assimilate immigrant visa system welcome skilled professional around ★national security strategy world time effective border security immigration enforcement must keep country safe deter unlawful entry indeed persistent problem immigration policy consume valuable resource needed advance security objective make harder focus danger- ous threat facing country ultimately national security depends striking balance security openness advance goal must pursue comprehensive immigration reform effectively secures border repairing broken system fails serve need nation enhance science technology innovation reaffirming america role global engine scientific discovery technological innovation never critical challenge like climate change pandemic disease resource scarcity demand new innovation meanwhile nation lead world building clean energy economy enjoy substantial economic security advantage administration investing heavily research improving education science math promoting development energy expanding international cooperation transform energy economy long dependent fossil fuel need ensure security free flow global energy resource without significant timely adjustment energy dependence continue undermine security prosperity leave vulnerable energy supply disruption manipulation change environment unprecedented scale united state window opportunity lead development clean energy technology successful united state lead new industrial revolution clean energy major contributor economic prosperity develop policy encourage private sector seize opportunity united state fall behind increasingly become importer new energy technology already made largest investment clean energy history much build foundation must continue transform energy economy leveraging private capital accelerate deployment clean energy technology cut greenhouse gas emission improve energy efficiency increase use renewable nuclear power reduce dependence vehicle oil diversify energy source supplier invest research next-generation technology modernize way distribute electricity encourage usage transitional fuel moving towards clean energy produced home invest research research development central broader national capacity incident like outbreak h1n1 influenza challenge identifying new renewable source energy highlight importance research basic applied science reversing decades-long decline federal funding research including single largest infusion basic science research american history research innovation something government support create incentive encourage private initiative united state always excelled ability turn science technology engineering product must continue future ★iii advancing interest expand international science partnership america scientific leadership always widely admired around world must continue expand cooperation partnership science technology launched number science envoy around globe promoting stronger relationship american scientist university researcher counterpart abroad reestablish commitment science technology foreign assistance effort develop strategy international science national security employ technology protect nation renewed commitment science technology—and ability apply ingenuity public private sector toward difficult foreign policy security challenge time—will help protect citizen advance u.s. national security priority include example protecting u.s. allied force asymmetric attack support- ing arm control nonproliferation agreement preventing terrorist attacking homeland preventing managing widespread disease outbreak securing supply chain detecting weapon mass destruction reach border protecting information communication transportation infrastructure leverage grow space capability year space community catalyst innovation hallmark u.s. technological leadership space capability underpin global commerce scientific advancement bolster national security strength ally partner promote security stability space pursue activity consistent inherent right self-defense deepen cooperation ally friend work nation toward responsible peaceful use space maintain advantage afforded united state space must also take several action must continue encourage cutting-edge space technology investing people industrial base develops invest research development next-generation space technology capability benefit commercial civil scientific exploration national security community order maintain viability space future generation promote unified effort strengthen space industrial base work university encourage student pursue space-related career achieve balanced sustainable growth balanced sustainable growth home throughout global economy drive momentum u.s. economy underpins prosperity steadily growing global economy mean expand- ing market export good service time deepening linkage among market business provide setting energy entrepreneurship private sector flourish generating technology business growth job creation boost living standard american united state economic leadership adapt rising prominence emerging economy growing size speed sophistication financial market multiplicity market participant around globe struggling economy far failed integrate global system promote prosperity american need lead international community expand inclusive growth integrated global economy time need lead international effort prevent recurrence economic imbalance financial excess managing ★national security strategy many security threat global challenge affect global economic stability promote growth balanced sustained prevent renewed instability global economy recent crisis taught high cost boom bust cycle plagued global economy served neither united state international partner american found debt work demand foreign good fell sharply foreign economy weakened financial institution public finance came stress reinforcing global slowdown must prevent reemergence imbalanced growth american consumer buying borrowing asian export- ing country selling accumulating claim must pursue reform u.s. financial system strengthen health economy encourage american save must prevent reemergence excess financial institution based irresponsible lending behavior abetted lax uncoordinated regulation save export striking better balance home mean saving spending reforming financial system reducing long-term budget deficit change see greater emphasis export build produce sell world goal doubling u.s. export 2014. ultimately employment strategy higher export support million well-paying american job including service innovative profit- able new technology part effort reforming export control consistent national security imperative shift greater domestic demand abroad rest world especially emerging market developing country better balance mean placing greater emphasis increasing domestic demand leading driver growth opening market country able import capital technology needed sustain remarkable productivity gain already underway rebalancing provide opportunity worker consumer time enjoy higher standard living made possible gain balanced growth translates sustained growth middle-income poor country many yet sufficiently integrated global economy accelerate process convergence living standard toward richer countries—a process become driver growth global economy decade come open foreign market product service united state long one open market world leader expanding open trading system underwritten growth developed emerging market alike openness also forced company worker compete innovate time offered market access crucial success many country around world maintain open investment environment consistent national security goal new era opening market around globe promote global competition innovation crucial prosperity pursue trade agenda includes ambitious balanced doha multilateral trade agreement bilateral multilateral trade agreement reflect value interest engagement transpacific partnership country shape regional agreement high standard forward trade policy important part effort capitalize opportuni- tie presented globalization also part effort equip american compete make ★iii advancing interest trade agreement work american take step restore confidence realistic program deal transition cost promote innovation infrastructure healthcare reform education agreement contain achievable enforcement mechanism ensure gain negotiate fact realized structured reflect u.s. interest especially labor environment build cooperation international partner united state supported g-20 emer- gence premier forum international economic cooperation flow recognition need broader inclusive engagement country responsible global output trade u.s. leadership g-20 focused securing sustainable balanced growth coordinating reform financial sector regulation fostering global economic development promoting energy security also need official international financial institution modern agile global economy serve g-20 pursue governance reform international monetary fund imf world bank also broaden leadership international financial institution rapidly growing country world see repre- sentation increase willing invest institution authority need promote stability growth global output trade deterring threat international financial system today open global financial system also expose global financial threat work make opportunity glo- balization brings actor pose threat national security—terrorists proliferators narcotic trafficker corrupt official others—are abusing global financial system raise move safe- guard fund support illicit activity derive profit support network global reach contained national border strategy attack network must respond kind target illicit resource access global financial system financial measure administration enforcement regulatory authority outreach private sector foreign partner collaboration international standard information sharing accelerate sustainable development growth emerging economy recent decade lifted people poverty forged interconnected vibrant global economy development uneven progress fragile many world people still live without benefit development affords country growing many lag behind—mired insecurity constrained poor governance overly dependent upon commodity price sustained economic progress requires faster sustainable inclusive development pursuing range specific initiative area food security global health essential future security prosperity nation people around globe increase investment development united state interest working ally help world poorest country grow productive prosperous economy governed capable democratic accountable state institution ensure greater deliberate focus global development agenda across united state government policy analysis policy implementation increasing foreign assistance expanding investment effective multilateral development institution leveraging engagement others share burden ★national security strategy invest foundation long-term development united state initiate long-term invest- ments recognize reward government demonstrate capacity political pursue sustainable development strategy ensure policy instrument disposal harnessed end provide support multiple ways—by strengthening ability gov- ernments community manage development challenge investing strong institution foster democratic accountability help sustain development expand circle nations—particularly africa—who capable reaping benefit global economy contributing global security prosperity exercise leadership provision global public good approach need reflect fact set development challenge strongly affect likelihood progress addressed individual country acting alone particularly africa challenges—such adap- tation global warming control epidemic disease knowledge increase agricultural productivity—are adequately addressed bilateral effort shape international archi- tecture work global partner address challenge increase investment engagement transition low-carbon growth trajectory support resilience poorest nation effect climate change strengthen food security must also pursue potential game changer development new vaccine weather-resistant seed variety green energy technology spend taxpayer dollar wisely united state government obligation make best use taxpayer money ability achieve long-term goal depends upon fiscal responsibility responsible budget involves mak- ing tough choice live within mean holding department agency accountable spending performance harnessing technology improve government performance open honest american people responsible budget also depends upon working global partner institution share burden leverage u.s. investment achieve global goal national security goal reached make hard choice work international partner share burden reduce deficit grow economy long term unless put united state back sustainable fiscal path begin effort administration proposed 3-year freeze nonsecurity discretionary spending new fee largest financial service company recoup taxpayer loss troubled asset relief program tarp closing tax loophole unnecessary subsidy administration created bipartisan fiscal commission suggest step medium-term deficit reduction work fiscally responsible health insurance reform bring rate growth health care cost key driver country fiscal future reform acquisition contracting process wasteful spending duplicative program contract poor oversight place united state government cost-effective efficient pro- particularly important department defense account approximately percent federal procurement spending scrutinize program terminate restructure outdated duplicative ineffective wasteful result relevant ★iii advancing interest capable effective program system military want need also reforming federal contracting strengthening contracting practice management oversight goal saving federal agency billion dollar year increase transparency american right know tax dollar spent informa- tion obscured unavailable instance incomplete accounting budget used conceal reality fiscal situation uphold commitment transparent budget process simultaneously requesting base budget overseas contingency operation cost amount justification explanatory material american see true cost war effort hold leader accountable decision fact value uphold cherished value right strengthens country keep safe time value best national security asset—in war peace time ease era upheaval fidelity value reason united state america grew small string colony writ empire strongest nation world. —president barack obama national archive may united state belief certain value universal work promote worldwide include individual freedom speak mind assemble without fear worship please choose leader also include dignity tolerance equality among people fair equitable administration justice united state founded upon belief value home fidelity value extended promise america ever fully ever people abroad value claimed people every race region religion nation party international agreement recognize commonality nation embrace value citizen ultimately successful—and friendly united states—than yet era saw substantial gain value around world democratic develop- ment stalled recent year culture value equated ugly face modernity seen encroach upon cherished identity country autocratic ruler repressed basic human right democratic practice name economic development national unity even government adopted democratic practice authoritarian ruler undermined electoral process restricted space opposition civil society imposing growing number legal restriction impede right people assemble access information substantial progress combating poverty many part world many world people still lack dignity come opportunity pursue better life ★national security strategy united state support seek exercise universal right around world promote value living home continue engage nation institution people pursuit value abroad recognize link development political progress goal realistic recognize different culture tradition give life value distinct way moreover america influence come perfection striving overcome imperfection constant struggle perfect union make american story inspiring acknowledging past shortcoming —and highlighting effort remedy them—is mean promoting value america impose system government another country long-term security prosperity depends steady support universal value set apart enemy adversarial government many potential competitor influence variety means—by speaking universal right supporting fragile democracy civil society supporting dignity come development strengthen power example action taken power america example helped spread freedom democracy abroad must always seek uphold value easy hard advancing interest may involve new arrangement confront threat like terrorism practice structure must always line constitution preserve people privacy civil liberty withstand check balance served well sustain fidelity values—and credibility promote around world—we continue prohibit torture without exception equivocation brutal method interrogation inconsistent value undermine rule law effective mean obtaining information alienate united state world serve recruitment propaganda tool terror- ists increase enemy fight endanger troop captured united state use support method legal aspect countering terrorism increased risk terrorism necessitates capacity detain interrogate suspected violent extremist framework must align law effective sustainable able prosecute terrorist federal court reformed military commission fair legitimate effective detainee prosecuted—but pose danger american people—we must clear defensible lawful standard must fair procedure thorough process periodic review prolonged detention carefully evaluated justified keeping constitutional system subject check balance goal approach sustained future administration support political party three branch government balance imperative secrecy transparency sake security information must protected public disclosure—for instance protect troop source method intelligence-gathering confidential action keep american people safe yet democ- racy depends upon transparency whenever possible making information available ★iii advancing interest american people make informed judgment hold leader accountable instance invoke state secret privilege follow clear procedure provide greater accountability ensure privilege invoked necessary narrowest way possible never invoke privilege hide violation law avoid embarrassment government protect civil liberty privacy oversight protecting civil liberty privacy integral vibrancy democracy exercise freedom balancing solemn commitment virtue mandate provide security american people vigorous oversight national security activity three branch government vigilant compliance rule law allow maintain balance affirm friend ally constitutional ideal uphold uphold rule law rule law—and capacity enforce it—advances national security strengthens leadership home fidelity law support law enforcement com- munity safeguard american citizen interest protecting advancing value around globe allows hold actor accountable supporting international security stability global economy america commitment rule law fundamental effort build international order capable confronting emerging challenge 21st century draw strength diversity united state benefited throughout history drawn strength diversity advocate behalf extremist ideology seek sow discord among ethnic religious group america stand example people different background united commitment shared value within community seek recruit radicalize individual often try prey upon isolation alienation commitment extending promise america draw contrast try drive people apart countering attempt enlist individual ideological religious ethnic extremism promote democracy human right abroad united state support expansion democracy human right abroad government respect value peaceful legitimate also success abroad foster environment support america national interest political system protect universal right ultimately stable successful secure history show united state effectively forge consensus tackle shared challenge working government reflect respect right people rather narrow interest power united state advancing universal value ensuring new fragile democracy deliver tangible improvement citizen united state must support democracy human right development together mutually reinforcing working closely citizen community political civil society leader strengthen key institution democratic accountability—free fair electoral process strong legislature civilian control military honest police force independent fair judiciary free independent press vibrant private sector robust civil society harnessing ★national security strategy bilateral multilateral capability help nascent democracy deliver service respond need preference citizen since democracy without development rarely survive practicing principled engagement non-democratic regime even focused interest counterterrorism nonproliferation enhancing economic tie always seek parallel expand individual right opportunity bilateral engagement united state pursuing dual-track approach seek improve government-to-government relation use dialogue advance human right engaging civil society peaceful political opposition encouraging u.s. nongovernmental actor substantive government-to-government relation create permissive condition civil society operate extensive people-to-people exchange overture rebuffed must lead international community using public private diplomacy drawing incentive disincentive effort change repressive behavior recognizing legitimacy peaceful democratic movement america respect right peaceful law-abiding nonviolent voice heard around world even disagree support democracy must support specific candidate movement america welcome legitimately elected peaceful government provided govern respect right dignity people consistent international obligation seek democracy obtain power ruthless forfeit support united state government must maintain power consent coercion place legitimate political process party narrow interest supporting right woman girl woman access opportunity able make choice men experience show country peaceful prosperous woman accorded full equal right opportunity right opportunity denied country often lag behind furthermore woman girl often dispropor- tionally bear burden crisis conflict therefore united state working regional international organization prevent violence woman girl especially conflict zone supporting woman equal access justice participation political process promoting child maternal health combating human trafficking especially woman girl domestic international law enforcement supporting education employment micro-finance empower woman globally strengthening international norm corruption working within broader international system including u.n. g-20 organization economic cooperation development oecd international financial institution promote recognition pervasive corruption violation basic human right severe impediment development global security work government civil society organization bring greater transparency accountability government budget expenditure asset public official institutionalize transparent practice international aid flow international banking tax policy private sec- tor engagement around natural resource make harder official steal strengthen effort citizen hold government accountable ★iii advancing interest building broader coalition actor advance universal value working build support democracy rule law human right working government nongovernmental organization multilateral forum united state committed working shape strengthen existing institution delivering potential united nation human right council working within broader u.n. system regional mechanism strengthen human right monitoring enforcement mechanism individual country held accountable violation international human right norm actively support leadership emerging democracy assume active role advancing basic human right democratic value region global stage marshalling new technology promoting right access information emergence tech- nologies internet wireless network mobile smart-phones investigative forensics satellite aerial imagery distributed remote sensing infrastructure created powerful new opportuni- tie advance democracy human right technology fueled people-powered political movement made possible shine spotlight human right abuse nearly instantaneously increased avenue free speech unrestricted communication around world support dissemination use technology facilitate freedom expression expand access infor- mation increase governmental transparency accountability counter restriction use also better utilize technology effectively communicate message world promote dignity meeting basic need freedom america stand includes freedom want basic human right thrive place human being access enough food clean water medicine need survive united state embraced united nation millennium development goal working others pursuit eradication extreme poverty—efforts particularly critical future nation people africa continue promote dignity come development effort pursuing comprehensive global health strategy united state moral strategic interest promoting global health child preventable disease offends conscience disease unchecked endanger health child sick development stalled continuing invest fight hiv/aids global health initiative strengthen health system invest intervention address area progress lagged including maternal child health also pursuing goal reducing burden malaria tuberculosis seeking elimination important neglected tropical disease promoting food security united state working partner around world advance food security initiative combat hunger build capacity country feed people instead simply providing aid developing country focusing new method technology agricultural development consistent approach aid end itself—the purpose foreign assistance create condition longer needed leading effort address humanitarian crisis together american people international community continue respond humanitarian crisis ensure need ★national security strategy protection assistance need circumstance also placing greater emphasis fostering long-term recovery haiti devastating earthquake recent reminder human material consequence natural disaster changing climate portends future united state must better prepared resourced exercise robust leadership help meet critical humanitarian need international order president united state work tirelessly protect america security advance interest one nation meet challenge 21st century dictate term world america seek international system let nation pursue interest peacefully especially interest diverge system universal right human being respected violation right opposed system hold standard apply nation clear right responsibility all. —president barack obama moscow russia july united state protect people advance prosperity irrespective action nation interest sustainable international order foster collec- tive action confront common challenge international order support effort advance security prosperity universal value also end seek right without international order force instability disorder undermine global secu- rity without effective mechanism forge international cooperation challenge recognize borders—such climate change pandemic disease transnational crime—will persist potentially spread international institutions—most prominently nato united nations—have center international order since mid 20th century yet international architecture largely forged wake world war buckling weight new threat making able seize new opportunity even though many defining trend 21st century affect nation people often mutual interest nation people ignored favor suspicion self-defeating competition needed therefore realignment national action international institution shared interest national interest collide—or country prioritize interest different ways—those nation defy international norm fail meet sovereign responsibility denied incentive come greater integration collaboration international community international order supported international institution alone mutual interest must underpinned bilateral multilateral global strategy address underlying source insecurity build new sphere cooperation end strengthening bilateral multilateral ★iii advancing interest cooperation accomplished simply working inside formal institution framework requires sustained outreach foreign government political leadership critical constituen- cies must commit necessary capability resource enable effective collective action mean building upon traditional alliance also cultivating partnership new center influence taken together approach allow foster effective global cooperation confront challenge know border affect every nation ensure strong alliance foundation united state regional global security remain america relation ally commitment security unshakable relationship must constantly cultivated indispensible u.s. interest national security objective fundamental collective security alliance force multiplier multinational cooperation coordination sum action always greater act alone continue maintain capacity defend ally old new threat also continue closely consult ally well newly emerging partner organization revitalize expand cooperation achieve common objective continue mutually benefit collective security provided strong alliance although united state ally partner may sometimes disagree specific issue act based upon mutual respect manner continues strengthen international order benefit responsible international actor strengthening security relationship ability sustain alliance build coalition support toward common objective depends part capability america armed force similarly relationship armed force developed foreign military critical com- ponent global engagement support collective security continue ensure prevail wide range potential adversaries—to include hostile state nonstate actors—while broadly shaping strategic environment using tool advance common security continue reassure ally partner retaining abil- ity bring precise sustained effective capability bear wide range military threat decisively defeat force hostile regional power work ally partner enhance resilience u.s. forward posture facility potential attack finally strengthen regional deterrence postures—for example phased adaptive missile defense architectures—in order make certain regional adversary gain advantage acquisi- tion new offensive military capability european ally relationship european ally remains cornerstone u.s. engage- ment world catalyst international action engage ally bilaterally pursue close consultation broad range security economic issue north atlantic treaty organization nato pre-eminent security alliance world today nato ally many partner nato cooperates strengthen collective ability promote security deter vital threat defend people nato new strategic concept provide opportunity revitalize reform alliance committed ensuring nato able ★national security strategy address full range 21st century challenge serving foundation european security continue anchor commitment article fundamental collective security building european aspiration greater integration committed partnering stronger european union advance shared goal especially promoting democracy prosperity eastern european country still completing democratic transition responding pressing issue mutual concern remain dedicated advancing stability democracy balkan resolving conflict caucasus cyprus continue engage turkey broad range mutual goal especially regard pursuit stability region seek strengthen existing european institution inclusive effective building confidence reducing tension protecting freedom asian ally alliance japan south korea australia philippine thailand bedrock security asia foundation prosperity asia-pacific region continue deepen update alliance reflect dynamism region strategic trend 21st century japan south korea increasingly important leader addressing regional global issue well embodying promoting common democratic value modernizing security relationship country face evolving 21st century global security challenge reflect principle equal partnership united state ensure sustainable founda- tion u.s. military presence working together ally develop positive security agenda region focused regional security combating proliferation weapon mass destruction terrorism climate change international piracy epidemic cybersecurity achieving balanced growth human right partnership ally united state helping offer future security integration asian nation uphold extend fundamental right dignity people alliance preserved hard-earned peace strengthened bridge understanding across pacific ocean second half 20th century essential u.s. asian global security dynamic effective 21st century north america strategic partnership unique relationship maintain canada mexico critical u.s. national security direct effect security homeland billion dollar trade shared critical infrastructure million citizen moving across common border two country directly connected daily life must change way think shared border order secure expedite lawful legitimate flow people good interdicting transnational threat threaten open society canada closest trading partner steadfast security ally important partner regional global effort mutual prosperity closely interconnected including trade rela- tionship mexico nafta canada security cooperation includes defense north america effort nato overseas cooperation critical success international effort issue ranging international climate negotiation economic cooperation g-20 mexico addition trade cooperation working together identify interdict threat earliest opportunity even reach north america stability security mexico ★iii advancing interest indispensable building strong economic partnership fighting illicit drug arm trade promoting sound immigration policy build cooperation 21st century center influence united state part dynamic international environment different nation exerting greater influence advancing interest require expanding sphere cooperation around word certain bilateral relationships—such u.s. relation china india russia—will critical building broader cooperation area mutual interest emerging power every region world increasingly asserting raising opportunity partnership united state asia asia dramatic economic growth increased connection america future prosperity emerging center influence make increasingly important taken substantial step deepen engagement region regional organization new dialogue high-level diplomacy united state deep enduring tie country region including trade investment drive growth prosperity side pacific enhancing tie critical effort advance balanced sustainable growth doubling u.s. export increasing security cooperation issue violent extremism nuclear proliferation work advance mutual interest alliance deepen relationship emerging power pursue stronger role region multilateral architecture including association southeast asian nation asean asia pacific economic cooperation forum trans-pacific partnership east asia summit continue pursue positive constructive comprehensive relationship china welcome china take responsible leadership role working united state international community advance priority like economic recovery confronting climate change nonproliferation monitor china military modernization program prepare accordingly ensure u.s. interest ally regionally globally negatively affected broadly encourage china make choice contribute peace security prosperity influ- ence rise using newly established strategic economic dialogue address broader range issue improve communication military order reduce mistrust encourage continued reduction tension people republic china taiwan agree every issue candid human right concern area differ disagreement prevent cooperation issue mutual interest pragmatic effective relationship united state china essential address major challenge 21st century united state india building strategic partnership underpinned shared interest shared value world two largest democracy close connection among people india responsible advancement serf positive example developing nation provides opportunity increased economic scientific environmental security partnership working together strategic dialogue high-level visit seek broad-based relation- ship india contributes global counterterrorism effort nonproliferation help promote poverty-reduction education health sustainable agriculture value india growing leadership ★national security strategy wide array global issue group g-20 seek work india promote stability south asia elsewhere world russia seek build stable substantive multidimensional relationship russia based mutual interest united state interest strong peaceful prosperous russia respect international norm two nation possessing majority world nuclear weap- ons working together advance nonproliferation reducing nuclear arsenal cooperating ensure country meet international commitment reducing spread nuclear weapon around world seek greater partnership russia confronting violent extremism especially afghanistan also seek new trade investment arrangement increasing prosperity people support effort within russia promote rule law accountable government universal value actively seeking russia cooperation act responsible partner europe asia support sovereignty territorial integrity russia neighbor emerging center influence due increased economic growth political stability individual nation increasingly taking powerful regional global role changing landscape international cooperation achieve sustainable order advance shared security prosperity therefore deepening partnership emerging power encouraging play greater role strengthening international norm advancing shared interest rise g-20 example premier international economic forum represents distinct shift global international order toward greater cooperation traditional major economy emerging center influence nation composing g-20—from south korea south africa saudi arabia argentina—represent least percent global gross national product making influential body world stage stabilizing global economy increasing energy efficiency around globe addressing chronic hunger poor country three example broad global challenge solved country alone indonesia—as world fourth populous country member g-20 democracy—will become increasingly important partner regional transnational issue climate change counterterrorism maritime security peacekeeping disaster relief tolerance resilience multiculturalism core value flourishing civil society indonesia uniquely positioned help address challenge facing developing world america bound proximity integrated market energy interdependence broadly shared commitment democracy rule law deep historical familial cultural tie make alliance partnership critical u.s. interest work equal partnership advance economic social inclusion safeguard citizen safety security promote clean energy defend universal value people hemisphere welcome brazil leadership seek move beyond dated north-south division pursue progress bilateral hemispheric global issue brazil macroeconomic success coupled step narrow socioeconomic gap provide important lesson country throughout america africa encourage brazilian effort illicit transnational network guardian unique national environmental patrimony leader renewable fuel brazil important partner ★iii advancing interest confronting global climate change promoting energy security context g-20 doha round work brazil ensure economic development prosperity broadly shared array enduring interest longstanding commitment new opportunity broaden- ing deepening relationship greater middle east includes maintaining strong partner- ship israel supporting israel lasting integration region u.s. also continue develop key security relationship region arab state egypt jordan saudi arabia gulf cooperation council gcc countries—partnerships enable military defense system work together effectively strategic interest ensuring social economic need political right people region represent one world youngest population met continue press government region undertake political reform loosen restriction speech assembly medium maintain strong support civil society group individual stand universal right continue foster partnership area like education economic growth science health help expand opportunity multilateral basis seek advance shared security interest nato istanbul cooperation initiative gcc common interest promoting governance institutional reform participating forum future regional dialogue diversity complexity african continent offer united state opportunity chal- lenges african state grow economy strengthen democratic institution gov- ernance america continue embrace effective partnership economic security political cooperation consultative encompass global regional national priority including access open market conflict prevention global peacekeeping counterterrorism protection vital carbon sink administration refocus priority strategic intervention promote job creation economic growth combat corruption strengthening good governance account- ability responsibly improve capacity african security rule law sector work diplomatic dialogue mitigate local regional tension become crisis also reinforce sustainable stability key state like nigeria kenya essential subregional linchpin united state work remain attractive influential partner ensuring african priority infrastructure development improving reliable access power increased trade investment remain high agenda south africa inclusion g-20 followed growing number emerging african nation charting course toward improved governance meaningful development south africa vibrant democracy combined regional global leadership role critical partner peacemaking climate change capacity-building south africa brings unique value perspective international initiative strong diversified well- managed economy often serf springboard entire african continent work pursue shared interest africa security growth development africa human capital ★national security strategy strengthen institution mechanism cooperation u.s. foresight leadership essential forging architecture international coopera- tion world war must lead global effort modernize infrastructure international cooperation 21st century indeed ability advance peace security opportunity turn ability strengthen national multilateral capability solve problem pursue mode cooperation reflect evolving distribution power responsibility need assist existing institution perform effectively come short must seek meaningful change develop alternative mechanism enhance cooperation strengthen united nation enhancing coordination u.n. agency need u.n. capable fulfilling founding purpose—maintaining international peace security promoting global cooperation advancing human right end paying bill intensifying effort partner outside u.n. security council ensure timely robust credible council action address threat peace security favor security council reform enhances u.n. overall performance credibility legitimacy across broader u.n. system support reform promote effective efficient leadership management u.n. international civil service working u.n. personnel mem- ber state strengthen u.n. leadership operational capacity peacekeeping humanitarian relief post-disaster recovery development assistance promotion human right supporting new u.n. framework capacity combating transnational threat like proliferation weapon mass destruction infectious disease drug-trafficking counterterrorism pursue decision though wide range framework coalition need spur harness new diversity instrument alliance institution division labor emerges basis effectiveness competency long-term reliability requires enhanced coordination among united nation regional organization international financial institution specialized agency actor better placed equipped manage certain threat challenge attempting forge new agreement common global challenge among world leading emerging power ensure multilateral cooperation reflects sustained commitment influen- tial country pursuing g-8 initiative proven long-standing partner begun shift focus economic coordination g-20 reflective today diffusion power need enlist effort broader spectrum country across asia europe africa middle east neighbor america also renewing u.s. leadership multilateral development bank imf leveraging engagement investment institution strengthen global economy lift people poverty advance food security address climate pandemic secure fragile state afghanistan haiti invest regional capability regional organization particularly effective mobilizing legitimating cooperation among country closest problem regional organizations—whether nato organization security cooperation europe organization islamic conference african union organization american state asean gulf cooperation council—vary widely membership constitution history orientation operational capability variety need inform strategic approach evolving role relative contribution global security ★iii advancing interest united state encouraging continued innovation development enhanced regional capabili- tie context evolving division labor among local national global institution seek leverage relative capacity appropriate use training related program strengthen regional capacity peacekeeping conflict management improve impact share burden also encourage comprehensive approach regional security brings balanced focus issue food security global health education access affordable greener form energy access fair efficient justice concerted effort promote transparency level fight corrosive effect corruption sustain broad cooperation key global challenge many today challenge solved one nation even group nation test international order therefore ability facilitate broad effective global cooperation necessary meet 21st century challenge many challenge discussed previously including violent extremism nuclear proliferation promotion global prosperity addition key challenge requiring broad global cooperation include climate change danger climate change real urgent severe change wrought warming planet lead new conflict refugee resource new suffering drought famine catastrophic natural disaster degradation land across globe united state therefore confront climate change based upon clear guidance science cooperation nations—for effective solution climate change depend upon nation taking responsibility action planet leave behind home effort begin step taking home stimulate energy economy home reinvigorate u.s. domestic nuclear industry increase efficiency standard invest renewable energy provide incentive make clean energy profitable kind energy allow make deep cut emissions—in range percent percent 2050. depend part upon comprehen- sive legislation effective implementation abroad regionally build effort asia america africa forge new clean energy partnership globally seek implement build copenhagen accord ensure response climate change draw upon decisive action nation goal effective international effort major economy commit ambitious national action reduce emission nation meet commitment transparent manner necessary financing mobilized developing country adapt climate change mitigate impact conserve forest invest clean energy technology pursue global cooperation multiple avenue focus advancing cooperation work accept principle common differentiated response respective capability insist approach draw upon nation taking responsibility action peacekeeping armed conflict untold loss human life suffering property damage result armed conflict necessitates responsible nation work prevent single nation ★national security strategy shoulder burden managing resolving world armed conflict end place renewed emphasis deterrence prevention mobilizing diplomatic action use development security sector assistance build capacity at-risk nation reduce appeal violent extremism international force needed respond threat keep peace work international partner ensure ready able willing continue build support country contribute sustaining global peace stability operation u.n. peacekeeping regional organization nato african union continue broaden pool troop police contributor working ensure properly trained equipped mandate matched mean mission backed political action necessary build sustain peace sudan marred violent conflict decade united state remains committed working international community support implementation outstanding element comprehensive peace agreement ensure referendum future southern sudan happens time result respected addition continue engage effort necessary support peace stability referendum continue work secure peace dignity accountability darfur prevent genocide mass atrocity united state member state u.n. endorsed concept responsibility protect. recognized primary responsibility preventing genocide mass atrocity rest sovereign government responsibility pass broader international community sovereign government commit genocide mass atrocity prove unable unwilling take necessary action prevent respond crime inside border united state committed working ally strengthening internal capability order ensure united state international com- munity proactively engaged strategic effort prevent mass atrocity genocide event prevention fails united state work multilaterally bilaterally mobilize diplomatic humanitarian financial and—in certain instances—military mean prevent respond genocide mass atrocity international justice nuremberg yugoslavia liberia united state seen end impunity promotion justice moral imperative stabilizing force international affair united state thus working strengthen national justice system maintaining support hoc international tribunal hybrid court intentionally target innocent civilian must held accountable continue support institution prosecution advance important interest although united state present party rome statute international criminal court icc always protect u.s. personnel engaging state party rome statute issue concern supporting icc prosecution case advance u.s. interest value consistent requirement u.s. law pandemic infectious disease threat contagious disease transcends political boundary ability prevent quickly detect contain outbreak pandemic potential never ★iii advancing interest important epidemic begin single community quickly evolve multinational health crisis cause million suffer well spark major disruption travel trade addressing transnational risk requires advance preparation extensive collaboration global community development resilient population home recognizing health world population never interdependent improving public health medical capability front line including domestic international disease surveillance situational awareness rapid reliable development medical countermeasure respond public health threat preparedness education training surge capacity domestic health care system respond influx patient due disaster emergency capability include ability work international partner mitigate contain disease necessary enhancing international collaboration strengthening multilateral institution order improve global surveillance early warning capability quickly enact control containment measure next pandemic threat continue improve understanding emerging disease help develop environment conducive epidemic emergence depend u.s. overseas laboratory relationship host nation government willingness state share health data nongovernmental international organization regard need continue work overcome lack openness general reluctance share health information finally seek mitigate problem area including limited global vaccine production capacity threat emergent reemergent disease poorly governed state transnational criminal threat threat governance transnational criminal threat illicit trafficking network continue expand dramatically size scope influence—posing significant national security challenge united state partner country threat cross border continent undermine stability nation subverting government institution corruption harming citizen worldwide transnational criminal organization accumulated unprecedented wealth power trafficking illicit activity penetrating legitimate financial system destabilizing commercial market extend reach forming alliance government official state security service crime-terror nexus serious concern terrorist use criminal network logistical support funding increasingly network involved cyber crime cost consumer billion dollar annually undermining global confidence international financial system combating transnational criminal trafficking network requires multidimensional strategy safeguard citizen break financial strength criminal terrorist network disrupts illicit traffick- ing network defeat transnational criminal organization fight government corruption strengthens rule law bolster judicial system improves transparency major challenge united state able devise execute collective strategy nation facing threat safeguarding global common across globe must work concert ally partner optimize use shared sea air space domain shared area exist outside exclu- sive national jurisdiction connective tissue around globe upon nation security ★national security strategy prosperity depend united state continue help safeguard access promote security ensure sustainable use resource domain effort require strong multilateral cooperation enhanced domain awareness monitoring strengthening international norm standard must work together ensure constant flow commerce facilitate safe secure air travel prevent disruption critical communication must also safeguard sea air space domain would deny access use hostile purpose includes keeping strategic strait vital sea lane open improving early detection emerging maritime threat denying adversary hostile use air domain ensuring responsible use space one key effort sea domain example pursue ratification united nation convention law sea many goal equally applicable cyberspace cyberspace relies digital infra- structure individual country infrastructure globally connected securing requires global cooperation push recognition norm behavior cyberspace otherwise work global partner ensure protection free flow information continued access time continue defend digital network intrusion harmful disruption arctic interest united state arctic nation broad fundamental interest arctic region seek meet national security need protect environment responsibly manage resource account indigenous community support scientific research strengthen international cooperation wide range issue ★iv conclusion easy forget war began united bound together fresh memory horrific attack determination defend homeland value hold dear refuse accept notion summon unity believe every fiber american still come together behind common purpose value simply word written parchment creed call together carried darkest storm one nation one people. —president barack obama west point new york december strategy call comprehensive range national action broad conception con- stitutes national security renewing leadership calling upon best america—our innovation capacity openness moral imagination success require approach sustained achieve result one reason nation succeeded second half 20th century capacity pursue policy build institution endured across multiple administration also preserving flexibility endure setback make necessary adjustment instance united state able carry forward example year since cold war also many open question unfinished reform deep divisions—at home abroad—that constrain ability advance interest renew leadership effectively craft implement sustainable results-oriented national security strategy must effective cooperation branch government administration belief strong act line law constitution demand administration also committed active consultation congress welcome robust effective oversight national security policy welcome congress full partner forging durable solution tough challenge looking beyond headline take long view america interest encour- age congress pursue oversight line reform enacted legislation particularly year since 9/11 executive branch must part developing integrated plan approach leverage capability across department agency deal issue confront collaboration across government—and partner state local tribal level government industry abroad—must guide action kind effective cooperation depend upon broad bipartisan cooperation throughout cold war even intense disagreement certain course action remained belief america political leader shared common goal even differed reach today political environment due action party sense common purpose time lacking national security dialogue division place united state strategic ★national security strategy disadvantage set back ability deal difficult challenge injects sense anxiety polarization politics affect policy posture around world must replaced renewed sense civility commitment embrace common purpose american american nature confident optimistic people would achieved position leadership world without extraordinary strength founding document capability courage generation american gave life values—through service sacrifice aspiration pursuit perfect union see quality today particularly young men woman uniform served tour tour duty defend nation harm way civilian counterpart responsibility alone question nation meet responsibility american even world enormous challenge threat bigger american people capacity meet opportunity exceeds reach continue draw strength founding document established creed bind together demonstrate capability courage pursue perfect union and—in so—renew american leadership world\n"
          ]
        }
      ]
    },
    {
      "cell_type": "markdown",
      "source": [
        "Latent Dirichlet Allocation (LDA) is a generative probabilistic model composed of multiple components, including document-topic distributions and topic-word distributions. In LDA, each document is represented as a mixture of topics, and each topic is characterized by a distribution of words. The model infers the underlying topics by iteratively assigning words to topics based on statistical distributions."
      ],
      "metadata": {
        "id": "LN0u3mv1hESb"
      }
    },
    {
      "cell_type": "code",
      "source": [
        "import gensim\n",
        "from gensim import corpora\n",
        "\n",
        "texts = [doc.split() for doc in [document]]\n",
        "dictionary = corpora.Dictionary(texts)\n",
        "corpus = [dictionary.doc2bow(text) for text in texts]\n",
        "lda = gensim.models.ldamodel.LdaModel(corpus, num_topics=3, id2word=dictionary, passes=15)\n",
        "print(lda.print_topics(num_topics=3, num_words=3))\n"
      ],
      "metadata": {
        "colab": {
          "base_uri": "https://localhost:8080/"
        },
        "id": "FT5Cisb2sLrQ",
        "outputId": "e8a05d66-db93-48b6-ceb0-5dab31b310e2"
      },
      "execution_count": null,
      "outputs": [
        {
          "output_type": "stream",
          "name": "stdout",
          "text": [
            "[(0, '0.000*\"security\" + 0.000*\"international\" + 0.000*\"global\"'), (1, '0.001*\"security\" + 0.001*\"international\" + 0.001*\"state\"'), (2, '0.016*\"security\" + 0.011*\"international\" + 0.010*\"state\"')]\n"
          ]
        }
      ]
    },
    {
      "cell_type": "code",
      "source": [
        "document_topics = lda.get_document_topics(corpus[0], minimum_probability=0.0)\n",
        "\n",
        "# Sort the topics by probability in descending order\n",
        "sorted_topics = sorted(document_topics, key=lambda x: x[1], reverse=True)\n",
        "\n",
        "# Extract the top 5 topics\n",
        "top_5_topics = sorted_topics[:3]\n",
        "\n",
        "print(\"Top 5 Topics:\")\n",
        "for topic_id, prob in top_5_topics:\n",
        "    print(lda.print_topic(topic_id))  # Print the top words for the topic\n",
        "    print(\"\\n\")\n"
      ],
      "metadata": {
        "colab": {
          "base_uri": "https://localhost:8080/"
        },
        "id": "GK1ehjJ_9LnE",
        "outputId": "77e93afb-f5df-4f3a-cea5-1f92d9147059"
      },
      "execution_count": null,
      "outputs": [
        {
          "output_type": "stream",
          "name": "stdout",
          "text": [
            "Top 5 Topics:\n",
            "0.016*\"security\" + 0.011*\"international\" + 0.010*\"state\" + 0.009*\"’\" + 0.009*\"global\" + 0.008*\"united\" + 0.007*\"must\" + 0.007*\"world\" + 0.007*\"nation\" + 0.007*\"people\"\n",
            "\n",
            "\n",
            "0.001*\"security\" + 0.001*\"international\" + 0.001*\"state\" + 0.001*\"’\" + 0.001*\"must\" + 0.001*\"nation\" + 0.001*\"people\" + 0.001*\"interest\" + 0.001*\"global\" + 0.001*\"national\"\n",
            "\n",
            "\n",
            "0.000*\"security\" + 0.000*\"international\" + 0.000*\"global\" + 0.000*\"nation\" + 0.000*\"state\" + 0.000*\"people\" + 0.000*\"’\" + 0.000*\"united\" + 0.000*\"must\" + 0.000*\"cooperation\"\n",
            "\n",
            "\n"
          ]
        }
      ]
    },
    {
      "cell_type": "code",
      "source": [
        "from wordcloud import WordCloud\n",
        "import matplotlib.pyplot as plt\n",
        "\n",
        "# Extract top words from each topic\n",
        "topics = lda.show_topics(num_topics=1, num_words=5, formatted=False)\n",
        "top = []\n",
        "# Create a word cloud for each topic\n",
        "for topic_id, topic in topics:\n",
        "    word_freq = {word: freq for word, freq in topic}\n",
        "    top.append({word for word, freq in topic})\n",
        "    wc = WordCloud(width=1000, height=600, margin=3,  prefer_horizontal=0.7, scale=1, background_color='black', relative_scaling=0).generate_from_frequencies(word_freq)\n",
        "\n",
        "    # Plot the word cloud\n",
        "    plt.figure(figsize=(10, 5))\n",
        "    plt.imshow(wc, interpolation='bilinear')\n",
        "    plt.title(f'Topic {topic_id}')\n",
        "    plt.axis('off')\n",
        "    plt.show()\n"
      ],
      "metadata": {
        "colab": {
          "base_uri": "https://localhost:8080/",
          "height": 444
        },
        "id": "GK0AtgJFsokZ",
        "outputId": "37a5ddaf-d831-4775-961c-1bc9a45b7037"
      },
      "execution_count": null,
      "outputs": [
        {
          "output_type": "display_data",
          "data": {
            "text/plain": [
              "<Figure size 1000x500 with 1 Axes>"
            ],
            "image/png": "[encoded data removed]"
          },
          "metadata": {}
        }
      ]
    },
    {
      "cell_type": "code",
      "source": [
        "top"
      ],
      "metadata": {
        "colab": {
          "base_uri": "https://localhost:8080/"
        },
        "id": "w7hN6JDGAqie",
        "outputId": "3b016344-f7dd-4dda-c27a-86193a611b5c"
      },
      "execution_count": null,
      "outputs": [
        {
          "output_type": "execute_result",
          "data": {
            "text/plain": [
              "[{'global', 'international', 'nation', 'security', 'state'}]"
            ]
          },
          "metadata": {},
          "execution_count": 102
        }
      ]
    },
    {
      "cell_type": "markdown",
      "source": [
        "# **3. Multimodal Part - OCR for Handwritten Content Detection using ResNet**\n",
        "Optical Character Recognition (OCR) is a technology that enables the conversion of different types of documents, including handwritten text, into machine-readable text. The OCR component of your project utilizes ResNet, a deep convolutional neural network architecture, to perform character recognition on images containing handwritten content within PDF documents. ResNet has demonstrated remarkable performance in image recognition tasks by employing skip connections to mitigate the vanishing gradient problem. By extracting text from images, the system enhances its ability to process diverse types of content and make them accessible for further analysis and retrieval.\n",
        "\n"
      ],
      "metadata": {
        "id": "oSHktfXRMqWR"
      }
    },
    {
      "cell_type": "code",
      "source": [
        "!pip install PyMuPDF"
      ],
      "metadata": {
        "id": "OIql84gGQ1Vr"
      },
      "execution_count": null,
      "outputs": []
    },
    {
      "cell_type": "code",
      "source": [
        "import fitz\n",
        "\n",
        "def pdf_to_images(pdf_path, output_path):\n",
        "    pdf_document = fitz.open(pdf_path)\n",
        "\n",
        "    for page_number in range(len(pdf_document)):\n",
        "        page = pdf_document.load_page(page_number)\n",
        "\n",
        "        pixmap = page.get_pixmap()\n",
        "        #call the model to directly covert the image to text_content\n",
        "        # Save the pixmap as an image file (optional, for debugging purposes)\n",
        "        #image_file = f\"page_{page_number + 1}.png\"\n",
        "        #pixmap.writePNG(image_file)\n",
        "\n",
        "    pdf_document.close()"
      ],
      "metadata": {
        "id": "qkfwNziLxt8D"
      },
      "execution_count": null,
      "outputs": []
    },
    {
      "cell_type": "code",
      "source": [
        "import numpy as np # linear algebra\n",
        "import pandas as pd # data processing, CSV file I/O (e.g. pd.read_csv)\n",
        "import matplotlib.pyplot as plt\n",
        "import tensorflow as tf\n",
        "from keras.datasets import mnist\n",
        "from keras import models, regularizers, layers, optimizers, losses, metrics\n",
        "from keras.models import Sequential\n",
        "from keras.layers import Dense\n",
        "from keras.utils import to_categorical\n",
        "from keras.preprocessing.image import ImageDataGenerator\n",
        "from keras.preprocessing import image\n",
        "from sklearn.model_selection import train_test_split\n",
        "from sklearn import metrics"
      ],
      "metadata": {
        "id": "bC6uGc0cTpM0"
      },
      "execution_count": 2,
      "outputs": []
    },
    {
      "cell_type": "code",
      "source": [
        "data = mnist.load_data()\n",
        "data"
      ],
      "metadata": {
        "colab": {
          "base_uri": "https://localhost:8080/"
        },
        "id": "BKt6VO1xFMH1",
        "outputId": "b165c254-c933-4e89-d548-2627fe90729c"
      },
      "execution_count": 3,
      "outputs": [
        {
          "output_type": "stream",
          "name": "stdout",
          "text": [
            "Downloading data from https://storage.googleapis.com/tensorflow/tf-keras-datasets/mnist.npz\n",
            "11490434/11490434 [==============================] - 0s 0us/step\n"
          ]
        },
        {
          "output_type": "execute_result",
          "data": {
            "text/plain": [
              "((array([[[0, 0, 0, ..., 0, 0, 0],\n",
              "          [0, 0, 0, ..., 0, 0, 0],\n",
              "          [0, 0, 0, ..., 0, 0, 0],\n",
              "          ...,\n",
              "          [0, 0, 0, ..., 0, 0, 0],\n",
              "          [0, 0, 0, ..., 0, 0, 0],\n",
              "          [0, 0, 0, ..., 0, 0, 0]],\n",
              "  \n",
              "         [[0, 0, 0, ..., 0, 0, 0],\n",
              "          [0, 0, 0, ..., 0, 0, 0],\n",
              "          [0, 0, 0, ..., 0, 0, 0],\n",
              "          ...,\n",
              "          [0, 0, 0, ..., 0, 0, 0],\n",
              "          [0, 0, 0, ..., 0, 0, 0],\n",
              "          [0, 0, 0, ..., 0, 0, 0]],\n",
              "  \n",
              "         [[0, 0, 0, ..., 0, 0, 0],\n",
              "          [0, 0, 0, ..., 0, 0, 0],\n",
              "          [0, 0, 0, ..., 0, 0, 0],\n",
              "          ...,\n",
              "          [0, 0, 0, ..., 0, 0, 0],\n",
              "          [0, 0, 0, ..., 0, 0, 0],\n",
              "          [0, 0, 0, ..., 0, 0, 0]],\n",
              "  \n",
              "         ...,\n",
              "  \n",
              "         [[0, 0, 0, ..., 0, 0, 0],\n",
              "          [0, 0, 0, ..., 0, 0, 0],\n",
              "          [0, 0, 0, ..., 0, 0, 0],\n",
              "          ...,\n",
              "          [0, 0, 0, ..., 0, 0, 0],\n",
              "          [0, 0, 0, ..., 0, 0, 0],\n",
              "          [0, 0, 0, ..., 0, 0, 0]],\n",
              "  \n",
              "         [[0, 0, 0, ..., 0, 0, 0],\n",
              "          [0, 0, 0, ..., 0, 0, 0],\n",
              "          [0, 0, 0, ..., 0, 0, 0],\n",
              "          ...,\n",
              "          [0, 0, 0, ..., 0, 0, 0],\n",
              "          [0, 0, 0, ..., 0, 0, 0],\n",
              "          [0, 0, 0, ..., 0, 0, 0]],\n",
              "  \n",
              "         [[0, 0, 0, ..., 0, 0, 0],\n",
              "          [0, 0, 0, ..., 0, 0, 0],\n",
              "          [0, 0, 0, ..., 0, 0, 0],\n",
              "          ...,\n",
              "          [0, 0, 0, ..., 0, 0, 0],\n",
              "          [0, 0, 0, ..., 0, 0, 0],\n",
              "          [0, 0, 0, ..., 0, 0, 0]]], dtype=uint8),\n",
              "  array([5, 0, 4, ..., 5, 6, 8], dtype=uint8)),\n",
              " (array([[[0, 0, 0, ..., 0, 0, 0],\n",
              "          [0, 0, 0, ..., 0, 0, 0],\n",
              "          [0, 0, 0, ..., 0, 0, 0],\n",
              "          ...,\n",
              "          [0, 0, 0, ..., 0, 0, 0],\n",
              "          [0, 0, 0, ..., 0, 0, 0],\n",
              "          [0, 0, 0, ..., 0, 0, 0]],\n",
              "  \n",
              "         [[0, 0, 0, ..., 0, 0, 0],\n",
              "          [0, 0, 0, ..., 0, 0, 0],\n",
              "          [0, 0, 0, ..., 0, 0, 0],\n",
              "          ...,\n",
              "          [0, 0, 0, ..., 0, 0, 0],\n",
              "          [0, 0, 0, ..., 0, 0, 0],\n",
              "          [0, 0, 0, ..., 0, 0, 0]],\n",
              "  \n",
              "         [[0, 0, 0, ..., 0, 0, 0],\n",
              "          [0, 0, 0, ..., 0, 0, 0],\n",
              "          [0, 0, 0, ..., 0, 0, 0],\n",
              "          ...,\n",
              "          [0, 0, 0, ..., 0, 0, 0],\n",
              "          [0, 0, 0, ..., 0, 0, 0],\n",
              "          [0, 0, 0, ..., 0, 0, 0]],\n",
              "  \n",
              "         ...,\n",
              "  \n",
              "         [[0, 0, 0, ..., 0, 0, 0],\n",
              "          [0, 0, 0, ..., 0, 0, 0],\n",
              "          [0, 0, 0, ..., 0, 0, 0],\n",
              "          ...,\n",
              "          [0, 0, 0, ..., 0, 0, 0],\n",
              "          [0, 0, 0, ..., 0, 0, 0],\n",
              "          [0, 0, 0, ..., 0, 0, 0]],\n",
              "  \n",
              "         [[0, 0, 0, ..., 0, 0, 0],\n",
              "          [0, 0, 0, ..., 0, 0, 0],\n",
              "          [0, 0, 0, ..., 0, 0, 0],\n",
              "          ...,\n",
              "          [0, 0, 0, ..., 0, 0, 0],\n",
              "          [0, 0, 0, ..., 0, 0, 0],\n",
              "          [0, 0, 0, ..., 0, 0, 0]],\n",
              "  \n",
              "         [[0, 0, 0, ..., 0, 0, 0],\n",
              "          [0, 0, 0, ..., 0, 0, 0],\n",
              "          [0, 0, 0, ..., 0, 0, 0],\n",
              "          ...,\n",
              "          [0, 0, 0, ..., 0, 0, 0],\n",
              "          [0, 0, 0, ..., 0, 0, 0],\n",
              "          [0, 0, 0, ..., 0, 0, 0]]], dtype=uint8),\n",
              "  array([7, 2, 1, ..., 4, 5, 6], dtype=uint8)))"
            ]
          },
          "metadata": {},
          "execution_count": 3
        }
      ]
    },
    {
      "cell_type": "code",
      "source": [
        "df_num = pd.read_csv(\"/content/mnist_train.csv\")\n",
        "df_alph = dataset = pd.read_csv(\"/content/A_Z Handwritten Data.csv\")\n",
        "df_alph[\"0\"] += 10"
      ],
      "metadata": {
        "id": "EJ-9AXtbBu09"
      },
      "execution_count": 4,
      "outputs": []
    },
    {
      "cell_type": "code",
      "source": [
        "df_num.shape, df_alph.shape"
      ],
      "metadata": {
        "colab": {
          "base_uri": "https://localhost:8080/"
        },
        "id": "8PAt0i7kCXTL",
        "outputId": "2dc1ada1-5e63-41d7-c8c4-21c87e724715"
      },
      "execution_count": 5,
      "outputs": [
        {
          "output_type": "execute_result",
          "data": {
            "text/plain": [
              "((1150, 785), (1678, 785))"
            ]
          },
          "metadata": {},
          "execution_count": 5
        }
      ]
    },
    {
      "cell_type": "code",
      "source": [
        "df = pd.concat([df_num, df_alph], axis = 0)\n",
        "df.shape"
      ],
      "metadata": {
        "colab": {
          "base_uri": "https://localhost:8080/"
        },
        "id": "4_9kiqDFCi9p",
        "outputId": "3c0daa1c-3462-48bf-bbe6-e5c3e7c17fc8"
      },
      "execution_count": 6,
      "outputs": [
        {
          "output_type": "execute_result",
          "data": {
            "text/plain": [
              "(2828, 1570)"
            ]
          },
          "metadata": {},
          "execution_count": 6
        }
      ]
    },
    {
      "cell_type": "code",
      "source": [
        "SEED = 42\n",
        "np.random.seed(SEED)"
      ],
      "metadata": {
        "id": "QylGSBafClCP"
      },
      "execution_count": 7,
      "outputs": []
    },
    {
      "cell_type": "code",
      "source": [
        "df"
      ],
      "metadata": {
        "colab": {
          "base_uri": "https://localhost:8080/",
          "height": 443
        },
        "id": "CSXssXm6J5Aj",
        "outputId": "8927b76b-c807-45f1-938f-ba50f7bce852"
      },
      "execution_count": 8,
      "outputs": [
        {
          "output_type": "execute_result",
          "data": {
            "text/plain": [
              "      label  1x1  1x2  1x3  1x4  1x5  1x6  1x7  1x8  1x9  ...  0.639  0.640  \\\n",
              "0       5.0  0.0  0.0  0.0  0.0  0.0  0.0  0.0  0.0  0.0  ...    NaN    NaN   \n",
              "1       0.0  0.0  0.0  0.0  0.0  0.0  0.0  0.0  0.0  0.0  ...    NaN    NaN   \n",
              "2       4.0  0.0  0.0  0.0  0.0  0.0  0.0  0.0  0.0  0.0  ...    NaN    NaN   \n",
              "3       1.0  0.0  0.0  0.0  0.0  0.0  0.0  0.0  0.0  0.0  ...    NaN    NaN   \n",
              "4       9.0  0.0  0.0  0.0  0.0  0.0  0.0  0.0  0.0  0.0  ...    NaN    NaN   \n",
              "...     ...  ...  ...  ...  ...  ...  ...  ...  ...  ...  ...    ...    ...   \n",
              "1673    NaN  NaN  NaN  NaN  NaN  NaN  NaN  NaN  NaN  NaN  ...    0.0    0.0   \n",
              "1674    NaN  NaN  NaN  NaN  NaN  NaN  NaN  NaN  NaN  NaN  ...    0.0    0.0   \n",
              "1675    NaN  NaN  NaN  NaN  NaN  NaN  NaN  NaN  NaN  NaN  ...    0.0    0.0   \n",
              "1676    NaN  NaN  NaN  NaN  NaN  NaN  NaN  NaN  NaN  NaN  ...    0.0    0.0   \n",
              "1677    NaN  NaN  NaN  NaN  NaN  NaN  NaN  NaN  NaN  NaN  ...    NaN    NaN   \n",
              "\n",
              "      0.641  0.642  0.643  0.644  0.645  0.646  0.647  0.648  \n",
              "0       NaN    NaN    NaN    NaN    NaN    NaN    NaN    NaN  \n",
              "1       NaN    NaN    NaN    NaN    NaN    NaN    NaN    NaN  \n",
              "2       NaN    NaN    NaN    NaN    NaN    NaN    NaN    NaN  \n",
              "3       NaN    NaN    NaN    NaN    NaN    NaN    NaN    NaN  \n",
              "4       NaN    NaN    NaN    NaN    NaN    NaN    NaN    NaN  \n",
              "...     ...    ...    ...    ...    ...    ...    ...    ...  \n",
              "1673    0.0    0.0    0.0    0.0    0.0    0.0    0.0    0.0  \n",
              "1674    0.0    0.0    0.0    0.0    0.0    0.0    0.0    0.0  \n",
              "1675    0.0    0.0    0.0    0.0    0.0    0.0    0.0    0.0  \n",
              "1676    0.0    0.0    0.0    0.0    0.0    0.0    0.0    0.0  \n",
              "1677    NaN    NaN    NaN    NaN    NaN    NaN    NaN    NaN  \n",
              "\n",
              "[2828 rows x 1570 columns]"
            ],
            "text/html": [
              "\n",
              "  <div id=\"df-a5b8c5dc-0002-4eda-a1f6-c60fa53f5aaf\" class=\"colab-df-container\">\n",
              "    <div>\n",
              "<style scoped>\n",
              "    .dataframe tbody tr th:only-of-type {\n",
              "        vertical-align: middle;\n",
              "    }\n",
              "\n",
              "    .dataframe tbody tr th {\n",
              "        vertical-align: top;\n",
              "    }\n",
              "\n",
              "    .dataframe thead th {\n",
              "        text-align: right;\n",
              "    }\n",
              "</style>\n",
              "<table border=\"1\" class=\"dataframe\">\n",
              "  <thead>\n",
              "    <tr style=\"text-align: right;\">\n",
              "      <th></th>\n",
              "      <th>label</th>\n",
              "      <th>1x1</th>\n",
              "      <th>1x2</th>\n",
              "      <th>1x3</th>\n",
              "      <th>1x4</th>\n",
              "      <th>1x5</th>\n",
              "      <th>1x6</th>\n",
              "      <th>1x7</th>\n",
              "      <th>1x8</th>\n",
              "      <th>1x9</th>\n",
              "      <th>...</th>\n",
              "      <th>0.639</th>\n",
              "      <th>0.640</th>\n",
              "      <th>0.641</th>\n",
              "      <th>0.642</th>\n",
              "      <th>0.643</th>\n",
              "      <th>0.644</th>\n",
              "      <th>0.645</th>\n",
              "      <th>0.646</th>\n",
              "      <th>0.647</th>\n",
              "      <th>0.648</th>\n",
              "    </tr>\n",
              "  </thead>\n",
              "  <tbody>\n",
              "    <tr>\n",
              "      <th>0</th>\n",
              "      <td>5.0</td>\n",
              "      <td>0.0</td>\n",
              "      <td>0.0</td>\n",
              "      <td>0.0</td>\n",
              "      <td>0.0</td>\n",
              "      <td>0.0</td>\n",
              "      <td>0.0</td>\n",
              "      <td>0.0</td>\n",
              "      <td>0.0</td>\n",
              "      <td>0.0</td>\n",
              "      <td>...</td>\n",
              "      <td>NaN</td>\n",
              "      <td>NaN</td>\n",
              "      <td>NaN</td>\n",
              "      <td>NaN</td>\n",
              "      <td>NaN</td>\n",
              "      <td>NaN</td>\n",
              "      <td>NaN</td>\n",
              "      <td>NaN</td>\n",
              "      <td>NaN</td>\n",
              "      <td>NaN</td>\n",
              "    </tr>\n",
              "    <tr>\n",
              "      <th>1</th>\n",
              "      <td>0.0</td>\n",
              "      <td>0.0</td>\n",
              "      <td>0.0</td>\n",
              "      <td>0.0</td>\n",
              "      <td>0.0</td>\n",
              "      <td>0.0</td>\n",
              "      <td>0.0</td>\n",
              "      <td>0.0</td>\n",
              "      <td>0.0</td>\n",
              "      <td>0.0</td>\n",
              "      <td>...</td>\n",
              "      <td>NaN</td>\n",
              "      <td>NaN</td>\n",
              "      <td>NaN</td>\n",
              "      <td>NaN</td>\n",
              "      <td>NaN</td>\n",
              "      <td>NaN</td>\n",
              "      <td>NaN</td>\n",
              "      <td>NaN</td>\n",
              "      <td>NaN</td>\n",
              "      <td>NaN</td>\n",
              "    </tr>\n",
              "    <tr>\n",
              "      <th>2</th>\n",
              "      <td>4.0</td>\n",
              "      <td>0.0</td>\n",
              "      <td>0.0</td>\n",
              "      <td>0.0</td>\n",
              "      <td>0.0</td>\n",
              "      <td>0.0</td>\n",
              "      <td>0.0</td>\n",
              "      <td>0.0</td>\n",
              "      <td>0.0</td>\n",
              "      <td>0.0</td>\n",
              "      <td>...</td>\n",
              "      <td>NaN</td>\n",
              "      <td>NaN</td>\n",
              "      <td>NaN</td>\n",
              "      <td>NaN</td>\n",
              "      <td>NaN</td>\n",
              "      <td>NaN</td>\n",
              "      <td>NaN</td>\n",
              "      <td>NaN</td>\n",
              "      <td>NaN</td>\n",
              "      <td>NaN</td>\n",
              "    </tr>\n",
              "    <tr>\n",
              "      <th>3</th>\n",
              "      <td>1.0</td>\n",
              "      <td>0.0</td>\n",
              "      <td>0.0</td>\n",
              "      <td>0.0</td>\n",
              "      <td>0.0</td>\n",
              "      <td>0.0</td>\n",
              "      <td>0.0</td>\n",
              "      <td>0.0</td>\n",
              "      <td>0.0</td>\n",
              "      <td>0.0</td>\n",
              "      <td>...</td>\n",
              "      <td>NaN</td>\n",
              "      <td>NaN</td>\n",
              "      <td>NaN</td>\n",
              "      <td>NaN</td>\n",
              "      <td>NaN</td>\n",
              "      <td>NaN</td>\n",
              "      <td>NaN</td>\n",
              "      <td>NaN</td>\n",
              "      <td>NaN</td>\n",
              "      <td>NaN</td>\n",
              "    </tr>\n",
              "    <tr>\n",
              "      <th>4</th>\n",
              "      <td>9.0</td>\n",
              "      <td>0.0</td>\n",
              "      <td>0.0</td>\n",
              "      <td>0.0</td>\n",
              "      <td>0.0</td>\n",
              "      <td>0.0</td>\n",
              "      <td>0.0</td>\n",
              "      <td>0.0</td>\n",
              "      <td>0.0</td>\n",
              "      <td>0.0</td>\n",
              "      <td>...</td>\n",
              "      <td>NaN</td>\n",
              "      <td>NaN</td>\n",
              "      <td>NaN</td>\n",
              "      <td>NaN</td>\n",
              "      <td>NaN</td>\n",
              "      <td>NaN</td>\n",
              "      <td>NaN</td>\n",
              "      <td>NaN</td>\n",
              "      <td>NaN</td>\n",
              "      <td>NaN</td>\n",
              "    </tr>\n",
              "    <tr>\n",
              "      <th>...</th>\n",
              "      <td>...</td>\n",
              "      <td>...</td>\n",
              "      <td>...</td>\n",
              "      <td>...</td>\n",
              "      <td>...</td>\n",
              "      <td>...</td>\n",
              "      <td>...</td>\n",
              "      <td>...</td>\n",
              "      <td>...</td>\n",
              "      <td>...</td>\n",
              "      <td>...</td>\n",
              "      <td>...</td>\n",
              "      <td>...</td>\n",
              "      <td>...</td>\n",
              "      <td>...</td>\n",
              "      <td>...</td>\n",
              "      <td>...</td>\n",
              "      <td>...</td>\n",
              "      <td>...</td>\n",
              "      <td>...</td>\n",
              "      <td>...</td>\n",
              "    </tr>\n",
              "    <tr>\n",
              "      <th>1673</th>\n",
              "      <td>NaN</td>\n",
              "      <td>NaN</td>\n",
              "      <td>NaN</td>\n",
              "      <td>NaN</td>\n",
              "      <td>NaN</td>\n",
              "      <td>NaN</td>\n",
              "      <td>NaN</td>\n",
              "      <td>NaN</td>\n",
              "      <td>NaN</td>\n",
              "      <td>NaN</td>\n",
              "      <td>...</td>\n",
              "      <td>0.0</td>\n",
              "      <td>0.0</td>\n",
              "      <td>0.0</td>\n",
              "      <td>0.0</td>\n",
              "      <td>0.0</td>\n",
              "      <td>0.0</td>\n",
              "      <td>0.0</td>\n",
              "      <td>0.0</td>\n",
              "      <td>0.0</td>\n",
              "      <td>0.0</td>\n",
              "    </tr>\n",
              "    <tr>\n",
              "      <th>1674</th>\n",
              "      <td>NaN</td>\n",
              "      <td>NaN</td>\n",
              "      <td>NaN</td>\n",
              "      <td>NaN</td>\n",
              "      <td>NaN</td>\n",
              "      <td>NaN</td>\n",
              "      <td>NaN</td>\n",
              "      <td>NaN</td>\n",
              "      <td>NaN</td>\n",
              "      <td>NaN</td>\n",
              "      <td>...</td>\n",
              "      <td>0.0</td>\n",
              "      <td>0.0</td>\n",
              "      <td>0.0</td>\n",
              "      <td>0.0</td>\n",
              "      <td>0.0</td>\n",
              "      <td>0.0</td>\n",
              "      <td>0.0</td>\n",
              "      <td>0.0</td>\n",
              "      <td>0.0</td>\n",
              "      <td>0.0</td>\n",
              "    </tr>\n",
              "    <tr>\n",
              "      <th>1675</th>\n",
              "      <td>NaN</td>\n",
              "      <td>NaN</td>\n",
              "      <td>NaN</td>\n",
              "      <td>NaN</td>\n",
              "      <td>NaN</td>\n",
              "      <td>NaN</td>\n",
              "      <td>NaN</td>\n",
              "      <td>NaN</td>\n",
              "      <td>NaN</td>\n",
              "      <td>NaN</td>\n",
              "      <td>...</td>\n",
              "      <td>0.0</td>\n",
              "      <td>0.0</td>\n",
              "      <td>0.0</td>\n",
              "      <td>0.0</td>\n",
              "      <td>0.0</td>\n",
              "      <td>0.0</td>\n",
              "      <td>0.0</td>\n",
              "      <td>0.0</td>\n",
              "      <td>0.0</td>\n",
              "      <td>0.0</td>\n",
              "    </tr>\n",
              "    <tr>\n",
              "      <th>1676</th>\n",
              "      <td>NaN</td>\n",
              "      <td>NaN</td>\n",
              "      <td>NaN</td>\n",
              "      <td>NaN</td>\n",
              "      <td>NaN</td>\n",
              "      <td>NaN</td>\n",
              "      <td>NaN</td>\n",
              "      <td>NaN</td>\n",
              "      <td>NaN</td>\n",
              "      <td>NaN</td>\n",
              "      <td>...</td>\n",
              "      <td>0.0</td>\n",
              "      <td>0.0</td>\n",
              "      <td>0.0</td>\n",
              "      <td>0.0</td>\n",
              "      <td>0.0</td>\n",
              "      <td>0.0</td>\n",
              "      <td>0.0</td>\n",
              "      <td>0.0</td>\n",
              "      <td>0.0</td>\n",
              "      <td>0.0</td>\n",
              "    </tr>\n",
              "    <tr>\n",
              "      <th>1677</th>\n",
              "      <td>NaN</td>\n",
              "      <td>NaN</td>\n",
              "      <td>NaN</td>\n",
              "      <td>NaN</td>\n",
              "      <td>NaN</td>\n",
              "      <td>NaN</td>\n",
              "      <td>NaN</td>\n",
              "      <td>NaN</td>\n",
              "      <td>NaN</td>\n",
              "      <td>NaN</td>\n",
              "      <td>...</td>\n",
              "      <td>NaN</td>\n",
              "      <td>NaN</td>\n",
              "      <td>NaN</td>\n",
              "      <td>NaN</td>\n",
              "      <td>NaN</td>\n",
              "      <td>NaN</td>\n",
              "      <td>NaN</td>\n",
              "      <td>NaN</td>\n",
              "      <td>NaN</td>\n",
              "      <td>NaN</td>\n",
              "    </tr>\n",
              "  </tbody>\n",
              "</table>\n",
              "<p>2828 rows × 1570 columns</p>\n",
              "</div>\n",
              "    <div class=\"colab-df-buttons\">\n",
              "\n",
              "  <div class=\"colab-df-container\">\n",
              "    <button class=\"colab-df-convert\" onclick=\"convertToInteractive('df-a5b8c5dc-0002-4eda-a1f6-c60fa53f5aaf')\"\n",
              "            title=\"Convert this dataframe to an interactive table.\"\n",
              "            style=\"display:none;\">\n",
              "\n",
              "  <svg xmlns=\"http://www.w3.org/2000/svg\" height=\"24px\" viewBox=\"0 -960 960 960\">\n",
              "    <path d=\"M120-120v-720h720v720H120Zm60-500h600v-160H180v160Zm220 220h160v-160H400v160Zm0 220h160v-160H400v160ZM180-400h160v-160H180v160Zm440 0h160v-160H620v160ZM180-180h160v-160H180v160Zm440 0h160v-160H620v160Z\"/>\n",
              "  </svg>\n",
              "    </button>\n",
              "\n",
              "  <style>\n",
              "    .colab-df-container {\n",
              "      display:flex;\n",
              "      gap: 12px;\n",
              "    }\n",
              "\n",
              "    .colab-df-convert {\n",
              "      background-color: #E8F0FE;\n",
              "      border: none;\n",
              "      border-radius: 50%;\n",
              "      cursor: pointer;\n",
              "      display: none;\n",
              "      fill: #1967D2;\n",
              "      height: 32px;\n",
              "      padding: 0 0 0 0;\n",
              "      width: 32px;\n",
              "    }\n",
              "\n",
              "    .colab-df-convert:hover {\n",
              "      background-color: #E2EBFA;\n",
              "      box-shadow: 0px 1px 2px rgba(60, 64, 67, 0.3), 0px 1px 3px 1px rgba(60, 64, 67, 0.15);\n",
              "      fill: #174EA6;\n",
              "    }\n",
              "\n",
              "    .colab-df-buttons div {\n",
              "      margin-bottom: 4px;\n",
              "    }\n",
              "\n",
              "    [theme=dark] .colab-df-convert {\n",
              "      background-color: #3B4455;\n",
              "      fill: #D2E3FC;\n",
              "    }\n",
              "\n",
              "    [theme=dark] .colab-df-convert:hover {\n",
              "      background-color: #434B5C;\n",
              "      box-shadow: 0px 1px 3px 1px rgba(0, 0, 0, 0.15);\n",
              "      filter: drop-shadow(0px 1px 2px rgba(0, 0, 0, 0.3));\n",
              "      fill: #FFFFFF;\n",
              "    }\n",
              "  </style>\n",
              "\n",
              "    <script>\n",
              "      const buttonEl =\n",
              "        document.querySelector('#df-a5b8c5dc-0002-4eda-a1f6-c60fa53f5aaf button.colab-df-convert');\n",
              "      buttonEl.style.display =\n",
              "        google.colab.kernel.accessAllowed ? 'block' : 'none';\n",
              "\n",
              "      async function convertToInteractive(key) {\n",
              "        const element = document.querySelector('#df-a5b8c5dc-0002-4eda-a1f6-c60fa53f5aaf');\n",
              "        const dataTable =\n",
              "          await google.colab.kernel.invokeFunction('convertToInteractive',\n",
              "                                                    [key], {});\n",
              "        if (!dataTable) return;\n",
              "\n",
              "        const docLinkHtml = 'Like what you see? Visit the ' +\n",
              "          '<a target=\"_blank\" href=https://colab.research.google.com/notebooks/data_table.ipynb>data table notebook</a>'\n",
              "          + ' to learn more about interactive tables.';\n",
              "        element.innerHTML = '';\n",
              "        dataTable['output_type'] = 'display_data';\n",
              "        await google.colab.output.renderOutput(dataTable, element);\n",
              "        const docLink = document.createElement('div');\n",
              "        docLink.innerHTML = docLinkHtml;\n",
              "        element.appendChild(docLink);\n",
              "      }\n",
              "    </script>\n",
              "  </div>\n",
              "\n",
              "\n",
              "<div id=\"df-03261255-782f-4558-b4ba-cdbfd4c652b4\">\n",
              "  <button class=\"colab-df-quickchart\" onclick=\"quickchart('df-03261255-782f-4558-b4ba-cdbfd4c652b4')\"\n",
              "            title=\"Suggest charts\"\n",
              "            style=\"display:none;\">\n",
              "\n",
              "<svg xmlns=\"http://www.w3.org/2000/svg\" height=\"24px\"viewBox=\"0 0 24 24\"\n",
              "     width=\"24px\">\n",
              "    <g>\n",
              "        <path d=\"M19 3H5c-1.1 0-2 .9-2 2v14c0 1.1.9 2 2 2h14c1.1 0 2-.9 2-2V5c0-1.1-.9-2-2-2zM9 17H7v-7h2v7zm4 0h-2V7h2v10zm4 0h-2v-4h2v4z\"/>\n",
              "    </g>\n",
              "</svg>\n",
              "  </button>\n",
              "\n",
              "<style>\n",
              "  .colab-df-quickchart {\n",
              "      --bg-color: #E8F0FE;\n",
              "      --fill-color: #1967D2;\n",
              "      --hover-bg-color: #E2EBFA;\n",
              "      --hover-fill-color: #174EA6;\n",
              "      --disabled-fill-color: #AAA;\n",
              "      --disabled-bg-color: #DDD;\n",
              "  }\n",
              "\n",
              "  [theme=dark] .colab-df-quickchart {\n",
              "      --bg-color: #3B4455;\n",
              "      --fill-color: #D2E3FC;\n",
              "      --hover-bg-color: #434B5C;\n",
              "      --hover-fill-color: #FFFFFF;\n",
              "      --disabled-bg-color: #3B4455;\n",
              "      --disabled-fill-color: #666;\n",
              "  }\n",
              "\n",
              "  .colab-df-quickchart {\n",
              "    background-color: var(--bg-color);\n",
              "    border: none;\n",
              "    border-radius: 50%;\n",
              "    cursor: pointer;\n",
              "    display: none;\n",
              "    fill: var(--fill-color);\n",
              "    height: 32px;\n",
              "    padding: 0;\n",
              "    width: 32px;\n",
              "  }\n",
              "\n",
              "  .colab-df-quickchart:hover {\n",
              "    background-color: var(--hover-bg-color);\n",
              "    box-shadow: 0 1px 2px rgba(60, 64, 67, 0.3), 0 1px 3px 1px rgba(60, 64, 67, 0.15);\n",
              "    fill: var(--button-hover-fill-color);\n",
              "  }\n",
              "\n",
              "  .colab-df-quickchart-complete:disabled,\n",
              "  .colab-df-quickchart-complete:disabled:hover {\n",
              "    background-color: var(--disabled-bg-color);\n",
              "    fill: var(--disabled-fill-color);\n",
              "    box-shadow: none;\n",
              "  }\n",
              "\n",
              "  .colab-df-spinner {\n",
              "    border: 2px solid var(--fill-color);\n",
              "    border-color: transparent;\n",
              "    border-bottom-color: var(--fill-color);\n",
              "    animation:\n",
              "      spin 1s steps(1) infinite;\n",
              "  }\n",
              "\n",
              "  @keyframes spin {\n",
              "    0% {\n",
              "      border-color: transparent;\n",
              "      border-bottom-color: var(--fill-color);\n",
              "      border-left-color: var(--fill-color);\n",
              "    }\n",
              "    20% {\n",
              "      border-color: transparent;\n",
              "      border-left-color: var(--fill-color);\n",
              "      border-top-color: var(--fill-color);\n",
              "    }\n",
              "    30% {\n",
              "      border-color: transparent;\n",
              "      border-left-color: var(--fill-color);\n",
              "      border-top-color: var(--fill-color);\n",
              "      border-right-color: var(--fill-color);\n",
              "    }\n",
              "    40% {\n",
              "      border-color: transparent;\n",
              "      border-right-color: var(--fill-color);\n",
              "      border-top-color: var(--fill-color);\n",
              "    }\n",
              "    60% {\n",
              "      border-color: transparent;\n",
              "      border-right-color: var(--fill-color);\n",
              "    }\n",
              "    80% {\n",
              "      border-color: transparent;\n",
              "      border-right-color: var(--fill-color);\n",
              "      border-bottom-color: var(--fill-color);\n",
              "    }\n",
              "    90% {\n",
              "      border-color: transparent;\n",
              "      border-bottom-color: var(--fill-color);\n",
              "    }\n",
              "  }\n",
              "</style>\n",
              "\n",
              "  <script>\n",
              "    async function quickchart(key) {\n",
              "      const quickchartButtonEl =\n",
              "        document.querySelector('#' + key + ' button');\n",
              "      quickchartButtonEl.disabled = true;  // To prevent multiple clicks.\n",
              "      quickchartButtonEl.classList.add('colab-df-spinner');\n",
              "      try {\n",
              "        const charts = await google.colab.kernel.invokeFunction(\n",
              "            'suggestCharts', [key], {});\n",
              "      } catch (error) {\n",
              "        console.error('Error during call to suggestCharts:', error);\n",
              "      }\n",
              "      quickchartButtonEl.classList.remove('colab-df-spinner');\n",
              "      quickchartButtonEl.classList.add('colab-df-quickchart-complete');\n",
              "    }\n",
              "    (() => {\n",
              "      let quickchartButtonEl =\n",
              "        document.querySelector('#df-03261255-782f-4558-b4ba-cdbfd4c652b4 button');\n",
              "      quickchartButtonEl.style.display =\n",
              "        google.colab.kernel.accessAllowed ? 'block' : 'none';\n",
              "    })();\n",
              "  </script>\n",
              "</div>\n",
              "\n",
              "  <div id=\"id_50ec4211-d901-4c16-a3c6-1ad61e659736\">\n",
              "    <style>\n",
              "      .colab-df-generate {\n",
              "        background-color: #E8F0FE;\n",
              "        border: none;\n",
              "        border-radius: 50%;\n",
              "        cursor: pointer;\n",
              "        display: none;\n",
              "        fill: #1967D2;\n",
              "        height: 32px;\n",
              "        padding: 0 0 0 0;\n",
              "        width: 32px;\n",
              "      }\n",
              "\n",
              "      .colab-df-generate:hover {\n",
              "        background-color: #E2EBFA;\n",
              "        box-shadow: 0px 1px 2px rgba(60, 64, 67, 0.3), 0px 1px 3px 1px rgba(60, 64, 67, 0.15);\n",
              "        fill: #174EA6;\n",
              "      }\n",
              "\n",
              "      [theme=dark] .colab-df-generate {\n",
              "        background-color: #3B4455;\n",
              "        fill: #D2E3FC;\n",
              "      }\n",
              "\n",
              "      [theme=dark] .colab-df-generate:hover {\n",
              "        background-color: #434B5C;\n",
              "        box-shadow: 0px 1px 3px 1px rgba(0, 0, 0, 0.15);\n",
              "        filter: drop-shadow(0px 1px 2px rgba(0, 0, 0, 0.3));\n",
              "        fill: #FFFFFF;\n",
              "      }\n",
              "    </style>\n",
              "    <button class=\"colab-df-generate\" onclick=\"generateWithVariable('df')\"\n",
              "            title=\"Generate code using this dataframe.\"\n",
              "            style=\"display:none;\">\n",
              "\n",
              "  <svg xmlns=\"http://www.w3.org/2000/svg\" height=\"24px\"viewBox=\"0 0 24 24\"\n",
              "       width=\"24px\">\n",
              "    <path d=\"M7,19H8.4L18.45,9,17,7.55,7,17.6ZM5,21V16.75L18.45,3.32a2,2,0,0,1,2.83,0l1.4,1.43a1.91,1.91,0,0,1,.58,1.4,1.91,1.91,0,0,1-.58,1.4L9.25,21ZM18.45,9,17,7.55Zm-12,3A5.31,5.31,0,0,0,4.9,8.1,5.31,5.31,0,0,0,1,6.5,5.31,5.31,0,0,0,4.9,4.9,5.31,5.31,0,0,0,6.5,1,5.31,5.31,0,0,0,8.1,4.9,5.31,5.31,0,0,0,12,6.5,5.46,5.46,0,0,0,6.5,12Z\"/>\n",
              "  </svg>\n",
              "    </button>\n",
              "    <script>\n",
              "      (() => {\n",
              "      const buttonEl =\n",
              "        document.querySelector('#id_50ec4211-d901-4c16-a3c6-1ad61e659736 button.colab-df-generate');\n",
              "      buttonEl.style.display =\n",
              "        google.colab.kernel.accessAllowed ? 'block' : 'none';\n",
              "\n",
              "      buttonEl.onclick = () => {\n",
              "        google.colab.notebook.generateWithVariable('df');\n",
              "      }\n",
              "      })();\n",
              "    </script>\n",
              "  </div>\n",
              "\n",
              "    </div>\n",
              "  </div>\n"
            ],
            "application/vnd.google.colaboratory.intrinsic+json": {
              "type": "dataframe",
              "variable_name": "df"
            }
          },
          "metadata": {},
          "execution_count": 8
        }
      ]
    },
    {
      "cell_type": "code",
      "source": [
        "pixel_array = [\"Label\"]\n",
        "for i in range(1, 785):\n",
        "    pixel_array.append(f\"pixel_{i}\")\n",
        "df_num.columns = pixel_array\n",
        "df_alph.columns = pixel_array\n",
        "del pixel_array"
      ],
      "metadata": {
        "id": "-xdET8htJb4N"
      },
      "execution_count": 9,
      "outputs": []
    },
    {
      "cell_type": "code",
      "source": [
        "df = pd.concat([df_num, df_alph], axis = 0)\n",
        "df.shape"
      ],
      "metadata": {
        "colab": {
          "base_uri": "https://localhost:8080/"
        },
        "id": "exaUV0EDKOki",
        "outputId": "1356eac2-5212-4e65-fb28-6136a209fab5"
      },
      "execution_count": 10,
      "outputs": [
        {
          "output_type": "execute_result",
          "data": {
            "text/plain": [
              "(2828, 785)"
            ]
          },
          "metadata": {},
          "execution_count": 10
        }
      ]
    },
    {
      "cell_type": "code",
      "source": [
        "X = df.drop([\"Label\"], axis = 1)\n",
        "y = df[\"Label\"]\n",
        "X.shape"
      ],
      "metadata": {
        "colab": {
          "base_uri": "https://localhost:8080/"
        },
        "id": "5Rd5nsLSIZhG",
        "outputId": "4f7d38b8-c164-4826-8d95-5fe15cdd604f"
      },
      "execution_count": 11,
      "outputs": [
        {
          "output_type": "execute_result",
          "data": {
            "text/plain": [
              "(2828, 784)"
            ]
          },
          "metadata": {},
          "execution_count": 11
        }
      ]
    },
    {
      "cell_type": "code",
      "source": [
        "X_reshaped = X.values.astype(\"float32\").reshape(X.shape[0], 28, 28)\n",
        "y_int = y.values.astype(\"int32\")\n",
        "print(X.shape, \"***\", X_reshaped.shape)"
      ],
      "metadata": {
        "colab": {
          "base_uri": "https://localhost:8080/"
        },
        "id": "ByxIxA2cInfF",
        "outputId": "ceeb135a-8ac6-47af-e13d-40a4abae5be2"
      },
      "execution_count": 12,
      "outputs": [
        {
          "output_type": "stream",
          "name": "stdout",
          "text": [
            "(2828, 784) *** (2828, 28, 28)\n"
          ]
        }
      ]
    },
    {
      "cell_type": "code",
      "source": [
        "X_reshaped = X_reshaped.reshape(-1, 28, 28, 1)\n",
        "\n",
        "X_train, X_test, y_train, y_test = train_test_split(X_reshaped, y_int, test_size = 0.3, stratify = y)\n",
        "\n",
        "data_to_predict = X_test.reshape(-1, 28, 28)"
      ],
      "metadata": {
        "id": "glRkNlUBIp4Y"
      },
      "execution_count": 13,
      "outputs": []
    },
    {
      "cell_type": "code",
      "source": [
        "type(data_to_predict)"
      ],
      "metadata": {
        "colab": {
          "base_uri": "https://localhost:8080/"
        },
        "id": "ipzFb-2jyJDd",
        "outputId": "de52f0e1-771b-43c9-8e8d-1941b9c92108"
      },
      "execution_count": 15,
      "outputs": [
        {
          "output_type": "execute_result",
          "data": {
            "text/plain": [
              "numpy.ndarray"
            ]
          },
          "metadata": {},
          "execution_count": 15
        }
      ]
    },
    {
      "cell_type": "code",
      "source": [
        "import cv2\n",
        "import numpy as np\n",
        "resized_images = []\n",
        "for img in data_to_predict:\n",
        "    # Resize the image using OpenCV\n",
        "    resized_img = cv2.resize(img, (224, 224), interpolation=cv2.INTER_AREA)\n",
        "    resized_images.append(resized_img)\n",
        "\n",
        "# Convert resized_images to a numpy array\n",
        "resized_images = np.array(resized_images)\n"
      ],
      "metadata": {
        "id": "UdXfOKzgwz_W"
      },
      "execution_count": 17,
      "outputs": []
    },
    {
      "cell_type": "code",
      "source": [
        "resized_images"
      ],
      "metadata": {
        "colab": {
          "base_uri": "https://localhost:8080/"
        },
        "id": "EgPXZ7e5yuD1",
        "outputId": "545746c8-c1f7-44a3-add0-8d2e4381f123"
      },
      "execution_count": 25,
      "outputs": [
        {
          "output_type": "execute_result",
          "data": {
            "text/plain": [
              "array([[[0., 0., 0., ..., 0., 0., 0.],\n",
              "        [0., 0., 0., ..., 0., 0., 0.],\n",
              "        [0., 0., 0., ..., 0., 0., 0.],\n",
              "        ...,\n",
              "        [0., 0., 0., ..., 0., 0., 0.],\n",
              "        [0., 0., 0., ..., 0., 0., 0.],\n",
              "        [0., 0., 0., ..., 0., 0., 0.]],\n",
              "\n",
              "       [[0., 0., 0., ..., 0., 0., 0.],\n",
              "        [0., 0., 0., ..., 0., 0., 0.],\n",
              "        [0., 0., 0., ..., 0., 0., 0.],\n",
              "        ...,\n",
              "        [0., 0., 0., ..., 0., 0., 0.],\n",
              "        [0., 0., 0., ..., 0., 0., 0.],\n",
              "        [0., 0., 0., ..., 0., 0., 0.]],\n",
              "\n",
              "       [[0., 0., 0., ..., 0., 0., 0.],\n",
              "        [0., 0., 0., ..., 0., 0., 0.],\n",
              "        [0., 0., 0., ..., 0., 0., 0.],\n",
              "        ...,\n",
              "        [0., 0., 0., ..., 0., 0., 0.],\n",
              "        [0., 0., 0., ..., 0., 0., 0.],\n",
              "        [0., 0., 0., ..., 0., 0., 0.]],\n",
              "\n",
              "       ...,\n",
              "\n",
              "       [[0., 0., 0., ..., 0., 0., 0.],\n",
              "        [0., 0., 0., ..., 0., 0., 0.],\n",
              "        [0., 0., 0., ..., 0., 0., 0.],\n",
              "        ...,\n",
              "        [0., 0., 0., ..., 0., 0., 0.],\n",
              "        [0., 0., 0., ..., 0., 0., 0.],\n",
              "        [0., 0., 0., ..., 0., 0., 0.]],\n",
              "\n",
              "       [[0., 0., 0., ..., 0., 0., 0.],\n",
              "        [0., 0., 0., ..., 0., 0., 0.],\n",
              "        [0., 0., 0., ..., 0., 0., 0.],\n",
              "        ...,\n",
              "        [0., 0., 0., ..., 0., 0., 0.],\n",
              "        [0., 0., 0., ..., 0., 0., 0.],\n",
              "        [0., 0., 0., ..., 0., 0., 0.]],\n",
              "\n",
              "       [[0., 0., 0., ..., 0., 0., 0.],\n",
              "        [0., 0., 0., ..., 0., 0., 0.],\n",
              "        [0., 0., 0., ..., 0., 0., 0.],\n",
              "        ...,\n",
              "        [0., 0., 0., ..., 0., 0., 0.],\n",
              "        [0., 0., 0., ..., 0., 0., 0.],\n",
              "        [0., 0., 0., ..., 0., 0., 0.]]], dtype=float32)"
            ]
          },
          "metadata": {},
          "execution_count": 25
        }
      ]
    },
    {
      "cell_type": "markdown",
      "source": [
        "Transfer Learning using Resnet50 for OCR(PDF files both handwritten and printed versions)"
      ],
      "metadata": {
        "id": "vXcjs5zu3jg9"
      }
    },
    {
      "cell_type": "code",
      "source": [
        "from tensorflow.keras.applications import ResNet50\n",
        "from tensorflow.keras.layers import Flatten\n",
        "from tensorflow.keras.optimizers import Adam"
      ],
      "metadata": {
        "id": "-UzQgUZEK0P_"
      },
      "execution_count": 18,
      "outputs": []
    },
    {
      "cell_type": "code",
      "source": [
        "conv_base = ResNet50(weights='imagenet',include_top=False,input_shape=(224, 224, 3))\n",
        "print(conv_base.summary())"
      ],
      "metadata": {
        "id": "aYpPpKexT2Bn",
        "colab": {
          "base_uri": "https://localhost:8080/"
        },
        "outputId": "941df14e-592e-468e-c542-85d55b573763"
      },
      "execution_count": 19,
      "outputs": [
        {
          "output_type": "stream",
          "name": "stdout",
          "text": [
            "Downloading data from https://storage.googleapis.com/tensorflow/keras-applications/resnet/resnet50_weights_tf_dim_ordering_tf_kernels_notop.h5\n",
            "94765736/94765736 [==============================] - 1s 0us/step\n",
            "Model: \"resnet50\"\n",
            "__________________________________________________________________________________________________\n",
            " Layer (type)                Output Shape                 Param #   Connected to                  \n",
            "==================================================================================================\n",
            " input_1 (InputLayer)        [(None, 224, 224, 3)]        0         []                            \n",
            "                                                                                                  \n",
            " conv1_pad (ZeroPadding2D)   (None, 230, 230, 3)          0         ['input_1[0][0]']             \n",
            "                                                                                                  \n",
            " conv1_conv (Conv2D)         (None, 112, 112, 64)         9472      ['conv1_pad[0][0]']           \n",
            "                                                                                                  \n",
            " conv1_bn (BatchNormalizati  (None, 112, 112, 64)         256       ['conv1_conv[0][0]']          \n",
            " on)                                                                                              \n",
            "                                                                                                  \n",
            " conv1_relu (Activation)     (None, 112, 112, 64)         0         ['conv1_bn[0][0]']            \n",
            "                                                                                                  \n",
            " pool1_pad (ZeroPadding2D)   (None, 114, 114, 64)         0         ['conv1_relu[0][0]']          \n",
            "                                                                                                  \n",
            " pool1_pool (MaxPooling2D)   (None, 56, 56, 64)           0         ['pool1_pad[0][0]']           \n",
            "                                                                                                  \n",
            " conv2_block1_1_conv (Conv2  (None, 56, 56, 64)           4160      ['pool1_pool[0][0]']          \n",
            " D)                                                                                               \n",
            "                                                                                                  \n",
            " conv2_block1_1_bn (BatchNo  (None, 56, 56, 64)           256       ['conv2_block1_1_conv[0][0]'] \n",
            " rmalization)                                                                                     \n",
            "                                                                                                  \n",
            " conv2_block1_1_relu (Activ  (None, 56, 56, 64)           0         ['conv2_block1_1_bn[0][0]']   \n",
            " ation)                                                                                           \n",
            "                                                                                                  \n",
            " conv2_block1_2_conv (Conv2  (None, 56, 56, 64)           36928     ['conv2_block1_1_relu[0][0]'] \n",
            " D)                                                                                               \n",
            "                                                                                                  \n",
            " conv2_block1_2_bn (BatchNo  (None, 56, 56, 64)           256       ['conv2_block1_2_conv[0][0]'] \n",
            " rmalization)                                                                                     \n",
            "                                                                                                  \n",
            " conv2_block1_2_relu (Activ  (None, 56, 56, 64)           0         ['conv2_block1_2_bn[0][0]']   \n",
            " ation)                                                                                           \n",
            "                                                                                                  \n",
            " conv2_block1_0_conv (Conv2  (None, 56, 56, 256)          16640     ['pool1_pool[0][0]']          \n",
            " D)                                                                                               \n",
            "                                                                                                  \n",
            " conv2_block1_3_conv (Conv2  (None, 56, 56, 256)          16640     ['conv2_block1_2_relu[0][0]'] \n",
            " D)                                                                                               \n",
            "                                                                                                  \n",
            " conv2_block1_0_bn (BatchNo  (None, 56, 56, 256)          1024      ['conv2_block1_0_conv[0][0]'] \n",
            " rmalization)                                                                                     \n",
            "                                                                                                  \n",
            " conv2_block1_3_bn (BatchNo  (None, 56, 56, 256)          1024      ['conv2_block1_3_conv[0][0]'] \n",
            " rmalization)                                                                                     \n",
            "                                                                                                  \n",
            " conv2_block1_add (Add)      (None, 56, 56, 256)          0         ['conv2_block1_0_bn[0][0]',   \n",
            "                                                                     'conv2_block1_3_bn[0][0]']   \n",
            "                                                                                                  \n",
            " conv2_block1_out (Activati  (None, 56, 56, 256)          0         ['conv2_block1_add[0][0]']    \n",
            " on)                                                                                              \n",
            "                                                                                                  \n",
            " conv2_block2_1_conv (Conv2  (None, 56, 56, 64)           16448     ['conv2_block1_out[0][0]']    \n",
            " D)                                                                                               \n",
            "                                                                                                  \n",
            " conv2_block2_1_bn (BatchNo  (None, 56, 56, 64)           256       ['conv2_block2_1_conv[0][0]'] \n",
            " rmalization)                                                                                     \n",
            "                                                                                                  \n",
            " conv2_block2_1_relu (Activ  (None, 56, 56, 64)           0         ['conv2_block2_1_bn[0][0]']   \n",
            " ation)                                                                                           \n",
            "                                                                                                  \n",
            " conv2_block2_2_conv (Conv2  (None, 56, 56, 64)           36928     ['conv2_block2_1_relu[0][0]'] \n",
            " D)                                                                                               \n",
            "                                                                                                  \n",
            " conv2_block2_2_bn (BatchNo  (None, 56, 56, 64)           256       ['conv2_block2_2_conv[0][0]'] \n",
            " rmalization)                                                                                     \n",
            "                                                                                                  \n",
            " conv2_block2_2_relu (Activ  (None, 56, 56, 64)           0         ['conv2_block2_2_bn[0][0]']   \n",
            " ation)                                                                                           \n",
            "                                                                                                  \n",
            " conv2_block2_3_conv (Conv2  (None, 56, 56, 256)          16640     ['conv2_block2_2_relu[0][0]'] \n",
            " D)                                                                                               \n",
            "                                                                                                  \n",
            " conv2_block2_3_bn (BatchNo  (None, 56, 56, 256)          1024      ['conv2_block2_3_conv[0][0]'] \n",
            " rmalization)                                                                                     \n",
            "                                                                                                  \n",
            " conv2_block2_add (Add)      (None, 56, 56, 256)          0         ['conv2_block1_out[0][0]',    \n",
            "                                                                     'conv2_block2_3_bn[0][0]']   \n",
            "                                                                                                  \n",
            " conv2_block2_out (Activati  (None, 56, 56, 256)          0         ['conv2_block2_add[0][0]']    \n",
            " on)                                                                                              \n",
            "                                                                                                  \n",
            " conv2_block3_1_conv (Conv2  (None, 56, 56, 64)           16448     ['conv2_block2_out[0][0]']    \n",
            " D)                                                                                               \n",
            "                                                                                                  \n",
            " conv2_block3_1_bn (BatchNo  (None, 56, 56, 64)           256       ['conv2_block3_1_conv[0][0]'] \n",
            " rmalization)                                                                                     \n",
            "                                                                                                  \n",
            " conv2_block3_1_relu (Activ  (None, 56, 56, 64)           0         ['conv2_block3_1_bn[0][0]']   \n",
            " ation)                                                                                           \n",
            "                                                                                                  \n",
            " conv2_block3_2_conv (Conv2  (None, 56, 56, 64)           36928     ['conv2_block3_1_relu[0][0]'] \n",
            " D)                                                                                               \n",
            "                                                                                                  \n",
            " conv2_block3_2_bn (BatchNo  (None, 56, 56, 64)           256       ['conv2_block3_2_conv[0][0]'] \n",
            " rmalization)                                                                                     \n",
            "                                                                                                  \n",
            " conv2_block3_2_relu (Activ  (None, 56, 56, 64)           0         ['conv2_block3_2_bn[0][0]']   \n",
            " ation)                                                                                           \n",
            "                                                                                                  \n",
            " conv2_block3_3_conv (Conv2  (None, 56, 56, 256)          16640     ['conv2_block3_2_relu[0][0]'] \n",
            " D)                                                                                               \n",
            "                                                                                                  \n",
            " conv2_block3_3_bn (BatchNo  (None, 56, 56, 256)          1024      ['conv2_block3_3_conv[0][0]'] \n",
            " rmalization)                                                                                     \n",
            "                                                                                                  \n",
            " conv2_block3_add (Add)      (None, 56, 56, 256)          0         ['conv2_block2_out[0][0]',    \n",
            "                                                                     'conv2_block3_3_bn[0][0]']   \n",
            "                                                                                                  \n",
            " conv2_block3_out (Activati  (None, 56, 56, 256)          0         ['conv2_block3_add[0][0]']    \n",
            " on)                                                                                              \n",
            "                                                                                                  \n",
            " conv3_block1_1_conv (Conv2  (None, 28, 28, 128)          32896     ['conv2_block3_out[0][0]']    \n",
            " D)                                                                                               \n",
            "                                                                                                  \n",
            " conv3_block1_1_bn (BatchNo  (None, 28, 28, 128)          512       ['conv3_block1_1_conv[0][0]'] \n",
            " rmalization)                                                                                     \n",
            "                                                                                                  \n",
            " conv3_block1_1_relu (Activ  (None, 28, 28, 128)          0         ['conv3_block1_1_bn[0][0]']   \n",
            " ation)                                                                                           \n",
            "                                                                                                  \n",
            " conv3_block1_2_conv (Conv2  (None, 28, 28, 128)          147584    ['conv3_block1_1_relu[0][0]'] \n",
            " D)                                                                                               \n",
            "                                                                                                  \n",
            " conv3_block1_2_bn (BatchNo  (None, 28, 28, 128)          512       ['conv3_block1_2_conv[0][0]'] \n",
            " rmalization)                                                                                     \n",
            "                                                                                                  \n",
            " conv3_block1_2_relu (Activ  (None, 28, 28, 128)          0         ['conv3_block1_2_bn[0][0]']   \n",
            " ation)                                                                                           \n",
            "                                                                                                  \n",
            " conv3_block1_0_conv (Conv2  (None, 28, 28, 512)          131584    ['conv2_block3_out[0][0]']    \n",
            " D)                                                                                               \n",
            "                                                                                                  \n",
            " conv3_block1_3_conv (Conv2  (None, 28, 28, 512)          66048     ['conv3_block1_2_relu[0][0]'] \n",
            " D)                                                                                               \n",
            "                                                                                                  \n",
            " conv3_block1_0_bn (BatchNo  (None, 28, 28, 512)          2048      ['conv3_block1_0_conv[0][0]'] \n",
            " rmalization)                                                                                     \n",
            "                                                                                                  \n",
            " conv3_block1_3_bn (BatchNo  (None, 28, 28, 512)          2048      ['conv3_block1_3_conv[0][0]'] \n",
            " rmalization)                                                                                     \n",
            "                                                                                                  \n",
            " conv3_block1_add (Add)      (None, 28, 28, 512)          0         ['conv3_block1_0_bn[0][0]',   \n",
            "                                                                     'conv3_block1_3_bn[0][0]']   \n",
            "                                                                                                  \n",
            " conv3_block1_out (Activati  (None, 28, 28, 512)          0         ['conv3_block1_add[0][0]']    \n",
            " on)                                                                                              \n",
            "                                                                                                  \n",
            " conv3_block2_1_conv (Conv2  (None, 28, 28, 128)          65664     ['conv3_block1_out[0][0]']    \n",
            " D)                                                                                               \n",
            "                                                                                                  \n",
            " conv3_block2_1_bn (BatchNo  (None, 28, 28, 128)          512       ['conv3_block2_1_conv[0][0]'] \n",
            " rmalization)                                                                                     \n",
            "                                                                                                  \n",
            " conv3_block2_1_relu (Activ  (None, 28, 28, 128)          0         ['conv3_block2_1_bn[0][0]']   \n",
            " ation)                                                                                           \n",
            "                                                                                                  \n",
            " conv3_block2_2_conv (Conv2  (None, 28, 28, 128)          147584    ['conv3_block2_1_relu[0][0]'] \n",
            " D)                                                                                               \n",
            "                                                                                                  \n",
            " conv3_block2_2_bn (BatchNo  (None, 28, 28, 128)          512       ['conv3_block2_2_conv[0][0]'] \n",
            " rmalization)                                                                                     \n",
            "                                                                                                  \n",
            " conv3_block2_2_relu (Activ  (None, 28, 28, 128)          0         ['conv3_block2_2_bn[0][0]']   \n",
            " ation)                                                                                           \n",
            "                                                                                                  \n",
            " conv3_block2_3_conv (Conv2  (None, 28, 28, 512)          66048     ['conv3_block2_2_relu[0][0]'] \n",
            " D)                                                                                               \n",
            "                                                                                                  \n",
            " conv3_block2_3_bn (BatchNo  (None, 28, 28, 512)          2048      ['conv3_block2_3_conv[0][0]'] \n",
            " rmalization)                                                                                     \n",
            "                                                                                                  \n",
            " conv3_block2_add (Add)      (None, 28, 28, 512)          0         ['conv3_block1_out[0][0]',    \n",
            "                                                                     'conv3_block2_3_bn[0][0]']   \n",
            "                                                                                                  \n",
            " conv3_block2_out (Activati  (None, 28, 28, 512)          0         ['conv3_block2_add[0][0]']    \n",
            " on)                                                                                              \n",
            "                                                                                                  \n",
            " conv3_block3_1_conv (Conv2  (None, 28, 28, 128)          65664     ['conv3_block2_out[0][0]']    \n",
            " D)                                                                                               \n",
            "                                                                                                  \n",
            " conv3_block3_1_bn (BatchNo  (None, 28, 28, 128)          512       ['conv3_block3_1_conv[0][0]'] \n",
            " rmalization)                                                                                     \n",
            "                                                                                                  \n",
            " conv3_block3_1_relu (Activ  (None, 28, 28, 128)          0         ['conv3_block3_1_bn[0][0]']   \n",
            " ation)                                                                                           \n",
            "                                                                                                  \n",
            " conv3_block3_2_conv (Conv2  (None, 28, 28, 128)          147584    ['conv3_block3_1_relu[0][0]'] \n",
            " D)                                                                                               \n",
            "                                                                                                  \n",
            " conv3_block3_2_bn (BatchNo  (None, 28, 28, 128)          512       ['conv3_block3_2_conv[0][0]'] \n",
            " rmalization)                                                                                     \n",
            "                                                                                                  \n",
            " conv3_block3_2_relu (Activ  (None, 28, 28, 128)          0         ['conv3_block3_2_bn[0][0]']   \n",
            " ation)                                                                                           \n",
            "                                                                                                  \n",
            " conv3_block3_3_conv (Conv2  (None, 28, 28, 512)          66048     ['conv3_block3_2_relu[0][0]'] \n",
            " D)                                                                                               \n",
            "                                                                                                  \n",
            " conv3_block3_3_bn (BatchNo  (None, 28, 28, 512)          2048      ['conv3_block3_3_conv[0][0]'] \n",
            " rmalization)                                                                                     \n",
            "                                                                                                  \n",
            " conv3_block3_add (Add)      (None, 28, 28, 512)          0         ['conv3_block2_out[0][0]',    \n",
            "                                                                     'conv3_block3_3_bn[0][0]']   \n",
            "                                                                                                  \n",
            " conv3_block3_out (Activati  (None, 28, 28, 512)          0         ['conv3_block3_add[0][0]']    \n",
            " on)                                                                                              \n",
            "                                                                                                  \n",
            " conv3_block4_1_conv (Conv2  (None, 28, 28, 128)          65664     ['conv3_block3_out[0][0]']    \n",
            " D)                                                                                               \n",
            "                                                                                                  \n",
            " conv3_block4_1_bn (BatchNo  (None, 28, 28, 128)          512       ['conv3_block4_1_conv[0][0]'] \n",
            " rmalization)                                                                                     \n",
            "                                                                                                  \n",
            " conv3_block4_1_relu (Activ  (None, 28, 28, 128)          0         ['conv3_block4_1_bn[0][0]']   \n",
            " ation)                                                                                           \n",
            "                                                                                                  \n",
            " conv3_block4_2_conv (Conv2  (None, 28, 28, 128)          147584    ['conv3_block4_1_relu[0][0]'] \n",
            " D)                                                                                               \n",
            "                                                                                                  \n",
            " conv3_block4_2_bn (BatchNo  (None, 28, 28, 128)          512       ['conv3_block4_2_conv[0][0]'] \n",
            " rmalization)                                                                                     \n",
            "                                                                                                  \n",
            " conv3_block4_2_relu (Activ  (None, 28, 28, 128)          0         ['conv3_block4_2_bn[0][0]']   \n",
            " ation)                                                                                           \n",
            "                                                                                                  \n",
            " conv3_block4_3_conv (Conv2  (None, 28, 28, 512)          66048     ['conv3_block4_2_relu[0][0]'] \n",
            " D)                                                                                               \n",
            "                                                                                                  \n",
            " conv3_block4_3_bn (BatchNo  (None, 28, 28, 512)          2048      ['conv3_block4_3_conv[0][0]'] \n",
            " rmalization)                                                                                     \n",
            "                                                                                                  \n",
            " conv3_block4_add (Add)      (None, 28, 28, 512)          0         ['conv3_block3_out[0][0]',    \n",
            "                                                                     'conv3_block4_3_bn[0][0]']   \n",
            "                                                                                                  \n",
            " conv3_block4_out (Activati  (None, 28, 28, 512)          0         ['conv3_block4_add[0][0]']    \n",
            " on)                                                                                              \n",
            "                                                                                                  \n",
            " conv4_block1_1_conv (Conv2  (None, 14, 14, 256)          131328    ['conv3_block4_out[0][0]']    \n",
            " D)                                                                                               \n",
            "                                                                                                  \n",
            " conv4_block1_1_bn (BatchNo  (None, 14, 14, 256)          1024      ['conv4_block1_1_conv[0][0]'] \n",
            " rmalization)                                                                                     \n",
            "                                                                                                  \n",
            " conv4_block1_1_relu (Activ  (None, 14, 14, 256)          0         ['conv4_block1_1_bn[0][0]']   \n",
            " ation)                                                                                           \n",
            "                                                                                                  \n",
            " conv4_block1_2_conv (Conv2  (None, 14, 14, 256)          590080    ['conv4_block1_1_relu[0][0]'] \n",
            " D)                                                                                               \n",
            "                                                                                                  \n",
            " conv4_block1_2_bn (BatchNo  (None, 14, 14, 256)          1024      ['conv4_block1_2_conv[0][0]'] \n",
            " rmalization)                                                                                     \n",
            "                                                                                                  \n",
            " conv4_block1_2_relu (Activ  (None, 14, 14, 256)          0         ['conv4_block1_2_bn[0][0]']   \n",
            " ation)                                                                                           \n",
            "                                                                                                  \n",
            " conv4_block1_0_conv (Conv2  (None, 14, 14, 1024)         525312    ['conv3_block4_out[0][0]']    \n",
            " D)                                                                                               \n",
            "                                                                                                  \n",
            " conv4_block1_3_conv (Conv2  (None, 14, 14, 1024)         263168    ['conv4_block1_2_relu[0][0]'] \n",
            " D)                                                                                               \n",
            "                                                                                                  \n",
            " conv4_block1_0_bn (BatchNo  (None, 14, 14, 1024)         4096      ['conv4_block1_0_conv[0][0]'] \n",
            " rmalization)                                                                                     \n",
            "                                                                                                  \n",
            " conv4_block1_3_bn (BatchNo  (None, 14, 14, 1024)         4096      ['conv4_block1_3_conv[0][0]'] \n",
            " rmalization)                                                                                     \n",
            "                                                                                                  \n",
            " conv4_block1_add (Add)      (None, 14, 14, 1024)         0         ['conv4_block1_0_bn[0][0]',   \n",
            "                                                                     'conv4_block1_3_bn[0][0]']   \n",
            "                                                                                                  \n",
            " conv4_block1_out (Activati  (None, 14, 14, 1024)         0         ['conv4_block1_add[0][0]']    \n",
            " on)                                                                                              \n",
            "                                                                                                  \n",
            " conv4_block2_1_conv (Conv2  (None, 14, 14, 256)          262400    ['conv4_block1_out[0][0]']    \n",
            " D)                                                                                               \n",
            "                                                                                                  \n",
            " conv4_block2_1_bn (BatchNo  (None, 14, 14, 256)          1024      ['conv4_block2_1_conv[0][0]'] \n",
            " rmalization)                                                                                     \n",
            "                                                                                                  \n",
            " conv4_block2_1_relu (Activ  (None, 14, 14, 256)          0         ['conv4_block2_1_bn[0][0]']   \n",
            " ation)                                                                                           \n",
            "                                                                                                  \n",
            " conv4_block2_2_conv (Conv2  (None, 14, 14, 256)          590080    ['conv4_block2_1_relu[0][0]'] \n",
            " D)                                                                                               \n",
            "                                                                                                  \n",
            " conv4_block2_2_bn (BatchNo  (None, 14, 14, 256)          1024      ['conv4_block2_2_conv[0][0]'] \n",
            " rmalization)                                                                                     \n",
            "                                                                                                  \n",
            " conv4_block2_2_relu (Activ  (None, 14, 14, 256)          0         ['conv4_block2_2_bn[0][0]']   \n",
            " ation)                                                                                           \n",
            "                                                                                                  \n",
            " conv4_block2_3_conv (Conv2  (None, 14, 14, 1024)         263168    ['conv4_block2_2_relu[0][0]'] \n",
            " D)                                                                                               \n",
            "                                                                                                  \n",
            " conv4_block2_3_bn (BatchNo  (None, 14, 14, 1024)         4096      ['conv4_block2_3_conv[0][0]'] \n",
            " rmalization)                                                                                     \n",
            "                                                                                                  \n",
            " conv4_block2_add (Add)      (None, 14, 14, 1024)         0         ['conv4_block1_out[0][0]',    \n",
            "                                                                     'conv4_block2_3_bn[0][0]']   \n",
            "                                                                                                  \n",
            " conv4_block2_out (Activati  (None, 14, 14, 1024)         0         ['conv4_block2_add[0][0]']    \n",
            " on)                                                                                              \n",
            "                                                                                                  \n",
            " conv4_block3_1_conv (Conv2  (None, 14, 14, 256)          262400    ['conv4_block2_out[0][0]']    \n",
            " D)                                                                                               \n",
            "                                                                                                  \n",
            " conv4_block3_1_bn (BatchNo  (None, 14, 14, 256)          1024      ['conv4_block3_1_conv[0][0]'] \n",
            " rmalization)                                                                                     \n",
            "                                                                                                  \n",
            " conv4_block3_1_relu (Activ  (None, 14, 14, 256)          0         ['conv4_block3_1_bn[0][0]']   \n",
            " ation)                                                                                           \n",
            "                                                                                                  \n",
            " conv4_block3_2_conv (Conv2  (None, 14, 14, 256)          590080    ['conv4_block3_1_relu[0][0]'] \n",
            " D)                                                                                               \n",
            "                                                                                                  \n",
            " conv4_block3_2_bn (BatchNo  (None, 14, 14, 256)          1024      ['conv4_block3_2_conv[0][0]'] \n",
            " rmalization)                                                                                     \n",
            "                                                                                                  \n",
            " conv4_block3_2_relu (Activ  (None, 14, 14, 256)          0         ['conv4_block3_2_bn[0][0]']   \n",
            " ation)                                                                                           \n",
            "                                                                                                  \n",
            " conv4_block3_3_conv (Conv2  (None, 14, 14, 1024)         263168    ['conv4_block3_2_relu[0][0]'] \n",
            " D)                                                                                               \n",
            "                                                                                                  \n",
            " conv4_block3_3_bn (BatchNo  (None, 14, 14, 1024)         4096      ['conv4_block3_3_conv[0][0]'] \n",
            " rmalization)                                                                                     \n",
            "                                                                                                  \n",
            " conv4_block3_add (Add)      (None, 14, 14, 1024)         0         ['conv4_block2_out[0][0]',    \n",
            "                                                                     'conv4_block3_3_bn[0][0]']   \n",
            "                                                                                                  \n",
            " conv4_block3_out (Activati  (None, 14, 14, 1024)         0         ['conv4_block3_add[0][0]']    \n",
            " on)                                                                                              \n",
            "                                                                                                  \n",
            " conv4_block4_1_conv (Conv2  (None, 14, 14, 256)          262400    ['conv4_block3_out[0][0]']    \n",
            " D)                                                                                               \n",
            "                                                                                                  \n",
            " conv4_block4_1_bn (BatchNo  (None, 14, 14, 256)          1024      ['conv4_block4_1_conv[0][0]'] \n",
            " rmalization)                                                                                     \n",
            "                                                                                                  \n",
            " conv4_block4_1_relu (Activ  (None, 14, 14, 256)          0         ['conv4_block4_1_bn[0][0]']   \n",
            " ation)                                                                                           \n",
            "                                                                                                  \n",
            " conv4_block4_2_conv (Conv2  (None, 14, 14, 256)          590080    ['conv4_block4_1_relu[0][0]'] \n",
            " D)                                                                                               \n",
            "                                                                                                  \n",
            " conv4_block4_2_bn (BatchNo  (None, 14, 14, 256)          1024      ['conv4_block4_2_conv[0][0]'] \n",
            " rmalization)                                                                                     \n",
            "                                                                                                  \n",
            " conv4_block4_2_relu (Activ  (None, 14, 14, 256)          0         ['conv4_block4_2_bn[0][0]']   \n",
            " ation)                                                                                           \n",
            "                                                                                                  \n",
            " conv4_block4_3_conv (Conv2  (None, 14, 14, 1024)         263168    ['conv4_block4_2_relu[0][0]'] \n",
            " D)                                                                                               \n",
            "                                                                                                  \n",
            " conv4_block4_3_bn (BatchNo  (None, 14, 14, 1024)         4096      ['conv4_block4_3_conv[0][0]'] \n",
            " rmalization)                                                                                     \n",
            "                                                                                                  \n",
            " conv4_block4_add (Add)      (None, 14, 14, 1024)         0         ['conv4_block3_out[0][0]',    \n",
            "                                                                     'conv4_block4_3_bn[0][0]']   \n",
            "                                                                                                  \n",
            " conv4_block4_out (Activati  (None, 14, 14, 1024)         0         ['conv4_block4_add[0][0]']    \n",
            " on)                                                                                              \n",
            "                                                                                                  \n",
            " conv4_block5_1_conv (Conv2  (None, 14, 14, 256)          262400    ['conv4_block4_out[0][0]']    \n",
            " D)                                                                                               \n",
            "                                                                                                  \n",
            " conv4_block5_1_bn (BatchNo  (None, 14, 14, 256)          1024      ['conv4_block5_1_conv[0][0]'] \n",
            " rmalization)                                                                                     \n",
            "                                                                                                  \n",
            " conv4_block5_1_relu (Activ  (None, 14, 14, 256)          0         ['conv4_block5_1_bn[0][0]']   \n",
            " ation)                                                                                           \n",
            "                                                                                                  \n",
            " conv4_block5_2_conv (Conv2  (None, 14, 14, 256)          590080    ['conv4_block5_1_relu[0][0]'] \n",
            " D)                                                                                               \n",
            "                                                                                                  \n",
            " conv4_block5_2_bn (BatchNo  (None, 14, 14, 256)          1024      ['conv4_block5_2_conv[0][0]'] \n",
            " rmalization)                                                                                     \n",
            "                                                                                                  \n",
            " conv4_block5_2_relu (Activ  (None, 14, 14, 256)          0         ['conv4_block5_2_bn[0][0]']   \n",
            " ation)                                                                                           \n",
            "                                                                                                  \n",
            " conv4_block5_3_conv (Conv2  (None, 14, 14, 1024)         263168    ['conv4_block5_2_relu[0][0]'] \n",
            " D)                                                                                               \n",
            "                                                                                                  \n",
            " conv4_block5_3_bn (BatchNo  (None, 14, 14, 1024)         4096      ['conv4_block5_3_conv[0][0]'] \n",
            " rmalization)                                                                                     \n",
            "                                                                                                  \n",
            " conv4_block5_add (Add)      (None, 14, 14, 1024)         0         ['conv4_block4_out[0][0]',    \n",
            "                                                                     'conv4_block5_3_bn[0][0]']   \n",
            "                                                                                                  \n",
            " conv4_block5_out (Activati  (None, 14, 14, 1024)         0         ['conv4_block5_add[0][0]']    \n",
            " on)                                                                                              \n",
            "                                                                                                  \n",
            " conv4_block6_1_conv (Conv2  (None, 14, 14, 256)          262400    ['conv4_block5_out[0][0]']    \n",
            " D)                                                                                               \n",
            "                                                                                                  \n",
            " conv4_block6_1_bn (BatchNo  (None, 14, 14, 256)          1024      ['conv4_block6_1_conv[0][0]'] \n",
            " rmalization)                                                                                     \n",
            "                                                                                                  \n",
            " conv4_block6_1_relu (Activ  (None, 14, 14, 256)          0         ['conv4_block6_1_bn[0][0]']   \n",
            " ation)                                                                                           \n",
            "                                                                                                  \n",
            " conv4_block6_2_conv (Conv2  (None, 14, 14, 256)          590080    ['conv4_block6_1_relu[0][0]'] \n",
            " D)                                                                                               \n",
            "                                                                                                  \n",
            " conv4_block6_2_bn (BatchNo  (None, 14, 14, 256)          1024      ['conv4_block6_2_conv[0][0]'] \n",
            " rmalization)                                                                                     \n",
            "                                                                                                  \n",
            " conv4_block6_2_relu (Activ  (None, 14, 14, 256)          0         ['conv4_block6_2_bn[0][0]']   \n",
            " ation)                                                                                           \n",
            "                                                                                                  \n",
            " conv4_block6_3_conv (Conv2  (None, 14, 14, 1024)         263168    ['conv4_block6_2_relu[0][0]'] \n",
            " D)                                                                                               \n",
            "                                                                                                  \n",
            " conv4_block6_3_bn (BatchNo  (None, 14, 14, 1024)         4096      ['conv4_block6_3_conv[0][0]'] \n",
            " rmalization)                                                                                     \n",
            "                                                                                                  \n",
            " conv4_block6_add (Add)      (None, 14, 14, 1024)         0         ['conv4_block5_out[0][0]',    \n",
            "                                                                     'conv4_block6_3_bn[0][0]']   \n",
            "                                                                                                  \n",
            " conv4_block6_out (Activati  (None, 14, 14, 1024)         0         ['conv4_block6_add[0][0]']    \n",
            " on)                                                                                              \n",
            "                                                                                                  \n",
            " conv5_block1_1_conv (Conv2  (None, 7, 7, 512)            524800    ['conv4_block6_out[0][0]']    \n",
            " D)                                                                                               \n",
            "                                                                                                  \n",
            " conv5_block1_1_bn (BatchNo  (None, 7, 7, 512)            2048      ['conv5_block1_1_conv[0][0]'] \n",
            " rmalization)                                                                                     \n",
            "                                                                                                  \n",
            " conv5_block1_1_relu (Activ  (None, 7, 7, 512)            0         ['conv5_block1_1_bn[0][0]']   \n",
            " ation)                                                                                           \n",
            "                                                                                                  \n",
            " conv5_block1_2_conv (Conv2  (None, 7, 7, 512)            2359808   ['conv5_block1_1_relu[0][0]'] \n",
            " D)                                                                                               \n",
            "                                                                                                  \n",
            " conv5_block1_2_bn (BatchNo  (None, 7, 7, 512)            2048      ['conv5_block1_2_conv[0][0]'] \n",
            " rmalization)                                                                                     \n",
            "                                                                                                  \n",
            " conv5_block1_2_relu (Activ  (None, 7, 7, 512)            0         ['conv5_block1_2_bn[0][0]']   \n",
            " ation)                                                                                           \n",
            "                                                                                                  \n",
            " conv5_block1_0_conv (Conv2  (None, 7, 7, 2048)           2099200   ['conv4_block6_out[0][0]']    \n",
            " D)                                                                                               \n",
            "                                                                                                  \n",
            " conv5_block1_3_conv (Conv2  (None, 7, 7, 2048)           1050624   ['conv5_block1_2_relu[0][0]'] \n",
            " D)                                                                                               \n",
            "                                                                                                  \n",
            " conv5_block1_0_bn (BatchNo  (None, 7, 7, 2048)           8192      ['conv5_block1_0_conv[0][0]'] \n",
            " rmalization)                                                                                     \n",
            "                                                                                                  \n",
            " conv5_block1_3_bn (BatchNo  (None, 7, 7, 2048)           8192      ['conv5_block1_3_conv[0][0]'] \n",
            " rmalization)                                                                                     \n",
            "                                                                                                  \n",
            " conv5_block1_add (Add)      (None, 7, 7, 2048)           0         ['conv5_block1_0_bn[0][0]',   \n",
            "                                                                     'conv5_block1_3_bn[0][0]']   \n",
            "                                                                                                  \n",
            " conv5_block1_out (Activati  (None, 7, 7, 2048)           0         ['conv5_block1_add[0][0]']    \n",
            " on)                                                                                              \n",
            "                                                                                                  \n",
            " conv5_block2_1_conv (Conv2  (None, 7, 7, 512)            1049088   ['conv5_block1_out[0][0]']    \n",
            " D)                                                                                               \n",
            "                                                                                                  \n",
            " conv5_block2_1_bn (BatchNo  (None, 7, 7, 512)            2048      ['conv5_block2_1_conv[0][0]'] \n",
            " rmalization)                                                                                     \n",
            "                                                                                                  \n",
            " conv5_block2_1_relu (Activ  (None, 7, 7, 512)            0         ['conv5_block2_1_bn[0][0]']   \n",
            " ation)                                                                                           \n",
            "                                                                                                  \n",
            " conv5_block2_2_conv (Conv2  (None, 7, 7, 512)            2359808   ['conv5_block2_1_relu[0][0]'] \n",
            " D)                                                                                               \n",
            "                                                                                                  \n",
            " conv5_block2_2_bn (BatchNo  (None, 7, 7, 512)            2048      ['conv5_block2_2_conv[0][0]'] \n",
            " rmalization)                                                                                     \n",
            "                                                                                                  \n",
            " conv5_block2_2_relu (Activ  (None, 7, 7, 512)            0         ['conv5_block2_2_bn[0][0]']   \n",
            " ation)                                                                                           \n",
            "                                                                                                  \n",
            " conv5_block2_3_conv (Conv2  (None, 7, 7, 2048)           1050624   ['conv5_block2_2_relu[0][0]'] \n",
            " D)                                                                                               \n",
            "                                                                                                  \n",
            " conv5_block2_3_bn (BatchNo  (None, 7, 7, 2048)           8192      ['conv5_block2_3_conv[0][0]'] \n",
            " rmalization)                                                                                     \n",
            "                                                                                                  \n",
            " conv5_block2_add (Add)      (None, 7, 7, 2048)           0         ['conv5_block1_out[0][0]',    \n",
            "                                                                     'conv5_block2_3_bn[0][0]']   \n",
            "                                                                                                  \n",
            " conv5_block2_out (Activati  (None, 7, 7, 2048)           0         ['conv5_block2_add[0][0]']    \n",
            " on)                                                                                              \n",
            "                                                                                                  \n",
            " conv5_block3_1_conv (Conv2  (None, 7, 7, 512)            1049088   ['conv5_block2_out[0][0]']    \n",
            " D)                                                                                               \n",
            "                                                                                                  \n",
            " conv5_block3_1_bn (BatchNo  (None, 7, 7, 512)            2048      ['conv5_block3_1_conv[0][0]'] \n",
            " rmalization)                                                                                     \n",
            "                                                                                                  \n",
            " conv5_block3_1_relu (Activ  (None, 7, 7, 512)            0         ['conv5_block3_1_bn[0][0]']   \n",
            " ation)                                                                                           \n",
            "                                                                                                  \n",
            " conv5_block3_2_conv (Conv2  (None, 7, 7, 512)            2359808   ['conv5_block3_1_relu[0][0]'] \n",
            " D)                                                                                               \n",
            "                                                                                                  \n",
            " conv5_block3_2_bn (BatchNo  (None, 7, 7, 512)            2048      ['conv5_block3_2_conv[0][0]'] \n",
            " rmalization)                                                                                     \n",
            "                                                                                                  \n",
            " conv5_block3_2_relu (Activ  (None, 7, 7, 512)            0         ['conv5_block3_2_bn[0][0]']   \n",
            " ation)                                                                                           \n",
            "                                                                                                  \n",
            " conv5_block3_3_conv (Conv2  (None, 7, 7, 2048)           1050624   ['conv5_block3_2_relu[0][0]'] \n",
            " D)                                                                                               \n",
            "                                                                                                  \n",
            " conv5_block3_3_bn (BatchNo  (None, 7, 7, 2048)           8192      ['conv5_block3_3_conv[0][0]'] \n",
            " rmalization)                                                                                     \n",
            "                                                                                                  \n",
            " conv5_block3_add (Add)      (None, 7, 7, 2048)           0         ['conv5_block2_out[0][0]',    \n",
            "                                                                     'conv5_block3_3_bn[0][0]']   \n",
            "                                                                                                  \n",
            " conv5_block3_out (Activati  (None, 7, 7, 2048)           0         ['conv5_block3_add[0][0]']    \n",
            " on)                                                                                              \n",
            "                                                                                                  \n",
            "==================================================================================================\n",
            "Total params: 23587712 (89.98 MB)\n",
            "Trainable params: 23534592 (89.78 MB)\n",
            "Non-trainable params: 53120 (207.50 KB)\n",
            "__________________________________________________________________________________________________\n",
            "None\n"
          ]
        }
      ]
    },
    {
      "cell_type": "code",
      "source": [
        "for layer in conv_base.layers:\n",
        "  layer.trainable = False"
      ],
      "metadata": {
        "id": "OBbaug9OK7_T"
      },
      "execution_count": 20,
      "outputs": []
    },
    {
      "cell_type": "code",
      "source": [
        "resnet_model = Sequential()\n",
        "resnet_model.add(conv_base)\n",
        "resnet_model.add(Flatten())\n",
        "resnet_model.add(Dense(512, activation = \"relu\"))\n",
        "resnet_model.add(Dense(1, activation = \"softmax\"))"
      ],
      "metadata": {
        "id": "QPx_kGsQLgH9"
      },
      "execution_count": 45,
      "outputs": []
    },
    {
      "cell_type": "code",
      "source": [
        "resnet_model.compile(optimizer = Adam(learning_rate = 0.001), loss = \"categorical_crossentropy\", metrics = ['accuracy'])"
      ],
      "metadata": {
        "id": "pHML0HBZNCz1"
      },
      "execution_count": 46,
      "outputs": []
    },
    {
      "cell_type": "code",
      "source": [
        "resized_images = np.reshape(resized_images, (-1, 224, 224, 3))"
      ],
      "metadata": {
        "id": "QC2LweYl0Zdm"
      },
      "execution_count": 47,
      "outputs": []
    },
    {
      "cell_type": "code",
      "source": [
        "y_train[:10]"
      ],
      "metadata": {
        "colab": {
          "base_uri": "https://localhost:8080/"
        },
        "id": "_vKOMxeA0wgU",
        "outputId": "54cef8bb-43a3-42ef-b4e6-0362f4497208"
      },
      "execution_count": 40,
      "outputs": [
        {
          "output_type": "execute_result",
          "data": {
            "text/plain": [
              "array([10, 10,  0,  4,  3,  0, 10,  8,  0, 10], dtype=int32)"
            ]
          },
          "metadata": {},
          "execution_count": 40
        }
      ]
    },
    {
      "cell_type": "code",
      "source": [
        "epochs = 2\n",
        "history = resnet_model.fit(resized_images, y_train[:283], epochs = epochs)"
      ],
      "metadata": {
        "colab": {
          "base_uri": "https://localhost:8080/"
        },
        "id": "ghmE1D7HNSKw",
        "outputId": "c5cccbf1-2803-4443-aecb-03326c1c71a1"
      },
      "execution_count": 48,
      "outputs": [
        {
          "output_type": "stream",
          "name": "stdout",
          "text": [
            "Epoch 1/2\n"
          ]
        },
        {
          "output_type": "stream",
          "name": "stderr",
          "text": [
            "/usr/local/lib/python3.10/dist-packages/tensorflow/python/util/dispatch.py:1260: SyntaxWarning: In loss categorical_crossentropy, expected y_pred.shape to be (batch_size, num_classes) with num_classes > 1. Received: y_pred.shape=(None, 1). Consider using 'binary_crossentropy' if you only have 2 classes.\n",
            "  return dispatch_target(*args, **kwargs)\n"
          ]
        },
        {
          "output_type": "stream",
          "name": "stdout",
          "text": [
            "9/9 [==============================] - 72s 7s/step - loss: nan - accuracy: 0.0565\n",
            "Epoch 2/2\n",
            "9/9 [==============================] - 64s 7s/step - loss: nan - accuracy: 0.0601\n"
          ]
        }
      ]
    },
    {
      "cell_type": "code",
      "source": [
        "import tensorflow\n",
        "resnet_model.save(\"resnet.h5\")"
      ],
      "metadata": {
        "colab": {
          "base_uri": "https://localhost:8080/"
        },
        "id": "jjx4SEm61oLY",
        "outputId": "ef97d579-2609-4118-e3fb-16fe671e4926"
      },
      "execution_count": 52,
      "outputs": [
        {
          "output_type": "stream",
          "name": "stderr",
          "text": [
            "/usr/local/lib/python3.10/dist-packages/keras/src/engine/training.py:3103: UserWarning: You are saving your model as an HDF5 file via `model.save()`. This file format is considered legacy. We recommend using instead the native Keras format, e.g. `model.save('my_model.keras')`.\n",
            "  saving_api.save_model(\n"
          ]
        }
      ]
    },
    {
      "cell_type": "code",
      "source": [
        "def plot_grid(pred = False):\n",
        "    fig=plt.figure(figsize=(8, 8))\n",
        "    columns = 3\n",
        "    rows = 3\n",
        "    for i in range(1, columns*rows +1):\n",
        "        index = np.random.randint(resized_images.shape[0])\n",
        "        fig.add_subplot(rows, columns, i)\n",
        "        plt.imshow(resized_images[index], cmap = plt.get_cmap(\"gray\"))\n",
        "        plt.xticks([])\n",
        "        plt.yticks([])\n",
        "        plt.xlabel(f\"Label: {y_test[index]}\")\n",
        "    plt.tight_layout()\n",
        "    plt.show()"
      ],
      "metadata": {
        "id": "ifldrt-EcmOt"
      },
      "execution_count": 26,
      "outputs": []
    },
    {
      "cell_type": "code",
      "source": [
        "plot_grid()"
      ],
      "metadata": {
        "colab": {
          "base_uri": "https://localhost:8080/",
          "height": 663
        },
        "id": "AnUTrqrYDKqj",
        "outputId": "7bdd2d76-3a62-4644-ff7b-c5b373449fd6"
      },
      "execution_count": 27,
      "outputs": [
        {
          "output_type": "display_data",
          "data": {
            "text/plain": [
              "<Figure size 800x800 with 9 Axes>"
            ],
            "image/png": "[encoded data removed]"
          },
          "metadata": {}
        }
      ]
    },
    {
      "cell_type": "markdown",
      "source": [
        "# 4. Cross-Language System with Goslate API\n",
        "The Cross-Language System integrates the Goslate API, a powerful tool for language translation and detection. The system allows users to translate content seamlessly between different languages, facilitating cross-language information retrieval and accessibility. Goslate utilizes machine translation techniques to convert text from one language to another, enabling users to overcome language barriers and access information in their preferred language. Additionally, the system employs maximum likelihood principles and algorithms such as Langid, Textblob, and Langdetect to detect the language of the input text accurately. This ensures that the translation process is optimized for accuracy and reliability."
      ],
      "metadata": {
        "id": "sLG5kegnpLUa"
      }
    },
    {
      "cell_type": "code",
      "source": [
        "!pip install langdetect\n",
        "!pip install textblob\n",
        "!pip install langid"
      ],
      "metadata": {
        "colab": {
          "base_uri": "https://localhost:8080/"
        },
        "id": "aFQ0pZk3Q7uH",
        "outputId": "877bcc22-e985-4b59-925d-7805ab351492"
      },
      "execution_count": null,
      "outputs": [
        {
          "output_type": "stream",
          "name": "stdout",
          "text": [
            "Collecting langdetect\n",
            "  Downloading langdetect-1.0.9.tar.gz (981 kB)\n",
            "\u001b[2K     \u001b[90m━━━━━━━━━━━━━━━━━━━━━━━━━━━━━━━━━━━━━━━━\u001b[0m \u001b[32m981.5/981.5 kB\u001b[0m \u001b[31m5.1 MB/s\u001b[0m eta \u001b[36m0:00:00\u001b[0m\n",
            "\u001b[?25h  Preparing metadata (setup.py) ... \u001b[?25l\u001b[?25hdone\n",
            "Requirement already satisfied: six in /usr/local/lib/python3.10/dist-packages (from langdetect) (1.16.0)\n",
            "Building wheels for collected packages: langdetect\n",
            "  Building wheel for langdetect (setup.py) ... \u001b[?25l\u001b[?25hdone\n",
            "  Created wheel for langdetect: filename=langdetect-1.0.9-py3-none-any.whl size=993225 sha256=697ff35e231760d91a2408e38f53dcf5cf27a369a4572e5af03548e984960924\n",
            "  Stored in directory: /root/.cache/pip/wheels/95/03/7d/59ea870c70ce4e5a370638b5462a7711ab78fba2f655d05106\n",
            "Successfully built langdetect\n",
            "Installing collected packages: langdetect\n",
            "Successfully installed langdetect-1.0.9\n",
            "Requirement already satisfied: textblob in /usr/local/lib/python3.10/dist-packages (0.17.1)\n",
            "Requirement already satisfied: nltk>=3.1 in /usr/local/lib/python3.10/dist-packages (from textblob) (3.8.1)\n",
            "Requirement already satisfied: click in /usr/local/lib/python3.10/dist-packages (from nltk>=3.1->textblob) (8.1.7)\n",
            "Requirement already satisfied: joblib in /usr/local/lib/python3.10/dist-packages (from nltk>=3.1->textblob) (1.3.2)\n",
            "Requirement already satisfied: regex>=2021.8.3 in /usr/local/lib/python3.10/dist-packages (from nltk>=3.1->textblob) (2023.12.25)\n",
            "Requirement already satisfied: tqdm in /usr/local/lib/python3.10/dist-packages (from nltk>=3.1->textblob) (4.66.1)\n",
            "Collecting langid\n",
            "  Downloading langid-1.1.6.tar.gz (1.9 MB)\n",
            "\u001b[2K     \u001b[90m━━━━━━━━━━━━━━━━━━━━━━━━━━━━━━━━━━━━━━━━\u001b[0m \u001b[32m1.9/1.9 MB\u001b[0m \u001b[31m8.8 MB/s\u001b[0m eta \u001b[36m0:00:00\u001b[0m\n",
            "\u001b[?25h  Preparing metadata (setup.py) ... \u001b[?25l\u001b[?25hdone\n",
            "Requirement already satisfied: numpy in /usr/local/lib/python3.10/dist-packages (from langid) (1.23.5)\n",
            "Building wheels for collected packages: langid\n",
            "  Building wheel for langid (setup.py) ... \u001b[?25l\u001b[?25hdone\n",
            "  Created wheel for langid: filename=langid-1.1.6-py3-none-any.whl size=1941172 sha256=1d746001743fa60829cf381620030e27a4f0500bee10756d955728cffea8940e\n",
            "  Stored in directory: /root/.cache/pip/wheels/23/c8/c6/eed80894918490a175677414d40bd7c851413bbe03d4856c3c\n",
            "Successfully built langid\n",
            "Installing collected packages: langid\n",
            "Successfully installed langid-1.1.6\n"
          ]
        }
      ]
    },
    {
      "cell_type": "code",
      "source": [
        "from langdetect import detect\n",
        "from textblob import TextBlob\n",
        "import langid\n",
        "from collections import Counter\n",
        "document = \"你好！\"\n",
        "\n",
        "def detect_majority_language(doc):\n",
        "    blob = TextBlob(doc)\n",
        "    pred = [langid.classify(doc)[0], detect(doc)]\n",
        "    majority_language = Counter(pred).most_common(1)[0][0]\n",
        "    return majority_language"
      ],
      "metadata": {
        "id": "GWgv9iC8Nulz"
      },
      "execution_count": null,
      "outputs": []
    },
    {
      "cell_type": "code",
      "source": [
        "detect_majority_language(document)"
      ],
      "metadata": {
        "colab": {
          "base_uri": "https://localhost:8080/",
          "height": 36
        },
        "id": "Y3q-121AX-uF",
        "outputId": "a817133c-474d-4816-a704-866221a70e5d"
      },
      "execution_count": null,
      "outputs": [
        {
          "output_type": "execute_result",
          "data": {
            "text/plain": [
              "'zh'"
            ],
            "application/vnd.google.colaboratory.intrinsic+json": {
              "type": "string"
            }
          },
          "metadata": {},
          "execution_count": 94
        }
      ]
    },
    {
      "cell_type": "code",
      "source": [
        "!pip install goslate"
      ],
      "metadata": {
        "colab": {
          "base_uri": "https://localhost:8080/",
          "height": 411
        },
        "id": "MQpkylGbdKY5",
        "outputId": "4a497670-e30c-4561-d8e4-1c68e96f1673"
      },
      "execution_count": null,
      "outputs": [
        {
          "output_type": "stream",
          "name": "stdout",
          "text": [
            "Collecting goslate\n",
            "  Downloading goslate-1.5.4.tar.gz (14 kB)\n",
            "  Preparing metadata (setup.py) ... \u001b[?25l\u001b[?25hdone\n",
            "Collecting futures (from goslate)\n",
            "  Downloading futures-3.0.5.tar.gz (25 kB)\n",
            "  Preparing metadata (setup.py) ... \u001b[?25l\u001b[?25hdone\n",
            "Building wheels for collected packages: goslate, futures\n",
            "  Building wheel for goslate (setup.py) ... \u001b[?25l\u001b[?25hdone\n",
            "  Created wheel for goslate: filename=goslate-1.5.4-py3-none-any.whl size=11580 sha256=b2e2c688afcc57f9f9e07e813a503d15290017fb04613d167f07e5b88c1dc81d\n",
            "  Stored in directory: /root/.cache/pip/wheels/b5/30/e9/63b6de83667be2977ee793a146a2c80f8e588d5c0203b39dc9\n",
            "  Building wheel for futures (setup.py) ... \u001b[?25l\u001b[?25hdone\n",
            "  Created wheel for futures: filename=futures-3.0.5-py3-none-any.whl size=14068 sha256=38be309d36a94f058e2970c1e6b2d2acb204b99133ac1962dd817d5e49a4367d\n",
            "  Stored in directory: /root/.cache/pip/wheels/ef/af/93/48739d464ba97d4cdc77c627d282f9794c8d276e42aaa92160\n",
            "Successfully built goslate futures\n",
            "Installing collected packages: futures, goslate\n",
            "Successfully installed futures-3.0.5 goslate-1.5.4\n"
          ]
        },
        {
          "output_type": "display_data",
          "data": {
            "application/vnd.colab-display-data+json": {
              "pip_warning": {
                "packages": [
                  "concurrent"
                ]
              }
            }
          },
          "metadata": {}
        }
      ]
    },
    {
      "cell_type": "code",
      "source": [
        "import goslate\n",
        "primary_text = 'Love you a lot '\n",
        "gs = goslate.Goslate()\n",
        "gs.translate(primary_text, detect_majority_language(document))"
      ],
      "metadata": {
        "colab": {
          "base_uri": "https://localhost:8080/",
          "height": 36
        },
        "id": "6GZAvkxdcAm8",
        "outputId": "671cbeec-825b-4cc7-954a-6fecc78b6d7b"
      },
      "execution_count": null,
      "outputs": [
        {
          "output_type": "execute_result",
          "data": {
            "text/plain": [
              "'爱你很多'"
            ],
            "application/vnd.google.colaboratory.intrinsic+json": {
              "type": "string"
            }
          },
          "metadata": {},
          "execution_count": 104
        }
      ]
    },
    {
      "cell_type": "markdown",
      "source": [
        "# 5. **Next Word Prediction using LSTM**\n",
        "Long Short-Term Memory (LSTM) networks are a type of recurrent neural network (RNN) architecture designed to capture long-term dependencies in sequential data. In the project, LSTM models are trained on the text extracted from the uploaded PDF documents to predict the next word in a sequence. By learning the contextual relationships between words and capturing patterns in the text data, LSTM models can generate accurate predictions about the next word that is likely to follow in a given context. This functionality enhances user experience by providing predictive text suggestions and facilitating smoother interaction with the document content."
      ],
      "metadata": {
        "id": "xOqG_hefG7Ts"
      }
    },
    {
      "cell_type": "markdown",
      "source": [
        "**Word2Vec** **embedding**\n"
      ],
      "metadata": {
        "id": "3MKPNIOPf5ak"
      }
    },
    {
      "cell_type": "code",
      "source": [
        "from gensim.models import Word2Vec\n",
        "from nltk.tokenize import sent_tokenize\n",
        "sentences = sent_tokenize(text_content)\n",
        "\n",
        "# Tokenize sentences into words\n",
        "tokenized_sentences = [word_tokenize(sentence.lower()) for sentence in sentences]\n",
        "model = Word2Vec(tokenized_sentences, vector_size=100, window=5, min_count=1, workers=4)\n",
        "\n",
        "# Access word embeddings\n",
        "#vector = model.wv['word']\n",
        "similar_words = model.wv.most_similar(['yet'])#last word written by user"
      ],
      "metadata": {
        "id": "Q6K6wUGfG68Y"
      },
      "execution_count": null,
      "outputs": []
    },
    {
      "cell_type": "code",
      "source": [
        "# Sort the list of (word, similarity) tuples based on similarity score\n",
        "similar_words_sorted = sorted(similar_words, key=lambda x: x[1], reverse = True)\n",
        "\n",
        "sorted_words = [word for word, _ in similar_words_sorted]\n",
        "\n",
        "print(sorted_words[:5])"
      ],
      "metadata": {
        "colab": {
          "base_uri": "https://localhost:8080/"
        },
        "id": "ZF8p7gV2Ht8J",
        "outputId": "eb88ba41-89bd-42cc-8bea-4f25ecdc9d9c"
      },
      "execution_count": null,
      "outputs": [
        {
          "output_type": "stream",
          "name": "stdout",
          "text": [
            "['countries', 'who', 'is', 'for', 'we']\n"
          ]
        }
      ]
    },
    {
      "cell_type": "markdown",
      "source": [
        "**LSTM model**\n",
        "\n",
        "Long Short-Term Memory (LSTM) networks consist of memory cells and gates that regulate the flow of information through the network over time. The architecture allows LSTMs to capture long-range dependencies in sequential data and mitigate the vanishing gradient problem commonly encountered in traditional RNNs."
      ],
      "metadata": {
        "id": "9xEbGnTyf9Jh"
      }
    },
    {
      "cell_type": "code",
      "source": [
        "input_seqs = []\n",
        "from tensorflow.keras.preprocessing.text import Tokenizer\n",
        "\n",
        "data = text_content.replace('\\n', '').replace('\\r', '').replace('\"', '').replace('\"', '').replace('\\ufeff', '')\n",
        "data = data.split()\n",
        "data = ' '.join(data)\n",
        "tokenizer = Tokenizer()\n",
        "tokenizer.fit_on_texts([data])\n",
        "\n",
        "#saving the tokenizer for predict function\n",
        "import pickle\n",
        "pickle.dump(tokenizer, open('token.pkl', 'wb'))\n",
        "\n",
        "token_sent = tokenizer.texts_to_sequences([data])[0]\n",
        "\n",
        "max_len = len(token_sent)\n",
        "max_len"
      ],
      "metadata": {
        "colab": {
          "base_uri": "https://localhost:8080/"
        },
        "id": "d8pU45vjVICD",
        "outputId": "51d3664d-f15b-4098-e48e-fc0addbc92b2"
      },
      "execution_count": null,
      "outputs": [
        {
          "output_type": "execute_result",
          "data": {
            "text/plain": [
              "26324"
            ]
          },
          "metadata": {},
          "execution_count": 5
        }
      ]
    },
    {
      "cell_type": "code",
      "source": [
        "vocab_size = len(tokenizer.word_index)+1\n",
        "vocab_size"
      ],
      "metadata": {
        "colab": {
          "base_uri": "https://localhost:8080/"
        },
        "id": "V_wON6VkV4KW",
        "outputId": "57aab4c5-2c37-4e8e-ee3c-8460ac2931d7"
      },
      "execution_count": null,
      "outputs": [
        {
          "output_type": "execute_result",
          "data": {
            "text/plain": [
              "4658"
            ]
          },
          "metadata": {},
          "execution_count": 6
        }
      ]
    },
    {
      "cell_type": "code",
      "source": [
        "sq = []\n",
        "import numpy as np\n",
        "for i in range(3, max_len):\n",
        "  words = token_sent[i-3:i+1]\n",
        "  sq.append(words)\n",
        "\n",
        "print(\"Length of sequences are:\", len(sq))\n",
        "sq = np.array(sq)\n",
        "sq[:10]"
      ],
      "metadata": {
        "colab": {
          "base_uri": "https://localhost:8080/"
        },
        "id": "S8HO0oVSa4uS",
        "outputId": "41c196ae-bf93-4007-c1ba-2d03ec4b9d29"
      },
      "execution_count": null,
      "outputs": [
        {
          "output_type": "stream",
          "name": "stdout",
          "text": [
            "Length of sequences are: 26321\n"
          ]
        },
        {
          "output_type": "execute_result",
          "data": {
            "text/plain": [
              "array([[ 204,    8,  779,  662],\n",
              "       [   8,  779,  662, 1814],\n",
              "       [ 779,  662, 1814,  204],\n",
              "       [ 662, 1814,  204,    8],\n",
              "       [1814,  204,    8, 1815],\n",
              "       [ 204,    8, 1815,   69],\n",
              "       [   8, 1815,   69,  942],\n",
              "       [1815,   69,  942, 1816],\n",
              "       [  69,  942, 1816,   47],\n",
              "       [ 942, 1816,   47, 1215]])"
            ]
          },
          "metadata": {},
          "execution_count": 8
        }
      ]
    },
    {
      "cell_type": "code",
      "source": [
        "#from tensorflow.keras.preprocessing.sequence import pad_sequences\n",
        "#padded = pad_sequences(sq, maxlen = max_len, padding = 'post')\n",
        "\n",
        "X = []\n",
        "Y = []\n",
        "for i in sq:\n",
        "  X.append(i[0:3])\n",
        "  Y.append(i[3])\n",
        "\n",
        "X = np.array(X)\n",
        "Y = np.array(Y)\n",
        "\n",
        "from tensorflow.keras.utils import to_categorical\n",
        "y = to_categorical(Y, num_classes = vocab_size)\n",
        "y[:5]"
      ],
      "metadata": {
        "id": "UPCCPVRJWau0",
        "colab": {
          "base_uri": "https://localhost:8080/"
        },
        "outputId": "a324aac7-9be4-4e07-a7b5-a2e6e5b7a16a"
      },
      "execution_count": null,
      "outputs": [
        {
          "output_type": "execute_result",
          "data": {
            "text/plain": [
              "array([[0., 0., 0., ..., 0., 0., 0.],\n",
              "       [0., 0., 0., ..., 0., 0., 0.],\n",
              "       [0., 0., 0., ..., 0., 0., 0.],\n",
              "       [0., 0., 0., ..., 0., 0., 0.],\n",
              "       [0., 0., 0., ..., 0., 0., 0.]], dtype=float32)"
            ]
          },
          "metadata": {},
          "execution_count": 9
        }
      ]
    },
    {
      "cell_type": "code",
      "source": [
        "X.shape"
      ],
      "metadata": {
        "colab": {
          "base_uri": "https://localhost:8080/"
        },
        "id": "hvHHDV0AYnv8",
        "outputId": "0a53edbb-7aff-4d2f-d8dd-86dfffe01e5d"
      },
      "execution_count": null,
      "outputs": [
        {
          "output_type": "execute_result",
          "data": {
            "text/plain": [
              "(26321, 3)"
            ]
          },
          "metadata": {},
          "execution_count": 10
        }
      ]
    },
    {
      "cell_type": "code",
      "source": [
        "from tensorflow.keras.models import Sequential\n",
        "from tensorflow.keras.layers import LSTM, Embedding, Dense\n",
        "\n",
        "# Define the LSTM model\n",
        "model = Sequential([\n",
        "    Embedding(vocab_size, 15, input_length=3),\n",
        "    LSTM(150),\n",
        "    Dense(vocab_size, activation='softmax')\n",
        "])\n",
        "#xhecpoints to save model at regular time intervals\n",
        "from tensorflow.keras.callbacks import ModelCheckpoint\n",
        "\n",
        "#saves the model at ---> next_words.h5\n",
        "checkpoint = ModelCheckpoint('next_words.h5', monitor = 'loss', verbose = 1, save_best_only = True)\n",
        "# Compile the model\n",
        "model.compile(loss='categorical_crossentropy', optimizer='adam', metrics=['accuracy'])\n",
        "\n",
        "# Train the model\n",
        "model.fit(X, y, epochs=3, batch_size=2, callbacks = [checkpoint])\n",
        "\n",
        "# Evaluate the model\n",
        "#loss, accuracy = model.evaluate(X_test, y_test)\n",
        "#print(\"Test Loss:\", loss)\n",
        "#print(\"Test Accuracy:\", accuracy)\n",
        "\n",
        "# Use the model for inference\n",
        "#predicted_probabilities = model.predict(sq)\n"
      ],
      "metadata": {
        "colab": {
          "base_uri": "https://localhost:8080/"
        },
        "id": "tyo9HP3mV3Zt",
        "outputId": "389e8b9f-67d9-4d7b-bffd-a32339c015f4"
      },
      "execution_count": null,
      "outputs": [
        {
          "output_type": "stream",
          "name": "stdout",
          "text": [
            "Epoch 1/3\n",
            "13158/13161 [============================>.] - ETA: 0s - loss: 6.9612 - accuracy: 0.0664\n",
            "Epoch 1: loss improved from inf to 6.96118, saving model to next_words.h5\n",
            "13161/13161 [==============================] - 222s 17ms/step - loss: 6.9612 - accuracy: 0.0664\n",
            "Epoch 2/3\n",
            "    7/13161 [..............................] - ETA: 3:43 - loss: 5.9238 - accuracy: 0.0000e+00"
          ]
        },
        {
          "output_type": "stream",
          "name": "stderr",
          "text": [
            "/usr/local/lib/python3.10/dist-packages/keras/src/engine/training.py:3103: UserWarning: You are saving your model as an HDF5 file via `model.save()`. This file format is considered legacy. We recommend using instead the native Keras format, e.g. `model.save('my_model.keras')`.\n",
            "  saving_api.save_model(\n"
          ]
        },
        {
          "output_type": "stream",
          "name": "stdout",
          "text": [
            "13161/13161 [==============================] - ETA: 0s - loss: 6.3211 - accuracy: 0.1144\n",
            "Epoch 2: loss improved from 6.96118 to 6.32109, saving model to next_words.h5\n",
            "13161/13161 [==============================] - 217s 16ms/step - loss: 6.3211 - accuracy: 0.1144\n",
            "Epoch 3/3\n",
            "13160/13161 [============================>.] - ETA: 0s - loss: 5.9360 - accuracy: 0.1516\n",
            "Epoch 3: loss improved from 6.32109 to 5.93602, saving model to next_words.h5\n",
            "13161/13161 [==============================] - 215s 16ms/step - loss: 5.9360 - accuracy: 0.1516\n"
          ]
        },
        {
          "output_type": "execute_result",
          "data": {
            "text/plain": [
              "<keras.src.callbacks.History at 0x7f69d088f610>"
            ]
          },
          "metadata": {},
          "execution_count": 18
        }
      ]
    },
    {
      "cell_type": "code",
      "source": [
        "model.summary()"
      ],
      "metadata": {
        "colab": {
          "base_uri": "https://localhost:8080/"
        },
        "id": "ZTFXrCkXXO5i",
        "outputId": "cf8e0614-0049-47ab-afec-ccf0cf6d4ffb"
      },
      "execution_count": null,
      "outputs": [
        {
          "output_type": "stream",
          "name": "stdout",
          "text": [
            "Model: \"sequential\"\n",
            "_________________________________________________________________\n",
            " Layer (type)                Output Shape              Param #   \n",
            "=================================================================\n",
            " embedding (Embedding)       (None, 3, 15)             69870     \n",
            "                                                                 \n",
            " lstm (LSTM)                 (None, 150)               99600     \n",
            "                                                                 \n",
            " dense (Dense)               (None, 4658)              703358    \n",
            "                                                                 \n",
            "=================================================================\n",
            "Total params: 872828 (3.33 MB)\n",
            "Trainable params: 872828 (3.33 MB)\n",
            "Non-trainable params: 0 (0.00 Byte)\n",
            "_________________________________________________________________\n"
          ]
        }
      ]
    },
    {
      "cell_type": "code",
      "source": [
        "from tensorflow import keras\n",
        "from tensorflow.keras.utils import plot_model\n",
        "\n",
        "keras.utils.plot_model(model, to_file = 'plot.png', show_layer_names = True)"
      ],
      "metadata": {
        "colab": {
          "base_uri": "https://localhost:8080/",
          "height": 369
        },
        "id": "anDhawRacOl0",
        "outputId": "e13baf7d-b358-4743-acf9-9e32eb473018"
      },
      "execution_count": null,
      "outputs": [
        {
          "output_type": "execute_result",
          "data": {
            "image/png": "[encoded data removed]",
            "text/plain": [
              "<IPython.core.display.Image object>"
            ]
          },
          "metadata": {},
          "execution_count": 15
        }
      ]
    },
    {
      "cell_type": "code",
      "source": [
        "from tensorflow import keras\n",
        "from tensorflow.keras.models import load_model\n",
        "import numpy as np\n",
        "import pickle\n",
        "\n",
        "model = load_model('next_words.h5')\n",
        "tokenizer = pickle.load(open('token.pkl', 'rb'))\n",
        "\n",
        "def predict(model, tokenizer, text):\n",
        "  s = tokenizer.texts_to_sequences([text])\n",
        "  s = np.array(s)\n",
        "  preds = np.argmax(model.predict(s))\n",
        "  predicted = \"\"\n",
        "\n",
        "  for key, value in tokenizer.word_index.items():\n",
        "    if value == preds:\n",
        "      predicted += key\n",
        "\n",
        "  return predicted"
      ],
      "metadata": {
        "id": "nuc0VqH9ckYJ"
      },
      "execution_count": null,
      "outputs": []
    },
    {
      "cell_type": "code",
      "source": [
        "while(True):\n",
        "  text = input()\n",
        "  if(text == ''):\n",
        "    break\n",
        "  else:\n",
        "    text = text.split(\" \")\n",
        "    text = text[-3:]\n",
        "\n",
        "    print(predict(model, tokenizer, text))"
      ],
      "metadata": {
        "colab": {
          "base_uri": "https://localhost:8080/"
        },
        "id": "M3EIAQvCfAXi",
        "outputId": "aaab8a99-fb8c-48b4-e0d1-55725155d575"
      },
      "execution_count": null,
      "outputs": [
        {
          "name": "stdout",
          "output_type": "stream",
          "text": [
            "\n"
          ]
        }
      ]
    }
  ]
}